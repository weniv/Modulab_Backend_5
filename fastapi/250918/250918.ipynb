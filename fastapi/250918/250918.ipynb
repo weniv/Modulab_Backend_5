{
  "nbformat": 4,
  "nbformat_minor": 0,
  "metadata": {
    "colab": {
      "provenance": []
    },
    "kernelspec": {
      "name": "python3",
      "display_name": "Python 3"
    },
    "language_info": {
      "name": "python"
    }
  },
  "cells": [
    {
      "cell_type": "code",
      "execution_count": 4,
      "metadata": {
        "colab": {
          "base_uri": "https://localhost:8080/"
        },
        "id": "UBvlsHicQzm-",
        "outputId": "e55901f1-fa20-44c9-8909-f2784a56ad4f"
      },
      "outputs": [
        {
          "output_type": "execute_result",
          "data": {
            "text/plain": [
              "<sqlite3.Cursor at 0x7b6619737740>"
            ]
          },
          "metadata": {},
          "execution_count": 4
        }
      ],
      "source": [
        "import sqlite3\n",
        "\n",
        "conn = sqlite3.connect('example.db')\n",
        "cursor = conn.cursor()\n",
        "\n",
        "# 테이블 생성\n",
        "# TABLE IF NOT EXISTS users: 유저가 있지 않으면\n",
        "# 컬럼명은 id, name, age로 편성하고\n",
        "# id는 자동으로 증가되는 숫자값\n",
        "# name은 비울수 없는 값\n",
        "# age는 숫자값\n",
        "cursor.execute(\n",
        "    '''\n",
        "    CREATE TABLE IF NOT EXISTS users (\n",
        "      id INTEGER PRIMARY KEY,\n",
        "      name TEXT NOT NULL,\n",
        "      age INTEGER\n",
        "    )\n",
        "    '''\n",
        ")\n",
        "\n"
      ]
    },
    {
      "cell_type": "code",
      "source": [
        "# 데이터 삽입\n",
        "cursor.execute('INSERT INTO users (name,age) VALUES (\"홍길동\",20)')\n",
        "\n",
        "cursor.execute('INSERT INTO users (name,age) VALUES (\"김철수\",30)')\n",
        "\n",
        "cursor.execute('INSERT INTO users (name,age) VALUES (\"김숙희\",30)')\n",
        "# 삽입된 내용 db에 반영\n",
        "conn.commit()"
      ],
      "metadata": {
        "id": "qcorpsV2TT7_"
      },
      "execution_count": 5,
      "outputs": []
    },
    {
      "cell_type": "code",
      "source": [
        "# 삽입된 데이터 확인\n",
        "\n",
        "# cursor.execute는 SQL 구문을 실행하는 것이고\n",
        "# 구문을 실행한 것을 보여주진 않습니다.\n",
        "cursor.execute('SELECT * FROM users')\n",
        "# 결과를 보기위해서는 fetch를 해야 합니다.\n",
        "# 다 가져오는 것은 fetchall이고 하나만 가져오는 것은 fetchone 입니다.\n",
        "print(cursor.fetchall())\n"
      ],
      "metadata": {
        "colab": {
          "base_uri": "https://localhost:8080/"
        },
        "id": "K_5UL9G1UVCI",
        "outputId": "97ed6d22-87b7-4646-c23d-235fad412a24"
      },
      "execution_count": 6,
      "outputs": [
        {
          "output_type": "stream",
          "name": "stdout",
          "text": [
            "[(1, '홍길동', 20), (2, '김철수', 30), (3, '김숙희', 30)]\n"
          ]
        }
      ]
    },
    {
      "cell_type": "code",
      "source": [
        "# 데이터 수정\n",
        "cursor.execute('UPDATE users SET age = ? WHERE name = ?',(25,'김철수') )\n",
        "conn.commit()"
      ],
      "metadata": {
        "colab": {
          "base_uri": "https://localhost:8080/"
        },
        "id": "25SUpWbJU6Nx",
        "outputId": "a20002ff-aba1-45ff-e705-a1781e37b999"
      },
      "execution_count": 7,
      "outputs": [
        {
          "output_type": "execute_result",
          "data": {
            "text/plain": [
              "<sqlite3.Cursor at 0x7b6619737740>"
            ]
          },
          "metadata": {},
          "execution_count": 7
        }
      ]
    },
    {
      "cell_type": "code",
      "source": [
        "cursor.execute('SELECT * FROM users')\n",
        "print(cursor.fetchall())"
      ],
      "metadata": {
        "colab": {
          "base_uri": "https://localhost:8080/"
        },
        "id": "WhyEO33GV33s",
        "outputId": "81f9a3d2-8f98-450f-f303-f32b59a385ae"
      },
      "execution_count": 8,
      "outputs": [
        {
          "output_type": "stream",
          "name": "stdout",
          "text": [
            "[(1, '홍길동', 20), (2, '김철수', 25), (3, '김숙희', 30)]\n"
          ]
        }
      ]
    },
    {
      "cell_type": "code",
      "source": [
        "# 데이터 삭제\n",
        "cursor.execute('DELETE FROM users WHERE name = ?',('김철수',))\n",
        "conn.commit()"
      ],
      "metadata": {
        "id": "M6ZOg3iqWGRG"
      },
      "execution_count": 11,
      "outputs": []
    },
    {
      "cell_type": "code",
      "source": [
        "cursor.execute('SELECT * FROM users')\n",
        "print(cursor.fetchall())"
      ],
      "metadata": {
        "colab": {
          "base_uri": "https://localhost:8080/"
        },
        "id": "Re0RMDo8WSDg",
        "outputId": "bd10510f-33e0-4336-985b-e2b59f6fbbe7"
      },
      "execution_count": 12,
      "outputs": [
        {
          "output_type": "stream",
          "name": "stdout",
          "text": [
            "[(1, '홍길동', 20), (3, '김숙희', 30)]\n"
          ]
        }
      ]
    },
    {
      "cell_type": "code",
      "source": [
        "# db연결해제\n",
        "conn.close()"
      ],
      "metadata": {
        "id": "XZGBczzCWyfY"
      },
      "execution_count": 13,
      "outputs": []
    },
    {
      "cell_type": "markdown",
      "source": [
        "# SQLite3 CRUD 연습문제\n",
        "\n",
        "## 🎯 문제 1: 학생 관리 시스템\n",
        "\n",
        "### 1단계: 테이블 만들기\n",
        "- `school.db` 데이터베이스에 연결하세요\n",
        "- `students` 테이블을 만드세요\n",
        "  - id: 기본키 (숫자)\n",
        "  - name: 이름 (텍스트)\n",
        "  - age: 나이 (숫자)\n",
        "  - grade: 학년 (텍스트)\n",
        "\n",
        "### 2단계: 학생 추가하기 (CREATE)\n",
        "다음 학생들을 데이터베이스에 추가하세요:\n",
        "- 김철수, 20살, 3학년\n",
        "- 이영희, 19살, 2학년  \n",
        "- 박민수, 21살, 4학년\n",
        "\n",
        "### 3단계: 학생 조회하기 (READ)\n",
        "- 모든 학생의 정보를 조회해서 출력하세요\n",
        "- 20살 이상인 학생만 조회해서 \"이름: ○○, 나이: ○○\" 형태로 출력하세요\n",
        "\n",
        "### 4단계: 정보 수정하기 (UPDATE)\n",
        "- 김철수의 나이를 22살로 수정하세요\n",
        "- 수정 후 김철수의 정보를 조회해서 확인하세요\n",
        "\n",
        "### 5단계: 학생 삭제하기 (DELETE)\n",
        "- 박민수 학생을 삭제하세요\n",
        "- 삭제 후 남은 모든 학생을 조회해서 확인하세요"
      ],
      "metadata": {
        "id": "1ctmqzRnacZ1"
      }
    },
    {
      "cell_type": "code",
      "source": [
        "# 1단계\n",
        "print(\"\\n1단계: 테이블 만들기\")\n",
        "conn = sqlite3.connect('school.db')\n",
        "cursor = conn.cursor()\n",
        "\n",
        "cursor.execute('''\n",
        "    CREATE TABLE IF NOT EXISTS students (\n",
        "        id INTEGER PRIMARY KEY,\n",
        "        name TEXT,\n",
        "        age INTEGER,\n",
        "        grade TEXT\n",
        "    )\n",
        "''')\n",
        "print(\"테이블 생성 완료!\")"
      ],
      "metadata": {
        "colab": {
          "base_uri": "https://localhost:8080/"
        },
        "id": "YZi426tdbJ3r",
        "outputId": "263fe6a5-62d4-41f6-d309-d1f9f596fcc8"
      },
      "execution_count": 14,
      "outputs": [
        {
          "output_type": "stream",
          "name": "stdout",
          "text": [
            "\n",
            "1단계: 테이블 만들기\n",
            "테이블 생성 완료!\n"
          ]
        }
      ]
    },
    {
      "cell_type": "code",
      "source": [
        "# 2단계\n",
        "print(\"\\n2단계: 학생 추가하기\")\n",
        "cursor.execute(\"INSERT INTO students (id, name, age, grade) VALUES (1, '김철수', 20, '3학년')\")\n",
        "cursor.execute(\"INSERT INTO students (id, name, age, grade) VALUES (2, '이영희', 19, '2학년')\")\n",
        "cursor.execute(\"INSERT INTO students (id, name, age, grade) VALUES (3, '박민수', 21, '4학년')\")\n",
        "conn.commit()\n",
        "print(\"학생 추가 완료!\")"
      ],
      "metadata": {
        "colab": {
          "base_uri": "https://localhost:8080/"
        },
        "id": "b7XbsUT0dMSc",
        "outputId": "057895b1-8660-4c70-eda5-6ee915196472"
      },
      "execution_count": 15,
      "outputs": [
        {
          "output_type": "stream",
          "name": "stdout",
          "text": [
            "\n",
            "2단계: 학생 추가하기\n",
            "학생 추가 완료!\n"
          ]
        }
      ]
    },
    {
      "cell_type": "code",
      "source": [
        "# 3단계\n",
        "print(\"\\n3단계: 학생 조회하기\")\n",
        "\n",
        "cursor.execute('SELECT * FROM students')\n",
        "students = cursor.fetchall()\n",
        "\n",
        "# 전체학생\n",
        "for student in students:\n",
        "  print(student)\n",
        "\n",
        "# 20살 이상 학생\n",
        "\n",
        "cursor.execute('SELECT * FROM students WHERE age >= 20')\n",
        "older_students = cursor.fetchall()\n",
        "\n",
        "for student in older_students:\n",
        "  print(f\"이름: {student[1]}, 나이: {student[2]}\")\n"
      ],
      "metadata": {
        "colab": {
          "base_uri": "https://localhost:8080/"
        },
        "id": "B0MKTJredN-H",
        "outputId": "33e288d8-0602-429e-d867-12c0fb2263d1"
      },
      "execution_count": 18,
      "outputs": [
        {
          "output_type": "stream",
          "name": "stdout",
          "text": [
            "\n",
            "3단계: 학생 조회하기\n",
            "(1, '김철수', 20, '3학년')\n",
            "(2, '이영희', 19, '2학년')\n",
            "(3, '박민수', 21, '4학년')\n",
            "이름: 김철수, 나이: 20\n",
            "이름: 박민수, 나이: 21\n"
          ]
        }
      ]
    },
    {
      "cell_type": "code",
      "source": [
        "# 4단계\n",
        "print(\"\\n4단계: 정보 수정하기\")\n",
        "cursor.execute(\"UPDATE students SET age = 20 WHERE name = '김철수'\")\n",
        "conn.commit()\n",
        "\n",
        "cursor.execute(\"SELECT * FROM students WHERE name = '김철수'\")\n",
        "result = cursor.fetchone()\n",
        "print(f\"수정된 김철수 정보: {result}\")\n"
      ],
      "metadata": {
        "colab": {
          "base_uri": "https://localhost:8080/"
        },
        "id": "DFLvSb3BdOQ1",
        "outputId": "d1b056f0-eb93-4724-d3b9-382ecd8e7aea"
      },
      "execution_count": 19,
      "outputs": [
        {
          "output_type": "stream",
          "name": "stdout",
          "text": [
            "\n",
            "4단계: 정보 수정하기\n",
            "수정된 김철수 정보: (1, '김철수', 20, '3학년')\n"
          ]
        }
      ]
    },
    {
      "cell_type": "code",
      "source": [
        "# 5단계\n",
        "print(\"\\n5단계: 학생 삭제하기\")\n",
        "cursor.execute(\"DELETE FROM students WHERE name= '박민수'\")\n",
        "conn.commit()\n",
        "\n",
        "cursor.execute(\"SELECT * FROM students\")\n",
        "remaining = cursor.fetchall()\n",
        "\n",
        "for student in remaining:\n",
        "  print(student)\n",
        "\n",
        "conn.close()"
      ],
      "metadata": {
        "colab": {
          "base_uri": "https://localhost:8080/"
        },
        "id": "5lSk1f78dOgG",
        "outputId": "d2ed24ce-9505-42b5-895f-1e9b7e4f2bc2"
      },
      "execution_count": 20,
      "outputs": [
        {
          "output_type": "stream",
          "name": "stdout",
          "text": [
            "\n",
            "5단계: 학생 삭제하기\n",
            "(1, '김철수', 20, '3학년')\n",
            "(2, '이영희', 19, '2학년')\n"
          ]
        }
      ]
    },
    {
      "cell_type": "markdown",
      "source": [
        "# SQLAlchemy colab 실습"
      ],
      "metadata": {
        "id": "sTE8bQjCoiHY"
      }
    },
    {
      "cell_type": "code",
      "source": [
        "# 라이브러리 임포트\n",
        "from sqlalchemy import create_engine, Column, Integer, String\n",
        "from sqlalchemy.ext.declarative import declarative_base\n",
        "from sqlalchemy.orm import sessionmaker"
      ],
      "metadata": {
        "id": "9C1vptIfdOrO"
      },
      "execution_count": 21,
      "outputs": []
    },
    {
      "cell_type": "code",
      "source": [
        "# 데이터베이스 연결 설정\n",
        "# 'sqlite:///a/b/c/sample.db'와 'sqlite:///./a/b/c/sample.db'는 같습니다.\n",
        "# echo=True를 하게 되면 SQL문이 실행이 될 때마다 출력창에서\n",
        "# 반복해 출력해줍니다. 공부할 때 좋습니다.\n",
        "\n",
        "engine = create_engine('sqlite:///sample.db',echo=True)"
      ],
      "metadata": {
        "id": "QjGM8fpyo8Cp"
      },
      "execution_count": 22,
      "outputs": []
    },
    {
      "cell_type": "code",
      "source": [
        "# DB와 연동되는 모델을 생성하기 위한 기본 모델\n",
        "Base = declarative_base()"
      ],
      "metadata": {
        "colab": {
          "base_uri": "https://localhost:8080/"
        },
        "id": "2sci8ilUpfeB",
        "outputId": "846945c1-e3fa-4483-b4a7-549da0db15ff"
      },
      "execution_count": 23,
      "outputs": [
        {
          "output_type": "stream",
          "name": "stderr",
          "text": [
            "/tmp/ipython-input-1027333092.py:2: MovedIn20Warning: The ``declarative_base()`` function is now available as sqlalchemy.orm.declarative_base(). (deprecated since: 2.0) (Background on SQLAlchemy 2.0 at: https://sqlalche.me/e/b8d9)\n",
            "  Base = declarative_base()\n"
          ]
        }
      ]
    },
    {
      "cell_type": "code",
      "source": [
        "class User(Base):\n",
        "  __tablename__ = 'users' # 테이블 이름\n",
        "\n",
        "  id = Column(Integer,primary_key=True) # 기본키\n",
        "  name = Column(String(50)) # 이름 컬럼, 50자 제한\n",
        "  age = Column(Integer)\n",
        "\n",
        "  def __repr__(self):\n",
        "    return f'<{self.id}, {self.name}, {self.age}>'\n"
      ],
      "metadata": {
        "id": "dS2UJIKCp1qT"
      },
      "execution_count": 24,
      "outputs": []
    },
    {
      "cell_type": "code",
      "source": [
        "Base.metadata.create_all(engine) # 테이블 생성"
      ],
      "metadata": {
        "colab": {
          "base_uri": "https://localhost:8080/"
        },
        "id": "LhnM6vWwqzbs",
        "outputId": "84b3e226-a428-4968-8627-ea35ff1b5387"
      },
      "execution_count": 26,
      "outputs": [
        {
          "output_type": "stream",
          "name": "stdout",
          "text": [
            "2025-09-18 07:14:19,647 INFO sqlalchemy.engine.Engine BEGIN (implicit)\n"
          ]
        },
        {
          "output_type": "stream",
          "name": "stderr",
          "text": [
            "INFO:sqlalchemy.engine.Engine:BEGIN (implicit)\n"
          ]
        },
        {
          "output_type": "stream",
          "name": "stdout",
          "text": [
            "2025-09-18 07:14:19,651 INFO sqlalchemy.engine.Engine PRAGMA main.table_info(\"users\")\n"
          ]
        },
        {
          "output_type": "stream",
          "name": "stderr",
          "text": [
            "INFO:sqlalchemy.engine.Engine:PRAGMA main.table_info(\"users\")\n"
          ]
        },
        {
          "output_type": "stream",
          "name": "stdout",
          "text": [
            "2025-09-18 07:14:19,652 INFO sqlalchemy.engine.Engine [raw sql] ()\n"
          ]
        },
        {
          "output_type": "stream",
          "name": "stderr",
          "text": [
            "INFO:sqlalchemy.engine.Engine:[raw sql] ()\n"
          ]
        },
        {
          "output_type": "stream",
          "name": "stdout",
          "text": [
            "2025-09-18 07:14:19,654 INFO sqlalchemy.engine.Engine PRAGMA temp.table_info(\"users\")\n"
          ]
        },
        {
          "output_type": "stream",
          "name": "stderr",
          "text": [
            "INFO:sqlalchemy.engine.Engine:PRAGMA temp.table_info(\"users\")\n"
          ]
        },
        {
          "output_type": "stream",
          "name": "stdout",
          "text": [
            "2025-09-18 07:14:19,660 INFO sqlalchemy.engine.Engine [raw sql] ()\n"
          ]
        },
        {
          "output_type": "stream",
          "name": "stderr",
          "text": [
            "INFO:sqlalchemy.engine.Engine:[raw sql] ()\n"
          ]
        },
        {
          "output_type": "stream",
          "name": "stdout",
          "text": [
            "2025-09-18 07:14:19,663 INFO sqlalchemy.engine.Engine \n",
            "CREATE TABLE users (\n",
            "\tid INTEGER NOT NULL, \n",
            "\tname VARCHAR(50), \n",
            "\tage INTEGER, \n",
            "\tPRIMARY KEY (id)\n",
            ")\n",
            "\n",
            "\n"
          ]
        },
        {
          "output_type": "stream",
          "name": "stderr",
          "text": [
            "INFO:sqlalchemy.engine.Engine:\n",
            "CREATE TABLE users (\n",
            "\tid INTEGER NOT NULL, \n",
            "\tname VARCHAR(50), \n",
            "\tage INTEGER, \n",
            "\tPRIMARY KEY (id)\n",
            ")\n",
            "\n",
            "\n"
          ]
        },
        {
          "output_type": "stream",
          "name": "stdout",
          "text": [
            "2025-09-18 07:14:19,668 INFO sqlalchemy.engine.Engine [no key 0.00513s] ()\n"
          ]
        },
        {
          "output_type": "stream",
          "name": "stderr",
          "text": [
            "INFO:sqlalchemy.engine.Engine:[no key 0.00513s] ()\n"
          ]
        },
        {
          "output_type": "stream",
          "name": "stdout",
          "text": [
            "2025-09-18 07:14:19,689 INFO sqlalchemy.engine.Engine COMMIT\n"
          ]
        },
        {
          "output_type": "stream",
          "name": "stderr",
          "text": [
            "INFO:sqlalchemy.engine.Engine:COMMIT\n"
          ]
        }
      ]
    },
    {
      "cell_type": "code",
      "source": [
        "# 세션 생성(DB와 연결하는 코드)\n",
        "Session = sessionmaker(bind=engine)\n",
        "\n",
        "session = Session()"
      ],
      "metadata": {
        "id": "wWuyvZWSreNJ"
      },
      "execution_count": 27,
      "outputs": []
    },
    {
      "cell_type": "code",
      "source": [
        "# 데이터삽입(Insert)\n",
        "\n",
        "new_user = User(name=\"licat\",age=10)\n",
        "\n",
        "session.add(new_user)\n",
        "session.commit()"
      ],
      "metadata": {
        "colab": {
          "base_uri": "https://localhost:8080/"
        },
        "id": "x6hVpJH_sci4",
        "outputId": "bd7168e9-fd74-41fe-abd9-be0d0c9a4213"
      },
      "execution_count": 28,
      "outputs": [
        {
          "output_type": "stream",
          "name": "stdout",
          "text": [
            "2025-09-18 07:22:12,371 INFO sqlalchemy.engine.Engine BEGIN (implicit)\n"
          ]
        },
        {
          "output_type": "stream",
          "name": "stderr",
          "text": [
            "INFO:sqlalchemy.engine.Engine:BEGIN (implicit)\n"
          ]
        },
        {
          "output_type": "stream",
          "name": "stdout",
          "text": [
            "2025-09-18 07:22:12,375 INFO sqlalchemy.engine.Engine INSERT INTO users (name, age) VALUES (?, ?)\n"
          ]
        },
        {
          "output_type": "stream",
          "name": "stderr",
          "text": [
            "INFO:sqlalchemy.engine.Engine:INSERT INTO users (name, age) VALUES (?, ?)\n"
          ]
        },
        {
          "output_type": "stream",
          "name": "stdout",
          "text": [
            "2025-09-18 07:22:12,378 INFO sqlalchemy.engine.Engine [generated in 0.00237s] ('licat', 10)\n"
          ]
        },
        {
          "output_type": "stream",
          "name": "stderr",
          "text": [
            "INFO:sqlalchemy.engine.Engine:[generated in 0.00237s] ('licat', 10)\n"
          ]
        },
        {
          "output_type": "stream",
          "name": "stdout",
          "text": [
            "2025-09-18 07:22:12,382 INFO sqlalchemy.engine.Engine COMMIT\n"
          ]
        },
        {
          "output_type": "stream",
          "name": "stderr",
          "text": [
            "INFO:sqlalchemy.engine.Engine:COMMIT\n"
          ]
        }
      ]
    },
    {
      "cell_type": "code",
      "source": [
        "# 데이터읽기(Read)\n",
        "\n",
        "session.query(User).all()"
      ],
      "metadata": {
        "colab": {
          "base_uri": "https://localhost:8080/"
        },
        "id": "Bb0zIefotJf6",
        "outputId": "fd70ff47-1a35-4586-a5ee-b1eeb578a5d9"
      },
      "execution_count": 29,
      "outputs": [
        {
          "output_type": "stream",
          "name": "stdout",
          "text": [
            "2025-09-18 07:23:51,691 INFO sqlalchemy.engine.Engine BEGIN (implicit)\n"
          ]
        },
        {
          "output_type": "stream",
          "name": "stderr",
          "text": [
            "INFO:sqlalchemy.engine.Engine:BEGIN (implicit)\n"
          ]
        },
        {
          "output_type": "stream",
          "name": "stdout",
          "text": [
            "2025-09-18 07:23:51,696 INFO sqlalchemy.engine.Engine SELECT users.id AS users_id, users.name AS users_name, users.age AS users_age \n",
            "FROM users\n"
          ]
        },
        {
          "output_type": "stream",
          "name": "stderr",
          "text": [
            "INFO:sqlalchemy.engine.Engine:SELECT users.id AS users_id, users.name AS users_name, users.age AS users_age \n",
            "FROM users\n"
          ]
        },
        {
          "output_type": "stream",
          "name": "stdout",
          "text": [
            "2025-09-18 07:23:51,698 INFO sqlalchemy.engine.Engine [generated in 0.00241s] ()\n"
          ]
        },
        {
          "output_type": "stream",
          "name": "stderr",
          "text": [
            "INFO:sqlalchemy.engine.Engine:[generated in 0.00241s] ()\n"
          ]
        },
        {
          "output_type": "execute_result",
          "data": {
            "text/plain": [
              "[<1, licat, 10>]"
            ]
          },
          "metadata": {},
          "execution_count": 29
        }
      ]
    },
    {
      "cell_type": "code",
      "source": [
        "# 데이터읽기 (WHERE)\n",
        "session.query(User).filter(User.name == 'licat').first()"
      ],
      "metadata": {
        "colab": {
          "base_uri": "https://localhost:8080/"
        },
        "id": "jzrjaCZ7u5h9",
        "outputId": "a1264906-ee77-470e-f993-69cd62d6d552"
      },
      "execution_count": 34,
      "outputs": [
        {
          "output_type": "stream",
          "name": "stdout",
          "text": [
            "2025-09-18 07:34:06,202 INFO sqlalchemy.engine.Engine SELECT users.id AS users_id, users.name AS users_name, users.age AS users_age \n",
            "FROM users \n",
            "WHERE users.name = ?\n",
            " LIMIT ? OFFSET ?\n"
          ]
        },
        {
          "output_type": "stream",
          "name": "stderr",
          "text": [
            "INFO:sqlalchemy.engine.Engine:SELECT users.id AS users_id, users.name AS users_name, users.age AS users_age \n",
            "FROM users \n",
            "WHERE users.name = ?\n",
            " LIMIT ? OFFSET ?\n"
          ]
        },
        {
          "output_type": "stream",
          "name": "stdout",
          "text": [
            "2025-09-18 07:34:06,206 INFO sqlalchemy.engine.Engine [cached since 82.42s ago] ('licat', 1, 0)\n"
          ]
        },
        {
          "output_type": "stream",
          "name": "stderr",
          "text": [
            "INFO:sqlalchemy.engine.Engine:[cached since 82.42s ago] ('licat', 1, 0)\n"
          ]
        },
        {
          "output_type": "execute_result",
          "data": {
            "text/plain": [
              "<1, licat, 10>"
            ]
          },
          "metadata": {},
          "execution_count": 34
        }
      ]
    },
    {
      "cell_type": "code",
      "source": [
        "# 데이터수정 (update)\n",
        "\n",
        "licat = session.query(User).filter(User.name == 'licat').first()\n",
        "\n",
        "if licat:\n",
        "  licat.age = 100\n",
        "  session.commit()\n",
        "\n",
        "session.query(User).all()\n"
      ],
      "metadata": {
        "colab": {
          "base_uri": "https://localhost:8080/"
        },
        "id": "aw_fqCTKv966",
        "outputId": "7fdab512-a623-46b0-fb1b-5d65ad3a2f34"
      },
      "execution_count": 35,
      "outputs": [
        {
          "output_type": "stream",
          "name": "stdout",
          "text": [
            "2025-09-18 07:36:30,997 INFO sqlalchemy.engine.Engine SELECT users.id AS users_id, users.name AS users_name, users.age AS users_age \n",
            "FROM users \n",
            "WHERE users.name = ?\n",
            " LIMIT ? OFFSET ?\n"
          ]
        },
        {
          "output_type": "stream",
          "name": "stderr",
          "text": [
            "INFO:sqlalchemy.engine.Engine:SELECT users.id AS users_id, users.name AS users_name, users.age AS users_age \n",
            "FROM users \n",
            "WHERE users.name = ?\n",
            " LIMIT ? OFFSET ?\n"
          ]
        },
        {
          "output_type": "stream",
          "name": "stdout",
          "text": [
            "2025-09-18 07:36:31,000 INFO sqlalchemy.engine.Engine [cached since 227.2s ago] ('licat', 1, 0)\n"
          ]
        },
        {
          "output_type": "stream",
          "name": "stderr",
          "text": [
            "INFO:sqlalchemy.engine.Engine:[cached since 227.2s ago] ('licat', 1, 0)\n"
          ]
        },
        {
          "output_type": "stream",
          "name": "stdout",
          "text": [
            "2025-09-18 07:36:31,004 INFO sqlalchemy.engine.Engine UPDATE users SET age=? WHERE users.id = ?\n"
          ]
        },
        {
          "output_type": "stream",
          "name": "stderr",
          "text": [
            "INFO:sqlalchemy.engine.Engine:UPDATE users SET age=? WHERE users.id = ?\n"
          ]
        },
        {
          "output_type": "stream",
          "name": "stdout",
          "text": [
            "2025-09-18 07:36:31,009 INFO sqlalchemy.engine.Engine [generated in 0.00551s] (100, 1)\n"
          ]
        },
        {
          "output_type": "stream",
          "name": "stderr",
          "text": [
            "INFO:sqlalchemy.engine.Engine:[generated in 0.00551s] (100, 1)\n"
          ]
        },
        {
          "output_type": "stream",
          "name": "stdout",
          "text": [
            "2025-09-18 07:36:31,015 INFO sqlalchemy.engine.Engine COMMIT\n"
          ]
        },
        {
          "output_type": "stream",
          "name": "stderr",
          "text": [
            "INFO:sqlalchemy.engine.Engine:COMMIT\n"
          ]
        },
        {
          "output_type": "stream",
          "name": "stdout",
          "text": [
            "2025-09-18 07:36:31,030 INFO sqlalchemy.engine.Engine BEGIN (implicit)\n"
          ]
        },
        {
          "output_type": "stream",
          "name": "stderr",
          "text": [
            "INFO:sqlalchemy.engine.Engine:BEGIN (implicit)\n"
          ]
        },
        {
          "output_type": "stream",
          "name": "stdout",
          "text": [
            "2025-09-18 07:36:31,032 INFO sqlalchemy.engine.Engine SELECT users.id AS users_id, users.name AS users_name, users.age AS users_age \n",
            "FROM users\n"
          ]
        },
        {
          "output_type": "stream",
          "name": "stderr",
          "text": [
            "INFO:sqlalchemy.engine.Engine:SELECT users.id AS users_id, users.name AS users_name, users.age AS users_age \n",
            "FROM users\n"
          ]
        },
        {
          "output_type": "stream",
          "name": "stdout",
          "text": [
            "2025-09-18 07:36:31,034 INFO sqlalchemy.engine.Engine [cached since 759.3s ago] ()\n"
          ]
        },
        {
          "output_type": "stream",
          "name": "stderr",
          "text": [
            "INFO:sqlalchemy.engine.Engine:[cached since 759.3s ago] ()\n"
          ]
        },
        {
          "output_type": "execute_result",
          "data": {
            "text/plain": [
              "[<1, licat, 100>]"
            ]
          },
          "metadata": {},
          "execution_count": 35
        }
      ]
    },
    {
      "cell_type": "code",
      "source": [
        "# 데이터삭제 (delete)\n",
        "\n",
        "if licat:\n",
        "  session.delete(licat)\n",
        "  session.commit()\n",
        "\n",
        "session.query(User).all()"
      ],
      "metadata": {
        "colab": {
          "base_uri": "https://localhost:8080/"
        },
        "id": "OSipyR84wkDu",
        "outputId": "42c6ab3f-04a8-483c-c5da-f343205de9cc"
      },
      "execution_count": 36,
      "outputs": [
        {
          "output_type": "stream",
          "name": "stdout",
          "text": [
            "2025-09-18 07:39:21,850 INFO sqlalchemy.engine.Engine DELETE FROM users WHERE users.id = ?\n"
          ]
        },
        {
          "output_type": "stream",
          "name": "stderr",
          "text": [
            "INFO:sqlalchemy.engine.Engine:DELETE FROM users WHERE users.id = ?\n"
          ]
        },
        {
          "output_type": "stream",
          "name": "stdout",
          "text": [
            "2025-09-18 07:39:21,853 INFO sqlalchemy.engine.Engine [generated in 0.00263s] (1,)\n"
          ]
        },
        {
          "output_type": "stream",
          "name": "stderr",
          "text": [
            "INFO:sqlalchemy.engine.Engine:[generated in 0.00263s] (1,)\n"
          ]
        },
        {
          "output_type": "stream",
          "name": "stdout",
          "text": [
            "2025-09-18 07:39:21,859 INFO sqlalchemy.engine.Engine COMMIT\n"
          ]
        },
        {
          "output_type": "stream",
          "name": "stderr",
          "text": [
            "INFO:sqlalchemy.engine.Engine:COMMIT\n"
          ]
        },
        {
          "output_type": "stream",
          "name": "stdout",
          "text": [
            "2025-09-18 07:39:21,872 INFO sqlalchemy.engine.Engine BEGIN (implicit)\n"
          ]
        },
        {
          "output_type": "stream",
          "name": "stderr",
          "text": [
            "INFO:sqlalchemy.engine.Engine:BEGIN (implicit)\n"
          ]
        },
        {
          "output_type": "stream",
          "name": "stdout",
          "text": [
            "2025-09-18 07:39:21,874 INFO sqlalchemy.engine.Engine SELECT users.id AS users_id, users.name AS users_name, users.age AS users_age \n",
            "FROM users\n"
          ]
        },
        {
          "output_type": "stream",
          "name": "stderr",
          "text": [
            "INFO:sqlalchemy.engine.Engine:SELECT users.id AS users_id, users.name AS users_name, users.age AS users_age \n",
            "FROM users\n"
          ]
        },
        {
          "output_type": "stream",
          "name": "stdout",
          "text": [
            "2025-09-18 07:39:21,876 INFO sqlalchemy.engine.Engine [cached since 930.2s ago] ()\n"
          ]
        },
        {
          "output_type": "stream",
          "name": "stderr",
          "text": [
            "INFO:sqlalchemy.engine.Engine:[cached since 930.2s ago] ()\n"
          ]
        },
        {
          "output_type": "execute_result",
          "data": {
            "text/plain": [
              "[]"
            ]
          },
          "metadata": {},
          "execution_count": 36
        }
      ]
    },
    {
      "cell_type": "code",
      "source": [
        "# 연결해제\n",
        "session.close()"
      ],
      "metadata": {
        "colab": {
          "base_uri": "https://localhost:8080/"
        },
        "id": "pBgmUDQ7w7DW",
        "outputId": "59fa45d5-64d9-4e2c-806b-6ee7064de62e"
      },
      "execution_count": 37,
      "outputs": [
        {
          "output_type": "stream",
          "name": "stdout",
          "text": [
            "2025-09-18 07:40:00,532 INFO sqlalchemy.engine.Engine ROLLBACK\n"
          ]
        },
        {
          "output_type": "stream",
          "name": "stderr",
          "text": [
            "INFO:sqlalchemy.engine.Engine:ROLLBACK\n"
          ]
        }
      ]
    }
  ]
}