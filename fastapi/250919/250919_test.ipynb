{
  "cells": [
    {
      "cell_type": "markdown",
      "metadata": {
        "id": "Q3Ae6WFfsL4v"
      },
      "source": [
        "# 🎯 SQLAlchemy 연습문제 (Relationship 중심)"
      ]
    },
    {
      "cell_type": "code",
      "execution_count": null,
      "metadata": {
        "id": "4ds09WYzsEhq"
      },
      "outputs": [],
      "source": [
        "# 문제 풀이용 기본 설정\n",
        "from sqlalchemy import create_engine, Column, Integer, String, Float, Boolean, DateTime, ForeignKey, func, and_, or_, desc\n",
        "from sqlalchemy.ext.declarative import declarative_base\n",
        "from sqlalchemy.orm import sessionmaker, relationship\n",
        "from datetime import datetime\n",
        "\n",
        "engine = create_engine('sqlite:///:memory:', echo=True)\n",
        "Base = declarative_base()\n",
        "Session = sessionmaker(bind=engine)\n",
        "\n",
        "session = Session()\n",
        "\n",
        "# 모델 정의\n",
        "class User(Base):\n",
        "    __tablename__ = \"users\"\n",
        "    id = Column(Integer, primary_key=True)\n",
        "    username = Column(String)\n",
        "    email = Column(String)\n",
        "    age = Column(Integer)\n",
        "    salary = Column(Float)\n",
        "    is_active = Column(Boolean, default=True)\n",
        "\n",
        "    orders = relationship(\"Order\", back_populates=\"user\")\n",
        "\n",
        "    def __repr__(self):\n",
        "        return f\"<User({self.username}, {self.age}세)>\"\n",
        "\n",
        "class Product(Base):\n",
        "    __tablename__ = \"products\"\n",
        "    id = Column(Integer, primary_key=True)\n",
        "    name = Column(String)\n",
        "    category = Column(String)\n",
        "    price = Column(Float)\n",
        "    stock = Column(Integer)\n",
        "\n",
        "    order_items = relationship(\"OrderItem\", back_populates=\"product\")\n",
        "\n",
        "    def __repr__(self):\n",
        "        return f\"<Product({self.name}, {self.price}원)>\"\n",
        "\n",
        "class Order(Base):\n",
        "    __tablename__ = \"orders\"\n",
        "    id = Column(Integer, primary_key=True)\n",
        "    user_id = Column(Integer, ForeignKey(\"users.id\"))\n",
        "    total_amount = Column(Float)\n",
        "    status = Column(String)\n",
        "    order_date = Column(DateTime, default=datetime.now)\n",
        "\n",
        "    user = relationship(\"User\", back_populates=\"orders\")\n",
        "    order_items = relationship(\"OrderItem\", back_populates=\"order\")\n",
        "\n",
        "    def __repr__(self):\n",
        "        return f\"<Order({self.id}, {self.total_amount}원, {self.status})>\"\n",
        "\n",
        "class OrderItem(Base):\n",
        "    __tablename__ = \"order_items\"\n",
        "    id = Column(Integer, primary_key=True)\n",
        "    order_id = Column(Integer, ForeignKey(\"orders.id\"))\n",
        "    product_id = Column(Integer, ForeignKey(\"products.id\"))\n",
        "    quantity = Column(Integer)\n",
        "\n",
        "    order = relationship(\"Order\", back_populates=\"order_items\")\n",
        "    product = relationship(\"Product\", back_populates=\"order_items\")\n",
        "\n",
        "Base.metadata.create_all(engine)\n",
        "\n",
        "# 테스트 데이터 생성\n",
        "def create_test_data():\n",
        "    # 사용자 생성\n",
        "    users = [\n",
        "        User(username=\"김철수\", email=\"kim@test.com\", age=25, salary=50000, is_active=True),\n",
        "        User(username=\"이영희\", email=\"lee@test.com\", age=30, salary=70000, is_active=True),\n",
        "        User(username=\"박민수\", email=\"park@test.com\", age=28, salary=60000, is_active=False),\n",
        "        User(username=\"최지원\", email=\"choi@test.com\", age=35, salary=80000, is_active=True),\n",
        "        User(username=\"정다영\", email=\"jung@test.com\", age=26, salary=45000, is_active=True)\n",
        "    ]\n",
        "\n",
        "    # 제품 생성\n",
        "    products = [\n",
        "        Product(name=\"노트북\", category=\"전자제품\", price=1500000, stock=20),\n",
        "        Product(name=\"마우스\", category=\"전자제품\", price=30000, stock=50),\n",
        "        Product(name=\"키보드\", category=\"전자제품\", price=80000, stock=30),\n",
        "        Product(name=\"티셔츠\", category=\"의류\", price=25000, stock=100),\n",
        "        Product(name=\"청바지\", category=\"의류\", price=70000, stock=40),\n",
        "        Product(name=\"운동화\", category=\"신발\", price=120000, stock=25)\n",
        "    ]\n",
        "\n",
        "    session.add_all(users + products)\n",
        "    session.commit()\n",
        "\n",
        "    # 주문 생성\n",
        "    orders = [\n",
        "        Order(user_id=1, total_amount=1610000, status=\"completed\"),    # 김철수\n",
        "        Order(user_id=1, total_amount=95000, status=\"shipped\"),       # 김철수\n",
        "        Order(user_id=2, total_amount=220000, status=\"completed\"),    # 이영희\n",
        "        Order(user_id=4, total_amount=150000, status=\"pending\"),      # 최지원\n",
        "        Order(user_id=5, total_amount=45000, status=\"cancelled\")      # 정다영\n",
        "    ]\n",
        "\n",
        "    session.add_all(orders)\n",
        "    session.commit()\n",
        "\n",
        "    # 주문 항목 생성\n",
        "    order_items = [\n",
        "        # 김철수 첫 번째 주문 (노트북 + 마우스 + 키보드)\n",
        "        OrderItem(order_id=1, product_id=1, quantity=1),  # 노트북\n",
        "        OrderItem(order_id=1, product_id=2, quantity=1),  # 마우스\n",
        "        OrderItem(order_id=1, product_id=3, quantity=1),  # 키보드\n",
        "\n",
        "        # 김철수 두 번째 주문 (티셔츠 + 청바지)\n",
        "        OrderItem(order_id=2, product_id=4, quantity=1),  # 티셔츠\n",
        "        OrderItem(order_id=2, product_id=5, quantity=1),  # 청바지\n",
        "\n",
        "        # 이영희 주문 (운동화 + 청바지)\n",
        "        OrderItem(order_id=3, product_id=6, quantity=1),  # 운동화\n",
        "        OrderItem(order_id=3, product_id=5, quantity=1),  # 청바지\n",
        "        OrderItem(order_id=3, product_id=2, quantity=1),  # 마우스\n",
        "\n",
        "        # 최지원 주문 (노트북)\n",
        "        OrderItem(order_id=4, product_id=1, quantity=1),  # 노트북\n",
        "\n",
        "        # 정다영 주문 (취소됨)\n",
        "        OrderItem(order_id=5, product_id=4, quantity=1),  # 티셔츠\n",
        "    ]\n",
        "\n",
        "    session.add_all(order_items)\n",
        "    session.commit()\n",
        "    print(\"✅ 테스트 데이터 생성 완료!\")\n",
        "\n",
        "create_test_data()"
      ]
    },
    {
      "cell_type": "markdown",
      "metadata": {
        "id": "uOePZbYEsdln"
      },
      "source": [
        "## 📝 문제 1번 (기본 - Relationship 활용)"
      ]
    },
    {
      "cell_type": "code",
      "execution_count": null,
      "metadata": {
        "id": "coLdYZNwsv05"
      },
      "outputs": [],
      "source": [
        "\"\"\"\n",
        "🎯 문제 1: 기본 Relationship 활용 (난이도: ⭐)\n",
        "\n",
        "김철수 사용자의 모든 주문 정보를 다음과 같이 출력하세요:\n",
        "- 사용자 이름: 김철수\n",
        "- 총 주문 수: X개\n",
        "- 각 주문별로:\n",
        "  - 주문 ID: X\n",
        "  - 주문 금액: X원\n",
        "  - 주문 상태: X\n",
        "\n",
        "힌트: user.orders를 활용하세요!\n",
        "\"\"\"\n",
        "\n",
        "def problem_1():\n",
        "    \"\"\"여기에 코드를 작성하세요\"\"\"\n",
        "    # user = session.query(User).filter(User.username == \"김철수\").first()\n",
        "    # ...\n",
        "    pass\n",
        "\n",
        "print(\"🎯 문제 1번 실행:\")\n",
        "problem_1()"
      ]
    },
    {
      "cell_type": "markdown",
      "metadata": {
        "id": "Kn6f8vWqsmg9"
      },
      "source": [
        "## 📝 문제 2번 (집계함수 + Relationship)"
      ]
    },
    {
      "cell_type": "code",
      "execution_count": null,
      "metadata": {
        "id": "a1ELdy2csec4"
      },
      "outputs": [],
      "source": [
        "\"\"\"\n",
        "🎯 문제 2: 집계함수와 Relationship (난이도: ⭐⭐)\n",
        "\n",
        "각 사용자별로 다음 정보를 출력하세요:\n",
        "- 사용자 이름\n",
        "- 총 주문 횟수 (len 사용)\n",
        "- 총 주문 금액의 합계 (sum 사용)\n",
        "- 평균 주문 금액 (직접 계산)\n",
        "\n",
        "단, 주문이 없는 사용자도 포함하되 \"주문 없음\"으로 표시하세요.\n",
        "\n",
        "힌트: user.orders의 길이와 반복문을 활용하세요!\n",
        "\"\"\"\n",
        "\n",
        "def problem_2():\n",
        "    \"\"\"여기에 코드를 작성하세요\"\"\"\n",
        "    # users = session.query(User).all()\n",
        "    # for user in users:\n",
        "    #     ...\n",
        "    pass\n",
        "\n",
        "print(\"\\n🎯 문제 2번 실행:\")\n",
        "problem_2()"
      ]
    },
    {
      "cell_type": "markdown",
      "metadata": {
        "id": "NCCH0adXs1Vi"
      },
      "source": [
        "## 📝 문제 3번 (조건부 필터링 + 정렬)"
      ]
    },
    {
      "cell_type": "code",
      "execution_count": null,
      "metadata": {
        "id": "tHhy4eX_s6qd"
      },
      "outputs": [],
      "source": [
        "\"\"\"\n",
        "🎯 문제 3: 조건부 필터링과 정렬 (난이도: ⭐⭐⭐)\n",
        "\n",
        "다음 조건을 만족하는 제품들을 찾아 출력하세요:\n",
        "1. 전자제품 카테고리\n",
        "2. 재고가 30개 이상\n",
        "3. 가격 순으로 정렬 (비싼 것부터)\n",
        "\n",
        "각 제품에 대해 다음 정보를 출력:\n",
        "- 제품명: X\n",
        "- 가격: X원\n",
        "- 재고: X개\n",
        "- 이 제품을 주문한 사용자들: [사용자명1, 사용자명2, ...]\n",
        "\n",
        "힌트: product.order_items에서 order.user로 접근!\n",
        "\"\"\"\n",
        "\n",
        "def problem_3():\n",
        "    \"\"\"여기에 코드를 작성하세요\"\"\"\n",
        "    # products = session.query(Product).filter(\n",
        "    #     and_(Product.category == \"전자제품\", Product.stock >= 30)\n",
        "    # ).order_by(desc(Product.price)).all()\n",
        "    # ...\n",
        "    pass\n",
        "\n",
        "print(\"\\n🎯 문제 3번 실행:\")\n",
        "problem_3()"
      ]
    },
    {
      "cell_type": "markdown",
      "metadata": {
        "id": "ZWnB3Ll0s7vq"
      },
      "source": [
        "## 📝 문제 4번 (그룹화 + Relationship)"
      ]
    },
    {
      "cell_type": "code",
      "execution_count": null,
      "metadata": {
        "id": "15Nod2GotAmP"
      },
      "outputs": [],
      "source": [
        "\"\"\"\n",
        "🎯 문제 4: 카테고리별 통계 (난이도: ⭐⭐⭐⭐)\n",
        "\n",
        "각 제품 카테고리별로 다음 통계를 출력하세요:\n",
        "1. 카테고리명\n",
        "2. 카테고리 내 제품 수\n",
        "3. 카테고리 내 평균 가격\n",
        "4. 이 카테고리 제품들을 구매한 고유 사용자 수 (중복 제거)\n",
        "\n",
        "힌트:\n",
        "- group_by() 사용\n",
        "- set()을 사용해서 중복 사용자 제거\n",
        "- product.order_items를 통해 구매 사용자 접근\n",
        "\"\"\"\n",
        "\n",
        "def problem_4():\n",
        "    \"\"\"여기에 코드를 작성하세요\"\"\"\n",
        "    # 카테고리별로 그룹화\n",
        "    # category_groups = session.query(Product.category).distinct().all()\n",
        "    # for (category,) in category_groups:\n",
        "    #     products_in_category = session.query(Product).filter(Product.category == category).all()\n",
        "    #     ...\n",
        "    pass\n",
        "\n",
        "print(\"\\n🎯 문제 4번 실행:\")\n",
        "problem_4()"
      ]
    },
    {
      "cell_type": "markdown",
      "metadata": {
        "id": "4RFQMc1otDhv"
      },
      "source": [
        "## 📝 문제 5번 (복합 조건 + 고급 활용)"
      ]
    },
    {
      "cell_type": "code",
      "execution_count": null,
      "metadata": {
        "id": "jcpB3nmDtFIx"
      },
      "outputs": [],
      "source": [
        "\"\"\"\n",
        "🎯 문제 5: VIP 고객 분석 (난이도: ⭐⭐⭐⭐⭐)\n",
        "\n",
        "다음 조건을 만족하는 \"VIP 고객\"들을 찾아 분석하세요:\n",
        "\n",
        "VIP 조건:\n",
        "1. 활성 사용자 (is_active = True)\n",
        "2. 연봉이 60000 이상\n",
        "3. 완료된 주문(completed)이 1개 이상 있음\n",
        "\n",
        "각 VIP 고객에 대해 출력:\n",
        "- 고객명: X\n",
        "- 연봉: X원\n",
        "- 완료된 주문 수: X개\n",
        "- 완료된 주문 총액: X원\n",
        "- 가장 비싼 단일 주문 금액: X원\n",
        "- 주문한 제품 카테고리들: [카테고리1, 카테고리2, ...] (중복 제거)\n",
        "\n",
        "마지막에 VIP 고객들을 완료된 주문 총액 순으로 정렬해서 출력하세요.\n",
        "\n",
        "힌트:\n",
        "- 여러 조건을 and_()로 결합\n",
        "- order.status == \"completed\" 조건 확인\n",
        "- set()으로 카테고리 중복 제거\n",
        "- 리스트 정렬 사용\n",
        "\"\"\"\n",
        "\n",
        "def problem_5():\n",
        "    \"\"\"여기에 코드를 작성하세요\"\"\"\n",
        "    # vip_candidates = session.query(User).filter(\n",
        "    #     and_(User.is_active == True, User.salary >= 60000)\n",
        "    # ).all()\n",
        "    #\n",
        "    # vip_customers = []\n",
        "    # for user in vip_candidates:\n",
        "    #     completed_orders = [order for order in user.orders if order.status == \"completed\"]\n",
        "    #     if len(completed_orders) >= 1:\n",
        "    #         ...\n",
        "    pass\n",
        "\n",
        "print(\"\\n🎯 문제 5번 실행:\")\n",
        "problem_5()"
      ]
    },
    {
      "cell_type": "markdown",
      "metadata": {
        "id": "xMV9zDhStJ4r"
      },
      "source": []
    },
    {
      "cell_type": "markdown",
      "metadata": {
        "id": "P9P2bFywtHJD"
      },
      "source": [
        "## 💡 문제 풀이 팁"
      ]
    },
    {
      "cell_type": "code",
      "execution_count": null,
      "metadata": {
        "id": "CoL13U8ytIx_"
      },
      "outputs": [],
      "source": [
        "# 🔑 핵심 패턴들\n",
        "\n",
        "# 1. Relationship으로 관련 데이터 접근\n",
        "user.orders          # 사용자 → 모든 주문들\n",
        "order.user          # 주문 → 주문자\n",
        "product.order_items # 제품 → 모든 주문 항목들\n",
        "order_item.order    # 주문 항목 → 주문\n",
        "order_item.product  # 주문 항목 → 제품\n",
        "\n",
        "# 2. 리스트 컴프리헨션 활용\n",
        "completed_orders = [order for order in user.orders if order.status == \"completed\"]\n",
        "\n",
        "# 3. 중복 제거\n",
        "unique_users = set()\n",
        "unique_users.add(user.username)\n",
        "result = list(unique_users)\n",
        "\n",
        "# 4. 정렬\n",
        "vip_list.sort(key=lambda x: x['total_amount'], reverse=True)  # 내림차순"
      ]
    }
  ],
  "metadata": {
    "colab": {
      "provenance": []
    },
    "kernelspec": {
      "display_name": "Python 3",
      "name": "python3"
    },
    "language_info": {
      "name": "python"
    }
  },
  "nbformat": 4,
  "nbformat_minor": 0
}
