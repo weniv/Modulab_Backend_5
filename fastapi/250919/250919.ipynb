{
  "nbformat": 4,
  "nbformat_minor": 0,
  "metadata": {
    "colab": {
      "provenance": []
    },
    "kernelspec": {
      "name": "python3",
      "display_name": "Python 3"
    },
    "language_info": {
      "name": "python"
    }
  },
  "cells": [
    {
      "cell_type": "code",
      "execution_count": 1,
      "metadata": {
        "id": "jOmAtqRLhM0T"
      },
      "outputs": [],
      "source": [
        "from sqlalchemy import create_engine, Column, Integer, String, Float, DateTime, Boolean, ForeignKey, func, and_, or_, desc, asc, text\n",
        "from sqlalchemy.ext.declarative import declarative_base\n",
        "from sqlalchemy.orm import sessionmaker, Session, relationship\n",
        "from datetime import datetime"
      ]
    },
    {
      "cell_type": "code",
      "source": [
        "engine = create_engine('sqlite:///sample.db', echo=True) # db연결설정\n",
        "\n",
        "Base = declarative_base() # db와 연동할 기본모델\n",
        "\n",
        "Session = sessionmaker(bind=engine)\n",
        "session = Session()"
      ],
      "metadata": {
        "colab": {
          "base_uri": "https://localhost:8080/"
        },
        "id": "iczsrVJ_hiCH",
        "outputId": "0b5e2c17-9d48-4e1f-bd56-4ff344b20e15"
      },
      "execution_count": 2,
      "outputs": [
        {
          "output_type": "stream",
          "name": "stderr",
          "text": [
            "/tmp/ipython-input-182488034.py:3: MovedIn20Warning: The ``declarative_base()`` function is now available as sqlalchemy.orm.declarative_base(). (deprecated since: 2.0) (Background on SQLAlchemy 2.0 at: https://sqlalche.me/e/b8d9)\n",
            "  Base = declarative_base() # db와 연동할 기본모델\n"
          ]
        }
      ]
    },
    {
      "cell_type": "code",
      "source": [
        "class User(Base):\n",
        "    __tablename__ = \"users\"\n",
        "    id = Column(Integer, primary_key=True)\n",
        "    username = Column(String, unique=True)\n",
        "    email = Column(String, unique=True)\n",
        "    age = Column(Integer)\n",
        "    salary = Column(Float)\n",
        "    is_active = Column(Boolean, default=True)\n",
        "    created_at = Column(DateTime, default=datetime.now)\n",
        "\n",
        "    orders = relationship(\"Order\", back_populates=\"user\")\n",
        "\n",
        "    def __repr__(self):\n",
        "        return f\"<User(id={self.id}, username='{self.username}', age={self.age})>\"\n",
        "\n",
        "    def __str__(self):\n",
        "        return f\"🧑 {self.username} (나이: {self.age}, 연봉: {self.salary:,.0f}원)\"\n",
        "\n",
        "    def to_dict(self):\n",
        "        return {\n",
        "            \"id\": self.id,\n",
        "            \"username\": self.username,\n",
        "            \"email\": self.email,\n",
        "            \"age\": self.age,\n",
        "            \"salary\": self.salary,\n",
        "            \"is_active\": self.is_active\n",
        "        }\n",
        "\n",
        "class Product(Base):\n",
        "    __tablename__ = \"products\"\n",
        "    id = Column(Integer, primary_key=True)\n",
        "    name = Column(String)\n",
        "    category = Column(String)\n",
        "    price = Column(Float)\n",
        "    stock = Column(Integer)\n",
        "    created_at = Column(DateTime, default=datetime.now)\n",
        "\n",
        "    order_items = relationship(\"OrderItem\", back_populates=\"product\")\n",
        "\n",
        "    def __repr__(self):\n",
        "        return f\"<Product(id={self.id}, name='{self.name}', price={self.price})>\"\n",
        "\n",
        "    def __str__(self):\n",
        "        return f\"📦 {self.name} - {self.price:,.0f}원 (재고: {self.stock}개)\"\n",
        "\n",
        "class Order(Base):\n",
        "    __tablename__ = \"orders\"\n",
        "    id = Column(Integer, primary_key=True)\n",
        "    user_id = Column(Integer, ForeignKey(\"users.id\"))\n",
        "    total_amount = Column(Float)\n",
        "    order_date = Column(DateTime, default=datetime.now)\n",
        "    status = Column(String, default=\"pending\")\n",
        "\n",
        "    user = relationship(\"User\", back_populates=\"orders\")\n",
        "    order_items = relationship(\"OrderItem\", back_populates=\"order\")\n",
        "\n",
        "    def __repr__(self):\n",
        "        return f\"<Order(id={self.id}, user_id={self.user_id}, amount={self.total_amount})>\"\n",
        "\n",
        "class OrderItem(Base):\n",
        "    __tablename__ = \"order_items\"\n",
        "    id = Column(Integer, primary_key=True)\n",
        "    order_id = Column(Integer, ForeignKey(\"orders.id\"))\n",
        "    product_id = Column(Integer, ForeignKey(\"products.id\"))\n",
        "    quantity = Column(Integer)\n",
        "    price = Column(Float)\n",
        "\n",
        "    order = relationship(\"Order\", back_populates=\"order_items\")\n",
        "    product = relationship(\"Product\", back_populates=\"order_items\")"
      ],
      "metadata": {
        "id": "i4NFTGkKiUWc"
      },
      "execution_count": 3,
      "outputs": []
    },
    {
      "cell_type": "code",
      "source": [
        "# 테이블 생성\n",
        "Base.metadata.create_all(engine)"
      ],
      "metadata": {
        "colab": {
          "base_uri": "https://localhost:8080/"
        },
        "collapsed": true,
        "id": "51GzFVlFkr2M",
        "outputId": "23360adf-1df7-4a73-c01b-cf49b068bf74"
      },
      "execution_count": 4,
      "outputs": [
        {
          "output_type": "stream",
          "name": "stdout",
          "text": [
            "2025-09-19 02:07:49,248 INFO sqlalchemy.engine.Engine BEGIN (implicit)\n"
          ]
        },
        {
          "output_type": "stream",
          "name": "stderr",
          "text": [
            "INFO:sqlalchemy.engine.Engine:BEGIN (implicit)\n"
          ]
        },
        {
          "output_type": "stream",
          "name": "stdout",
          "text": [
            "2025-09-19 02:07:49,258 INFO sqlalchemy.engine.Engine PRAGMA main.table_info(\"users\")\n"
          ]
        },
        {
          "output_type": "stream",
          "name": "stderr",
          "text": [
            "INFO:sqlalchemy.engine.Engine:PRAGMA main.table_info(\"users\")\n"
          ]
        },
        {
          "output_type": "stream",
          "name": "stdout",
          "text": [
            "2025-09-19 02:07:49,265 INFO sqlalchemy.engine.Engine [raw sql] ()\n"
          ]
        },
        {
          "output_type": "stream",
          "name": "stderr",
          "text": [
            "INFO:sqlalchemy.engine.Engine:[raw sql] ()\n"
          ]
        },
        {
          "output_type": "stream",
          "name": "stdout",
          "text": [
            "2025-09-19 02:07:49,276 INFO sqlalchemy.engine.Engine PRAGMA temp.table_info(\"users\")\n"
          ]
        },
        {
          "output_type": "stream",
          "name": "stderr",
          "text": [
            "INFO:sqlalchemy.engine.Engine:PRAGMA temp.table_info(\"users\")\n"
          ]
        },
        {
          "output_type": "stream",
          "name": "stdout",
          "text": [
            "2025-09-19 02:07:49,281 INFO sqlalchemy.engine.Engine [raw sql] ()\n"
          ]
        },
        {
          "output_type": "stream",
          "name": "stderr",
          "text": [
            "INFO:sqlalchemy.engine.Engine:[raw sql] ()\n"
          ]
        },
        {
          "output_type": "stream",
          "name": "stdout",
          "text": [
            "2025-09-19 02:07:49,295 INFO sqlalchemy.engine.Engine PRAGMA main.table_info(\"products\")\n"
          ]
        },
        {
          "output_type": "stream",
          "name": "stderr",
          "text": [
            "INFO:sqlalchemy.engine.Engine:PRAGMA main.table_info(\"products\")\n"
          ]
        },
        {
          "output_type": "stream",
          "name": "stdout",
          "text": [
            "2025-09-19 02:07:49,304 INFO sqlalchemy.engine.Engine [raw sql] ()\n"
          ]
        },
        {
          "output_type": "stream",
          "name": "stderr",
          "text": [
            "INFO:sqlalchemy.engine.Engine:[raw sql] ()\n"
          ]
        },
        {
          "output_type": "stream",
          "name": "stdout",
          "text": [
            "2025-09-19 02:07:49,325 INFO sqlalchemy.engine.Engine PRAGMA temp.table_info(\"products\")\n"
          ]
        },
        {
          "output_type": "stream",
          "name": "stderr",
          "text": [
            "INFO:sqlalchemy.engine.Engine:PRAGMA temp.table_info(\"products\")\n"
          ]
        },
        {
          "output_type": "stream",
          "name": "stdout",
          "text": [
            "2025-09-19 02:07:49,346 INFO sqlalchemy.engine.Engine [raw sql] ()\n"
          ]
        },
        {
          "output_type": "stream",
          "name": "stderr",
          "text": [
            "INFO:sqlalchemy.engine.Engine:[raw sql] ()\n"
          ]
        },
        {
          "output_type": "stream",
          "name": "stdout",
          "text": [
            "2025-09-19 02:07:49,358 INFO sqlalchemy.engine.Engine PRAGMA main.table_info(\"orders\")\n"
          ]
        },
        {
          "output_type": "stream",
          "name": "stderr",
          "text": [
            "INFO:sqlalchemy.engine.Engine:PRAGMA main.table_info(\"orders\")\n"
          ]
        },
        {
          "output_type": "stream",
          "name": "stdout",
          "text": [
            "2025-09-19 02:07:49,379 INFO sqlalchemy.engine.Engine [raw sql] ()\n"
          ]
        },
        {
          "output_type": "stream",
          "name": "stderr",
          "text": [
            "INFO:sqlalchemy.engine.Engine:[raw sql] ()\n"
          ]
        },
        {
          "output_type": "stream",
          "name": "stdout",
          "text": [
            "2025-09-19 02:07:49,386 INFO sqlalchemy.engine.Engine PRAGMA temp.table_info(\"orders\")\n"
          ]
        },
        {
          "output_type": "stream",
          "name": "stderr",
          "text": [
            "INFO:sqlalchemy.engine.Engine:PRAGMA temp.table_info(\"orders\")\n"
          ]
        },
        {
          "output_type": "stream",
          "name": "stdout",
          "text": [
            "2025-09-19 02:07:49,395 INFO sqlalchemy.engine.Engine [raw sql] ()\n"
          ]
        },
        {
          "output_type": "stream",
          "name": "stderr",
          "text": [
            "INFO:sqlalchemy.engine.Engine:[raw sql] ()\n"
          ]
        },
        {
          "output_type": "stream",
          "name": "stdout",
          "text": [
            "2025-09-19 02:07:49,430 INFO sqlalchemy.engine.Engine PRAGMA main.table_info(\"order_items\")\n"
          ]
        },
        {
          "output_type": "stream",
          "name": "stderr",
          "text": [
            "INFO:sqlalchemy.engine.Engine:PRAGMA main.table_info(\"order_items\")\n"
          ]
        },
        {
          "output_type": "stream",
          "name": "stdout",
          "text": [
            "2025-09-19 02:07:49,462 INFO sqlalchemy.engine.Engine [raw sql] ()\n"
          ]
        },
        {
          "output_type": "stream",
          "name": "stderr",
          "text": [
            "INFO:sqlalchemy.engine.Engine:[raw sql] ()\n"
          ]
        },
        {
          "output_type": "stream",
          "name": "stdout",
          "text": [
            "2025-09-19 02:07:49,474 INFO sqlalchemy.engine.Engine PRAGMA temp.table_info(\"order_items\")\n"
          ]
        },
        {
          "output_type": "stream",
          "name": "stderr",
          "text": [
            "INFO:sqlalchemy.engine.Engine:PRAGMA temp.table_info(\"order_items\")\n"
          ]
        },
        {
          "output_type": "stream",
          "name": "stdout",
          "text": [
            "2025-09-19 02:07:49,489 INFO sqlalchemy.engine.Engine [raw sql] ()\n"
          ]
        },
        {
          "output_type": "stream",
          "name": "stderr",
          "text": [
            "INFO:sqlalchemy.engine.Engine:[raw sql] ()\n"
          ]
        },
        {
          "output_type": "stream",
          "name": "stdout",
          "text": [
            "2025-09-19 02:07:49,502 INFO sqlalchemy.engine.Engine \n",
            "CREATE TABLE users (\n",
            "\tid INTEGER NOT NULL, \n",
            "\tusername VARCHAR, \n",
            "\temail VARCHAR, \n",
            "\tage INTEGER, \n",
            "\tsalary FLOAT, \n",
            "\tis_active BOOLEAN, \n",
            "\tcreated_at DATETIME, \n",
            "\tPRIMARY KEY (id), \n",
            "\tUNIQUE (username), \n",
            "\tUNIQUE (email)\n",
            ")\n",
            "\n",
            "\n"
          ]
        },
        {
          "output_type": "stream",
          "name": "stderr",
          "text": [
            "INFO:sqlalchemy.engine.Engine:\n",
            "CREATE TABLE users (\n",
            "\tid INTEGER NOT NULL, \n",
            "\tusername VARCHAR, \n",
            "\temail VARCHAR, \n",
            "\tage INTEGER, \n",
            "\tsalary FLOAT, \n",
            "\tis_active BOOLEAN, \n",
            "\tcreated_at DATETIME, \n",
            "\tPRIMARY KEY (id), \n",
            "\tUNIQUE (username), \n",
            "\tUNIQUE (email)\n",
            ")\n",
            "\n",
            "\n"
          ]
        },
        {
          "output_type": "stream",
          "name": "stdout",
          "text": [
            "2025-09-19 02:07:49,520 INFO sqlalchemy.engine.Engine [no key 0.01857s] ()\n"
          ]
        },
        {
          "output_type": "stream",
          "name": "stderr",
          "text": [
            "INFO:sqlalchemy.engine.Engine:[no key 0.01857s] ()\n"
          ]
        },
        {
          "output_type": "stream",
          "name": "stdout",
          "text": [
            "2025-09-19 02:07:49,551 INFO sqlalchemy.engine.Engine \n",
            "CREATE TABLE products (\n",
            "\tid INTEGER NOT NULL, \n",
            "\tname VARCHAR, \n",
            "\tcategory VARCHAR, \n",
            "\tprice FLOAT, \n",
            "\tstock INTEGER, \n",
            "\tcreated_at DATETIME, \n",
            "\tPRIMARY KEY (id)\n",
            ")\n",
            "\n",
            "\n"
          ]
        },
        {
          "output_type": "stream",
          "name": "stderr",
          "text": [
            "INFO:sqlalchemy.engine.Engine:\n",
            "CREATE TABLE products (\n",
            "\tid INTEGER NOT NULL, \n",
            "\tname VARCHAR, \n",
            "\tcategory VARCHAR, \n",
            "\tprice FLOAT, \n",
            "\tstock INTEGER, \n",
            "\tcreated_at DATETIME, \n",
            "\tPRIMARY KEY (id)\n",
            ")\n",
            "\n",
            "\n"
          ]
        },
        {
          "output_type": "stream",
          "name": "stdout",
          "text": [
            "2025-09-19 02:07:49,561 INFO sqlalchemy.engine.Engine [no key 0.01023s] ()\n"
          ]
        },
        {
          "output_type": "stream",
          "name": "stderr",
          "text": [
            "INFO:sqlalchemy.engine.Engine:[no key 0.01023s] ()\n"
          ]
        },
        {
          "output_type": "stream",
          "name": "stdout",
          "text": [
            "2025-09-19 02:07:49,583 INFO sqlalchemy.engine.Engine \n",
            "CREATE TABLE orders (\n",
            "\tid INTEGER NOT NULL, \n",
            "\tuser_id INTEGER, \n",
            "\ttotal_amount FLOAT, \n",
            "\torder_date DATETIME, \n",
            "\tstatus VARCHAR, \n",
            "\tPRIMARY KEY (id), \n",
            "\tFOREIGN KEY(user_id) REFERENCES users (id)\n",
            ")\n",
            "\n",
            "\n"
          ]
        },
        {
          "output_type": "stream",
          "name": "stderr",
          "text": [
            "INFO:sqlalchemy.engine.Engine:\n",
            "CREATE TABLE orders (\n",
            "\tid INTEGER NOT NULL, \n",
            "\tuser_id INTEGER, \n",
            "\ttotal_amount FLOAT, \n",
            "\torder_date DATETIME, \n",
            "\tstatus VARCHAR, \n",
            "\tPRIMARY KEY (id), \n",
            "\tFOREIGN KEY(user_id) REFERENCES users (id)\n",
            ")\n",
            "\n",
            "\n"
          ]
        },
        {
          "output_type": "stream",
          "name": "stdout",
          "text": [
            "2025-09-19 02:07:49,586 INFO sqlalchemy.engine.Engine [no key 0.00261s] ()\n"
          ]
        },
        {
          "output_type": "stream",
          "name": "stderr",
          "text": [
            "INFO:sqlalchemy.engine.Engine:[no key 0.00261s] ()\n"
          ]
        },
        {
          "output_type": "stream",
          "name": "stdout",
          "text": [
            "2025-09-19 02:07:49,611 INFO sqlalchemy.engine.Engine \n",
            "CREATE TABLE order_items (\n",
            "\tid INTEGER NOT NULL, \n",
            "\torder_id INTEGER, \n",
            "\tproduct_id INTEGER, \n",
            "\tquantity INTEGER, \n",
            "\tprice FLOAT, \n",
            "\tPRIMARY KEY (id), \n",
            "\tFOREIGN KEY(order_id) REFERENCES orders (id), \n",
            "\tFOREIGN KEY(product_id) REFERENCES products (id)\n",
            ")\n",
            "\n",
            "\n"
          ]
        },
        {
          "output_type": "stream",
          "name": "stderr",
          "text": [
            "INFO:sqlalchemy.engine.Engine:\n",
            "CREATE TABLE order_items (\n",
            "\tid INTEGER NOT NULL, \n",
            "\torder_id INTEGER, \n",
            "\tproduct_id INTEGER, \n",
            "\tquantity INTEGER, \n",
            "\tprice FLOAT, \n",
            "\tPRIMARY KEY (id), \n",
            "\tFOREIGN KEY(order_id) REFERENCES orders (id), \n",
            "\tFOREIGN KEY(product_id) REFERENCES products (id)\n",
            ")\n",
            "\n",
            "\n"
          ]
        },
        {
          "output_type": "stream",
          "name": "stdout",
          "text": [
            "2025-09-19 02:07:49,618 INFO sqlalchemy.engine.Engine [no key 0.00703s] ()\n"
          ]
        },
        {
          "output_type": "stream",
          "name": "stderr",
          "text": [
            "INFO:sqlalchemy.engine.Engine:[no key 0.00703s] ()\n"
          ]
        },
        {
          "output_type": "stream",
          "name": "stdout",
          "text": [
            "2025-09-19 02:07:49,637 INFO sqlalchemy.engine.Engine COMMIT\n"
          ]
        },
        {
          "output_type": "stream",
          "name": "stderr",
          "text": [
            "INFO:sqlalchemy.engine.Engine:COMMIT\n"
          ]
        }
      ]
    },
    {
      "cell_type": "code",
      "source": [
        "# class User(Base):\n",
        "#     __tablename__ = \"users\"\n",
        "#     id = Column(Integer, primary_key=True)\n",
        "#     username = Column(String, unique=True) # unique 옵션은 고유해야함.\n",
        "#     email = Column(String, unique=True)\n",
        "#     age = Column(Integer)\n",
        "#     salary = Column(Float)\n",
        "#     is_active = Column(Boolean, default=True) # default = 기본값\n",
        "#     created_at = Column(DateTime, default=datetime.now)\n",
        "#     # 참조 relationship(\"클래스이름\",back_populates=\"참조하는 클래스의 변수이름\")\n",
        "#     orders = relationship(\"Order\", back_populates=\"user\")\n",
        "\n",
        "new_user = User(username=\"max\",email=\"test.gmail.com\",age=20,salary=30000.1111)\n",
        "\n",
        "session.add(new_user)\n",
        "session.commit()"
      ],
      "metadata": {
        "colab": {
          "base_uri": "https://localhost:8080/"
        },
        "collapsed": true,
        "id": "rwtxu-bWkyzO",
        "outputId": "fc47fe32-65b6-4c54-ceb0-dda3acd1f452"
      },
      "execution_count": 5,
      "outputs": [
        {
          "output_type": "stream",
          "name": "stdout",
          "text": [
            "2025-09-19 02:07:49,722 INFO sqlalchemy.engine.Engine BEGIN (implicit)\n"
          ]
        },
        {
          "output_type": "stream",
          "name": "stderr",
          "text": [
            "INFO:sqlalchemy.engine.Engine:BEGIN (implicit)\n"
          ]
        },
        {
          "output_type": "stream",
          "name": "stdout",
          "text": [
            "2025-09-19 02:07:49,742 INFO sqlalchemy.engine.Engine INSERT INTO users (username, email, age, salary, is_active, created_at) VALUES (?, ?, ?, ?, ?, ?)\n"
          ]
        },
        {
          "output_type": "stream",
          "name": "stderr",
          "text": [
            "INFO:sqlalchemy.engine.Engine:INSERT INTO users (username, email, age, salary, is_active, created_at) VALUES (?, ?, ?, ?, ?, ?)\n"
          ]
        },
        {
          "output_type": "stream",
          "name": "stdout",
          "text": [
            "2025-09-19 02:07:49,755 INFO sqlalchemy.engine.Engine [generated in 0.01342s] ('max', 'test.gmail.com', 20, 30000.1111, 1, '2025-09-19 02:07:49.742092')\n"
          ]
        },
        {
          "output_type": "stream",
          "name": "stderr",
          "text": [
            "INFO:sqlalchemy.engine.Engine:[generated in 0.01342s] ('max', 'test.gmail.com', 20, 30000.1111, 1, '2025-09-19 02:07:49.742092')\n"
          ]
        },
        {
          "output_type": "stream",
          "name": "stdout",
          "text": [
            "2025-09-19 02:07:49,773 INFO sqlalchemy.engine.Engine COMMIT\n"
          ]
        },
        {
          "output_type": "stream",
          "name": "stderr",
          "text": [
            "INFO:sqlalchemy.engine.Engine:COMMIT\n"
          ]
        }
      ]
    },
    {
      "cell_type": "code",
      "source": [
        "# 조회\n",
        "# session.rollback() # 세션 상태를 이전으로 롤백\n",
        "\n",
        "# all_users = session.query(User).all()\n",
        "\n",
        "# 일치하는 조건 데이터 첫번째것 조회\n",
        "# session.query(User).filter(User.username =='max').first()\n",
        "\n",
        "# 일치하는 조건에 따른 데이터 모두 조회\n",
        "# session.query(User).filter(User.username == 'max111').all()\n",
        "\n",
        "# 키워드인자방식\n",
        "# session.query(User).filter_by(username='max').first()\n",
        "\n",
        "# 첫번째 데이터를 조회하긴 하지만, 그 데이터가 없으면 에러 (one)\n",
        "# session.query(User).filter(User.id==2).one()\n",
        "\n",
        "# one_or_none() - 하나 또는 None\n",
        "# none_test = session.query(User).filter(User.id==2).one_or_none()\n",
        "# print(none_test)\n"
      ],
      "metadata": {
        "colab": {
          "base_uri": "https://localhost:8080/"
        },
        "collapsed": true,
        "id": "CtkjmqZMl4pL",
        "outputId": "9371c10d-d15e-4732-f5e1-f86e0e9a03ee"
      },
      "execution_count": 8,
      "outputs": [
        {
          "output_type": "stream",
          "name": "stdout",
          "text": [
            "2025-09-19 02:11:43,085 INFO sqlalchemy.engine.Engine SELECT users.id AS users_id, users.username AS users_username, users.email AS users_email, users.age AS users_age, users.salary AS users_salary, users.is_active AS users_is_active, users.created_at AS users_created_at \n",
            "FROM users \n",
            "WHERE users.username = ?\n",
            " LIMIT ? OFFSET ?\n"
          ]
        },
        {
          "output_type": "stream",
          "name": "stderr",
          "text": [
            "INFO:sqlalchemy.engine.Engine:SELECT users.id AS users_id, users.username AS users_username, users.email AS users_email, users.age AS users_age, users.salary AS users_salary, users.is_active AS users_is_active, users.created_at AS users_created_at \n",
            "FROM users \n",
            "WHERE users.username = ?\n",
            " LIMIT ? OFFSET ?\n"
          ]
        },
        {
          "output_type": "stream",
          "name": "stdout",
          "text": [
            "2025-09-19 02:11:43,089 INFO sqlalchemy.engine.Engine [cached since 185.6s ago] ('max', 1, 0)\n"
          ]
        },
        {
          "output_type": "stream",
          "name": "stderr",
          "text": [
            "INFO:sqlalchemy.engine.Engine:[cached since 185.6s ago] ('max', 1, 0)\n"
          ]
        },
        {
          "output_type": "execute_result",
          "data": {
            "text/plain": [
              "<User(id=1, username='max', age=20)>"
            ]
          },
          "metadata": {},
          "execution_count": 8
        }
      ]
    },
    {
      "cell_type": "code",
      "source": [
        "# 간단한 샘플 데이터 생성 (5-10개씩만)\n",
        "import random\n",
        "def create_simple_users():\n",
        "    \"\"\"간단한 사용자 5명 생성\"\"\"\n",
        "    users_data = [\n",
        "        {\"username\": \"김철수\", \"email\": \"kim@gmail.com\", \"age\": 25, \"salary\": 50000},\n",
        "        {\"username\": \"이영희\", \"email\": \"lee@naver.com\", \"age\": 30, \"salary\": 60000},\n",
        "        {\"username\": \"박민수\", \"email\": \"park@daum.net\", \"age\": 28, \"salary\": 55000},\n",
        "        {\"username\": \"최지원\", \"email\": \"choi@gmail.com\", \"age\": 32, \"salary\": 70000},\n",
        "        {\"username\": \"정다영\", \"email\": \"jung@yahoo.com\", \"age\": 27, \"salary\": 48000}\n",
        "    ]\n",
        "\n",
        "    users = []\n",
        "\n",
        "    for data in users_data:\n",
        "        user = User(**data)\n",
        "        users.append(user)\n",
        "        session.add(user)\n",
        "\n",
        "    session.commit()\n",
        "    print(f\"✅ {len(users)}명의 사용자 생성 완료!\")\n",
        "    return users\n",
        "\n",
        "def create_simple_products():\n",
        "    \"\"\"간단한 제품 8개 생성\"\"\"\n",
        "    products_data = [\n",
        "        {\"name\": \"아이폰\", \"category\": \"전자제품\", \"price\": 1200000, \"stock\": 50},\n",
        "        {\"name\": \"갤럭시\", \"category\": \"전자제품\", \"price\": 1000000, \"stock\": 30},\n",
        "        {\"name\": \"노트북\", \"category\": \"전자제품\", \"price\": 1500000, \"stock\": 20},\n",
        "        {\"name\": \"티셔츠\", \"category\": \"의류\", \"price\": 25000, \"stock\": 100},\n",
        "        {\"name\": \"청바지\", \"category\": \"의류\", \"price\": 80000, \"stock\": 60},\n",
        "        {\"name\": \"운동화\", \"category\": \"신발\", \"price\": 120000, \"stock\": 40},\n",
        "        {\"name\": \"가방\", \"category\": \"액세서리\", \"price\": 150000, \"stock\": 25},\n",
        "        {\"name\": \"시계\", \"category\": \"액세서리\", \"price\": 300000, \"stock\": 15}\n",
        "    ]\n",
        "\n",
        "    products = []\n",
        "    for data in products_data:\n",
        "        product = Product(**data)\n",
        "        products.append(product)\n",
        "        session.add(product)\n",
        "\n",
        "    session.commit()\n",
        "    print(f\"✅ {len(products)}개의 제품 생성 완료!\")\n",
        "    return products\n",
        "\n",
        "def create_simple_orders():\n",
        "    \"\"\"간단한 주문 3개 생성\"\"\"\n",
        "    # 사용자와 제품이 있는지 확인\n",
        "    users = session.query(User).all()\n",
        "    products = session.query(Product).all()\n",
        "\n",
        "    if not users or not products:\n",
        "        print(\"❌ 먼저 사용자와 제품을 생성해주세요!\")\n",
        "        return []\n",
        "\n",
        "    orders = []\n",
        "    for i in range(3):\n",
        "        user = random.choice(users)\n",
        "        order = Order(\n",
        "            user_id=user.id,\n",
        "            total_amount=random.randint(50000, 500000),\n",
        "            status=random.choice([\"pending\", \"shipped\", \"delivered\"])\n",
        "        )\n",
        "        orders.append(order)\n",
        "        session.add(order)\n",
        "\n",
        "    session.commit()\n",
        "    print(f\"✅ {len(orders)}개의 주문 생성 완료!\")\n",
        "    return orders\n",
        "\n",
        "# 모든 데이터 한번에 생성\n",
        "def create_all_sample_data():\n",
        "    \"\"\"모든 샘플 데이터 생성\"\"\"\n",
        "    print(\"🚀 샘플 데이터 생성 시작...\")\n",
        "    users = create_simple_users()\n",
        "    products = create_simple_products()\n",
        "    orders = create_simple_orders()\n",
        "    print(\"🎉 모든 샘플 데이터 생성 완료!\")\n",
        "    return users, products, orders\n",
        "\n",
        "create_all_sample_data()"
      ],
      "metadata": {
        "colab": {
          "base_uri": "https://localhost:8080/"
        },
        "collapsed": true,
        "id": "UTG6_FOcmrah",
        "outputId": "4755c7f8-36c5-49ef-a1b3-6ac0c75892df"
      },
      "execution_count": 9,
      "outputs": [
        {
          "output_type": "stream",
          "name": "stdout",
          "text": [
            "🚀 샘플 데이터 생성 시작...\n",
            "2025-09-19 02:21:38,642 INFO sqlalchemy.engine.Engine INSERT INTO users (username, email, age, salary, is_active, created_at) VALUES (?, ?, ?, ?, ?, ?) RETURNING id\n"
          ]
        },
        {
          "output_type": "stream",
          "name": "stderr",
          "text": [
            "INFO:sqlalchemy.engine.Engine:INSERT INTO users (username, email, age, salary, is_active, created_at) VALUES (?, ?, ?, ?, ?, ?) RETURNING id\n"
          ]
        },
        {
          "output_type": "stream",
          "name": "stdout",
          "text": [
            "2025-09-19 02:21:38,645 INFO sqlalchemy.engine.Engine [generated in 0.00040s (insertmanyvalues) 1/5 (ordered; batch not supported)] ('김철수', 'kim@gmail.com', 25, 50000.0, 1, '2025-09-19 02:21:38.642572')\n"
          ]
        },
        {
          "output_type": "stream",
          "name": "stderr",
          "text": [
            "INFO:sqlalchemy.engine.Engine:[generated in 0.00040s (insertmanyvalues) 1/5 (ordered; batch not supported)] ('김철수', 'kim@gmail.com', 25, 50000.0, 1, '2025-09-19 02:21:38.642572')\n"
          ]
        },
        {
          "output_type": "stream",
          "name": "stdout",
          "text": [
            "2025-09-19 02:21:38,647 INFO sqlalchemy.engine.Engine INSERT INTO users (username, email, age, salary, is_active, created_at) VALUES (?, ?, ?, ?, ?, ?) RETURNING id\n"
          ]
        },
        {
          "output_type": "stream",
          "name": "stderr",
          "text": [
            "INFO:sqlalchemy.engine.Engine:INSERT INTO users (username, email, age, salary, is_active, created_at) VALUES (?, ?, ?, ?, ?, ?) RETURNING id\n"
          ]
        },
        {
          "output_type": "stream",
          "name": "stdout",
          "text": [
            "2025-09-19 02:21:38,649 INFO sqlalchemy.engine.Engine [insertmanyvalues 2/5 (ordered; batch not supported)] ('이영희', 'lee@naver.com', 30, 60000.0, 1, '2025-09-19 02:21:38.642580')\n"
          ]
        },
        {
          "output_type": "stream",
          "name": "stderr",
          "text": [
            "INFO:sqlalchemy.engine.Engine:[insertmanyvalues 2/5 (ordered; batch not supported)] ('이영희', 'lee@naver.com', 30, 60000.0, 1, '2025-09-19 02:21:38.642580')\n"
          ]
        },
        {
          "output_type": "stream",
          "name": "stdout",
          "text": [
            "2025-09-19 02:21:38,651 INFO sqlalchemy.engine.Engine INSERT INTO users (username, email, age, salary, is_active, created_at) VALUES (?, ?, ?, ?, ?, ?) RETURNING id\n"
          ]
        },
        {
          "output_type": "stream",
          "name": "stderr",
          "text": [
            "INFO:sqlalchemy.engine.Engine:INSERT INTO users (username, email, age, salary, is_active, created_at) VALUES (?, ?, ?, ?, ?, ?) RETURNING id\n"
          ]
        },
        {
          "output_type": "stream",
          "name": "stdout",
          "text": [
            "2025-09-19 02:21:38,653 INFO sqlalchemy.engine.Engine [insertmanyvalues 3/5 (ordered; batch not supported)] ('박민수', 'park@daum.net', 28, 55000.0, 1, '2025-09-19 02:21:38.642581')\n"
          ]
        },
        {
          "output_type": "stream",
          "name": "stderr",
          "text": [
            "INFO:sqlalchemy.engine.Engine:[insertmanyvalues 3/5 (ordered; batch not supported)] ('박민수', 'park@daum.net', 28, 55000.0, 1, '2025-09-19 02:21:38.642581')\n"
          ]
        },
        {
          "output_type": "stream",
          "name": "stdout",
          "text": [
            "2025-09-19 02:21:38,654 INFO sqlalchemy.engine.Engine INSERT INTO users (username, email, age, salary, is_active, created_at) VALUES (?, ?, ?, ?, ?, ?) RETURNING id\n"
          ]
        },
        {
          "output_type": "stream",
          "name": "stderr",
          "text": [
            "INFO:sqlalchemy.engine.Engine:INSERT INTO users (username, email, age, salary, is_active, created_at) VALUES (?, ?, ?, ?, ?, ?) RETURNING id\n"
          ]
        },
        {
          "output_type": "stream",
          "name": "stdout",
          "text": [
            "2025-09-19 02:21:38,656 INFO sqlalchemy.engine.Engine [insertmanyvalues 4/5 (ordered; batch not supported)] ('최지원', 'choi@gmail.com', 32, 70000.0, 1, '2025-09-19 02:21:38.642583')\n"
          ]
        },
        {
          "output_type": "stream",
          "name": "stderr",
          "text": [
            "INFO:sqlalchemy.engine.Engine:[insertmanyvalues 4/5 (ordered; batch not supported)] ('최지원', 'choi@gmail.com', 32, 70000.0, 1, '2025-09-19 02:21:38.642583')\n"
          ]
        },
        {
          "output_type": "stream",
          "name": "stdout",
          "text": [
            "2025-09-19 02:21:38,657 INFO sqlalchemy.engine.Engine INSERT INTO users (username, email, age, salary, is_active, created_at) VALUES (?, ?, ?, ?, ?, ?) RETURNING id\n"
          ]
        },
        {
          "output_type": "stream",
          "name": "stderr",
          "text": [
            "INFO:sqlalchemy.engine.Engine:INSERT INTO users (username, email, age, salary, is_active, created_at) VALUES (?, ?, ?, ?, ?, ?) RETURNING id\n"
          ]
        },
        {
          "output_type": "stream",
          "name": "stdout",
          "text": [
            "2025-09-19 02:21:38,658 INFO sqlalchemy.engine.Engine [insertmanyvalues 5/5 (ordered; batch not supported)] ('정다영', 'jung@yahoo.com', 27, 48000.0, 1, '2025-09-19 02:21:38.642584')\n"
          ]
        },
        {
          "output_type": "stream",
          "name": "stderr",
          "text": [
            "INFO:sqlalchemy.engine.Engine:[insertmanyvalues 5/5 (ordered; batch not supported)] ('정다영', 'jung@yahoo.com', 27, 48000.0, 1, '2025-09-19 02:21:38.642584')\n"
          ]
        },
        {
          "output_type": "stream",
          "name": "stdout",
          "text": [
            "2025-09-19 02:21:38,661 INFO sqlalchemy.engine.Engine COMMIT\n"
          ]
        },
        {
          "output_type": "stream",
          "name": "stderr",
          "text": [
            "INFO:sqlalchemy.engine.Engine:COMMIT\n"
          ]
        },
        {
          "output_type": "stream",
          "name": "stdout",
          "text": [
            "✅ 5명의 사용자 생성 완료!\n",
            "2025-09-19 02:21:38,677 INFO sqlalchemy.engine.Engine BEGIN (implicit)\n"
          ]
        },
        {
          "output_type": "stream",
          "name": "stderr",
          "text": [
            "INFO:sqlalchemy.engine.Engine:BEGIN (implicit)\n"
          ]
        },
        {
          "output_type": "stream",
          "name": "stdout",
          "text": [
            "2025-09-19 02:21:38,682 INFO sqlalchemy.engine.Engine INSERT INTO products (name, category, price, stock, created_at) VALUES (?, ?, ?, ?, ?) RETURNING id\n"
          ]
        },
        {
          "output_type": "stream",
          "name": "stderr",
          "text": [
            "INFO:sqlalchemy.engine.Engine:INSERT INTO products (name, category, price, stock, created_at) VALUES (?, ?, ?, ?, ?) RETURNING id\n"
          ]
        },
        {
          "output_type": "stream",
          "name": "stdout",
          "text": [
            "2025-09-19 02:21:38,685 INFO sqlalchemy.engine.Engine [generated in 0.00064s (insertmanyvalues) 1/8 (ordered; batch not supported)] ('아이폰', '전자제품', 1200000.0, 50, '2025-09-19 02:21:38.682279')\n"
          ]
        },
        {
          "output_type": "stream",
          "name": "stderr",
          "text": [
            "INFO:sqlalchemy.engine.Engine:[generated in 0.00064s (insertmanyvalues) 1/8 (ordered; batch not supported)] ('아이폰', '전자제품', 1200000.0, 50, '2025-09-19 02:21:38.682279')\n"
          ]
        },
        {
          "output_type": "stream",
          "name": "stdout",
          "text": [
            "2025-09-19 02:21:38,688 INFO sqlalchemy.engine.Engine INSERT INTO products (name, category, price, stock, created_at) VALUES (?, ?, ?, ?, ?) RETURNING id\n"
          ]
        },
        {
          "output_type": "stream",
          "name": "stderr",
          "text": [
            "INFO:sqlalchemy.engine.Engine:INSERT INTO products (name, category, price, stock, created_at) VALUES (?, ?, ?, ?, ?) RETURNING id\n"
          ]
        },
        {
          "output_type": "stream",
          "name": "stdout",
          "text": [
            "2025-09-19 02:21:38,691 INFO sqlalchemy.engine.Engine [insertmanyvalues 2/8 (ordered; batch not supported)] ('갤럭시', '전자제품', 1000000.0, 30, '2025-09-19 02:21:38.682286')\n"
          ]
        },
        {
          "output_type": "stream",
          "name": "stderr",
          "text": [
            "INFO:sqlalchemy.engine.Engine:[insertmanyvalues 2/8 (ordered; batch not supported)] ('갤럭시', '전자제품', 1000000.0, 30, '2025-09-19 02:21:38.682286')\n"
          ]
        },
        {
          "output_type": "stream",
          "name": "stdout",
          "text": [
            "2025-09-19 02:21:38,694 INFO sqlalchemy.engine.Engine INSERT INTO products (name, category, price, stock, created_at) VALUES (?, ?, ?, ?, ?) RETURNING id\n"
          ]
        },
        {
          "output_type": "stream",
          "name": "stderr",
          "text": [
            "INFO:sqlalchemy.engine.Engine:INSERT INTO products (name, category, price, stock, created_at) VALUES (?, ?, ?, ?, ?) RETURNING id\n"
          ]
        },
        {
          "output_type": "stream",
          "name": "stdout",
          "text": [
            "2025-09-19 02:21:38,697 INFO sqlalchemy.engine.Engine [insertmanyvalues 3/8 (ordered; batch not supported)] ('노트북', '전자제품', 1500000.0, 20, '2025-09-19 02:21:38.682288')\n"
          ]
        },
        {
          "output_type": "stream",
          "name": "stderr",
          "text": [
            "INFO:sqlalchemy.engine.Engine:[insertmanyvalues 3/8 (ordered; batch not supported)] ('노트북', '전자제품', 1500000.0, 20, '2025-09-19 02:21:38.682288')\n"
          ]
        },
        {
          "output_type": "stream",
          "name": "stdout",
          "text": [
            "2025-09-19 02:21:38,699 INFO sqlalchemy.engine.Engine INSERT INTO products (name, category, price, stock, created_at) VALUES (?, ?, ?, ?, ?) RETURNING id\n"
          ]
        },
        {
          "output_type": "stream",
          "name": "stderr",
          "text": [
            "INFO:sqlalchemy.engine.Engine:INSERT INTO products (name, category, price, stock, created_at) VALUES (?, ?, ?, ?, ?) RETURNING id\n"
          ]
        },
        {
          "output_type": "stream",
          "name": "stdout",
          "text": [
            "2025-09-19 02:21:38,701 INFO sqlalchemy.engine.Engine [insertmanyvalues 4/8 (ordered; batch not supported)] ('티셔츠', '의류', 25000.0, 100, '2025-09-19 02:21:38.682288')\n"
          ]
        },
        {
          "output_type": "stream",
          "name": "stderr",
          "text": [
            "INFO:sqlalchemy.engine.Engine:[insertmanyvalues 4/8 (ordered; batch not supported)] ('티셔츠', '의류', 25000.0, 100, '2025-09-19 02:21:38.682288')\n"
          ]
        },
        {
          "output_type": "stream",
          "name": "stdout",
          "text": [
            "2025-09-19 02:21:38,702 INFO sqlalchemy.engine.Engine INSERT INTO products (name, category, price, stock, created_at) VALUES (?, ?, ?, ?, ?) RETURNING id\n"
          ]
        },
        {
          "output_type": "stream",
          "name": "stderr",
          "text": [
            "INFO:sqlalchemy.engine.Engine:INSERT INTO products (name, category, price, stock, created_at) VALUES (?, ?, ?, ?, ?) RETURNING id\n"
          ]
        },
        {
          "output_type": "stream",
          "name": "stdout",
          "text": [
            "2025-09-19 02:21:38,705 INFO sqlalchemy.engine.Engine [insertmanyvalues 5/8 (ordered; batch not supported)] ('청바지', '의류', 80000.0, 60, '2025-09-19 02:21:38.682289')\n"
          ]
        },
        {
          "output_type": "stream",
          "name": "stderr",
          "text": [
            "INFO:sqlalchemy.engine.Engine:[insertmanyvalues 5/8 (ordered; batch not supported)] ('청바지', '의류', 80000.0, 60, '2025-09-19 02:21:38.682289')\n"
          ]
        },
        {
          "output_type": "stream",
          "name": "stdout",
          "text": [
            "2025-09-19 02:21:38,709 INFO sqlalchemy.engine.Engine INSERT INTO products (name, category, price, stock, created_at) VALUES (?, ?, ?, ?, ?) RETURNING id\n"
          ]
        },
        {
          "output_type": "stream",
          "name": "stderr",
          "text": [
            "INFO:sqlalchemy.engine.Engine:INSERT INTO products (name, category, price, stock, created_at) VALUES (?, ?, ?, ?, ?) RETURNING id\n"
          ]
        },
        {
          "output_type": "stream",
          "name": "stdout",
          "text": [
            "2025-09-19 02:21:38,711 INFO sqlalchemy.engine.Engine [insertmanyvalues 6/8 (ordered; batch not supported)] ('운동화', '신발', 120000.0, 40, '2025-09-19 02:21:38.682291')\n"
          ]
        },
        {
          "output_type": "stream",
          "name": "stderr",
          "text": [
            "INFO:sqlalchemy.engine.Engine:[insertmanyvalues 6/8 (ordered; batch not supported)] ('운동화', '신발', 120000.0, 40, '2025-09-19 02:21:38.682291')\n"
          ]
        },
        {
          "output_type": "stream",
          "name": "stdout",
          "text": [
            "2025-09-19 02:21:38,713 INFO sqlalchemy.engine.Engine INSERT INTO products (name, category, price, stock, created_at) VALUES (?, ?, ?, ?, ?) RETURNING id\n"
          ]
        },
        {
          "output_type": "stream",
          "name": "stderr",
          "text": [
            "INFO:sqlalchemy.engine.Engine:INSERT INTO products (name, category, price, stock, created_at) VALUES (?, ?, ?, ?, ?) RETURNING id\n"
          ]
        },
        {
          "output_type": "stream",
          "name": "stdout",
          "text": [
            "2025-09-19 02:21:38,715 INFO sqlalchemy.engine.Engine [insertmanyvalues 7/8 (ordered; batch not supported)] ('가방', '액세서리', 150000.0, 25, '2025-09-19 02:21:38.682291')\n"
          ]
        },
        {
          "output_type": "stream",
          "name": "stderr",
          "text": [
            "INFO:sqlalchemy.engine.Engine:[insertmanyvalues 7/8 (ordered; batch not supported)] ('가방', '액세서리', 150000.0, 25, '2025-09-19 02:21:38.682291')\n"
          ]
        },
        {
          "output_type": "stream",
          "name": "stdout",
          "text": [
            "2025-09-19 02:21:38,716 INFO sqlalchemy.engine.Engine INSERT INTO products (name, category, price, stock, created_at) VALUES (?, ?, ?, ?, ?) RETURNING id\n"
          ]
        },
        {
          "output_type": "stream",
          "name": "stderr",
          "text": [
            "INFO:sqlalchemy.engine.Engine:INSERT INTO products (name, category, price, stock, created_at) VALUES (?, ?, ?, ?, ?) RETURNING id\n"
          ]
        },
        {
          "output_type": "stream",
          "name": "stdout",
          "text": [
            "2025-09-19 02:21:38,717 INFO sqlalchemy.engine.Engine [insertmanyvalues 8/8 (ordered; batch not supported)] ('시계', '액세서리', 300000.0, 15, '2025-09-19 02:21:38.682293')\n"
          ]
        },
        {
          "output_type": "stream",
          "name": "stderr",
          "text": [
            "INFO:sqlalchemy.engine.Engine:[insertmanyvalues 8/8 (ordered; batch not supported)] ('시계', '액세서리', 300000.0, 15, '2025-09-19 02:21:38.682293')\n"
          ]
        },
        {
          "output_type": "stream",
          "name": "stdout",
          "text": [
            "2025-09-19 02:21:38,720 INFO sqlalchemy.engine.Engine COMMIT\n"
          ]
        },
        {
          "output_type": "stream",
          "name": "stderr",
          "text": [
            "INFO:sqlalchemy.engine.Engine:COMMIT\n"
          ]
        },
        {
          "output_type": "stream",
          "name": "stdout",
          "text": [
            "✅ 8개의 제품 생성 완료!\n",
            "2025-09-19 02:21:38,734 INFO sqlalchemy.engine.Engine BEGIN (implicit)\n"
          ]
        },
        {
          "output_type": "stream",
          "name": "stderr",
          "text": [
            "INFO:sqlalchemy.engine.Engine:BEGIN (implicit)\n"
          ]
        },
        {
          "output_type": "stream",
          "name": "stdout",
          "text": [
            "2025-09-19 02:21:38,738 INFO sqlalchemy.engine.Engine SELECT users.id AS users_id, users.username AS users_username, users.email AS users_email, users.age AS users_age, users.salary AS users_salary, users.is_active AS users_is_active, users.created_at AS users_created_at \n",
            "FROM users\n"
          ]
        },
        {
          "output_type": "stream",
          "name": "stderr",
          "text": [
            "INFO:sqlalchemy.engine.Engine:SELECT users.id AS users_id, users.username AS users_username, users.email AS users_email, users.age AS users_age, users.salary AS users_salary, users.is_active AS users_is_active, users.created_at AS users_created_at \n",
            "FROM users\n"
          ]
        },
        {
          "output_type": "stream",
          "name": "stdout",
          "text": [
            "2025-09-19 02:21:38,739 INFO sqlalchemy.engine.Engine [generated in 0.00176s] ()\n"
          ]
        },
        {
          "output_type": "stream",
          "name": "stderr",
          "text": [
            "INFO:sqlalchemy.engine.Engine:[generated in 0.00176s] ()\n"
          ]
        },
        {
          "output_type": "stream",
          "name": "stdout",
          "text": [
            "2025-09-19 02:21:38,744 INFO sqlalchemy.engine.Engine SELECT products.id AS products_id, products.name AS products_name, products.category AS products_category, products.price AS products_price, products.stock AS products_stock, products.created_at AS products_created_at \n",
            "FROM products\n"
          ]
        },
        {
          "output_type": "stream",
          "name": "stderr",
          "text": [
            "INFO:sqlalchemy.engine.Engine:SELECT products.id AS products_id, products.name AS products_name, products.category AS products_category, products.price AS products_price, products.stock AS products_stock, products.created_at AS products_created_at \n",
            "FROM products\n"
          ]
        },
        {
          "output_type": "stream",
          "name": "stdout",
          "text": [
            "2025-09-19 02:21:38,746 INFO sqlalchemy.engine.Engine [generated in 0.00226s] ()\n"
          ]
        },
        {
          "output_type": "stream",
          "name": "stderr",
          "text": [
            "INFO:sqlalchemy.engine.Engine:[generated in 0.00226s] ()\n"
          ]
        },
        {
          "output_type": "stream",
          "name": "stdout",
          "text": [
            "2025-09-19 02:21:38,753 INFO sqlalchemy.engine.Engine INSERT INTO orders (user_id, total_amount, order_date, status) VALUES (?, ?, ?, ?) RETURNING id\n"
          ]
        },
        {
          "output_type": "stream",
          "name": "stderr",
          "text": [
            "INFO:sqlalchemy.engine.Engine:INSERT INTO orders (user_id, total_amount, order_date, status) VALUES (?, ?, ?, ?) RETURNING id\n"
          ]
        },
        {
          "output_type": "stream",
          "name": "stdout",
          "text": [
            "2025-09-19 02:21:38,758 INFO sqlalchemy.engine.Engine [generated in 0.00039s (insertmanyvalues) 1/3 (ordered; batch not supported)] (1, 432395.0, '2025-09-19 02:21:38.753292', 'pending')\n"
          ]
        },
        {
          "output_type": "stream",
          "name": "stderr",
          "text": [
            "INFO:sqlalchemy.engine.Engine:[generated in 0.00039s (insertmanyvalues) 1/3 (ordered; batch not supported)] (1, 432395.0, '2025-09-19 02:21:38.753292', 'pending')\n"
          ]
        },
        {
          "output_type": "stream",
          "name": "stdout",
          "text": [
            "2025-09-19 02:21:38,760 INFO sqlalchemy.engine.Engine INSERT INTO orders (user_id, total_amount, order_date, status) VALUES (?, ?, ?, ?) RETURNING id\n"
          ]
        },
        {
          "output_type": "stream",
          "name": "stderr",
          "text": [
            "INFO:sqlalchemy.engine.Engine:INSERT INTO orders (user_id, total_amount, order_date, status) VALUES (?, ?, ?, ?) RETURNING id\n"
          ]
        },
        {
          "output_type": "stream",
          "name": "stdout",
          "text": [
            "2025-09-19 02:21:38,762 INFO sqlalchemy.engine.Engine [insertmanyvalues 2/3 (ordered; batch not supported)] (6, 463673.0, '2025-09-19 02:21:38.753299', 'shipped')\n"
          ]
        },
        {
          "output_type": "stream",
          "name": "stderr",
          "text": [
            "INFO:sqlalchemy.engine.Engine:[insertmanyvalues 2/3 (ordered; batch not supported)] (6, 463673.0, '2025-09-19 02:21:38.753299', 'shipped')\n"
          ]
        },
        {
          "output_type": "stream",
          "name": "stdout",
          "text": [
            "2025-09-19 02:21:38,765 INFO sqlalchemy.engine.Engine INSERT INTO orders (user_id, total_amount, order_date, status) VALUES (?, ?, ?, ?) RETURNING id\n"
          ]
        },
        {
          "output_type": "stream",
          "name": "stderr",
          "text": [
            "INFO:sqlalchemy.engine.Engine:INSERT INTO orders (user_id, total_amount, order_date, status) VALUES (?, ?, ?, ?) RETURNING id\n"
          ]
        },
        {
          "output_type": "stream",
          "name": "stdout",
          "text": [
            "2025-09-19 02:21:38,767 INFO sqlalchemy.engine.Engine [insertmanyvalues 3/3 (ordered; batch not supported)] (1, 186511.0, '2025-09-19 02:21:38.753300', 'delivered')\n"
          ]
        },
        {
          "output_type": "stream",
          "name": "stderr",
          "text": [
            "INFO:sqlalchemy.engine.Engine:[insertmanyvalues 3/3 (ordered; batch not supported)] (1, 186511.0, '2025-09-19 02:21:38.753300', 'delivered')\n"
          ]
        },
        {
          "output_type": "stream",
          "name": "stdout",
          "text": [
            "2025-09-19 02:21:38,770 INFO sqlalchemy.engine.Engine COMMIT\n"
          ]
        },
        {
          "output_type": "stream",
          "name": "stderr",
          "text": [
            "INFO:sqlalchemy.engine.Engine:COMMIT\n"
          ]
        },
        {
          "output_type": "stream",
          "name": "stdout",
          "text": [
            "✅ 3개의 주문 생성 완료!\n",
            "🎉 모든 샘플 데이터 생성 완료!\n",
            "2025-09-19 02:21:38,790 INFO sqlalchemy.engine.Engine BEGIN (implicit)\n"
          ]
        },
        {
          "output_type": "stream",
          "name": "stderr",
          "text": [
            "INFO:sqlalchemy.engine.Engine:BEGIN (implicit)\n"
          ]
        },
        {
          "output_type": "stream",
          "name": "stdout",
          "text": [
            "2025-09-19 02:21:38,795 INFO sqlalchemy.engine.Engine SELECT users.id AS users_id, users.username AS users_username, users.email AS users_email, users.age AS users_age, users.salary AS users_salary, users.is_active AS users_is_active, users.created_at AS users_created_at \n",
            "FROM users \n",
            "WHERE users.id = ?\n"
          ]
        },
        {
          "output_type": "stream",
          "name": "stderr",
          "text": [
            "INFO:sqlalchemy.engine.Engine:SELECT users.id AS users_id, users.username AS users_username, users.email AS users_email, users.age AS users_age, users.salary AS users_salary, users.is_active AS users_is_active, users.created_at AS users_created_at \n",
            "FROM users \n",
            "WHERE users.id = ?\n"
          ]
        },
        {
          "output_type": "stream",
          "name": "stdout",
          "text": [
            "2025-09-19 02:21:38,798 INFO sqlalchemy.engine.Engine [generated in 0.00314s] (2,)\n"
          ]
        },
        {
          "output_type": "stream",
          "name": "stderr",
          "text": [
            "INFO:sqlalchemy.engine.Engine:[generated in 0.00314s] (2,)\n"
          ]
        },
        {
          "output_type": "stream",
          "name": "stdout",
          "text": [
            "2025-09-19 02:21:38,802 INFO sqlalchemy.engine.Engine SELECT users.id AS users_id, users.username AS users_username, users.email AS users_email, users.age AS users_age, users.salary AS users_salary, users.is_active AS users_is_active, users.created_at AS users_created_at \n",
            "FROM users \n",
            "WHERE users.id = ?\n"
          ]
        },
        {
          "output_type": "stream",
          "name": "stderr",
          "text": [
            "INFO:sqlalchemy.engine.Engine:SELECT users.id AS users_id, users.username AS users_username, users.email AS users_email, users.age AS users_age, users.salary AS users_salary, users.is_active AS users_is_active, users.created_at AS users_created_at \n",
            "FROM users \n",
            "WHERE users.id = ?\n"
          ]
        },
        {
          "output_type": "stream",
          "name": "stdout",
          "text": [
            "2025-09-19 02:21:38,804 INFO sqlalchemy.engine.Engine [cached since 0.009326s ago] (3,)\n"
          ]
        },
        {
          "output_type": "stream",
          "name": "stderr",
          "text": [
            "INFO:sqlalchemy.engine.Engine:[cached since 0.009326s ago] (3,)\n"
          ]
        },
        {
          "output_type": "stream",
          "name": "stdout",
          "text": [
            "2025-09-19 02:21:38,808 INFO sqlalchemy.engine.Engine SELECT users.id AS users_id, users.username AS users_username, users.email AS users_email, users.age AS users_age, users.salary AS users_salary, users.is_active AS users_is_active, users.created_at AS users_created_at \n",
            "FROM users \n",
            "WHERE users.id = ?\n"
          ]
        },
        {
          "output_type": "stream",
          "name": "stderr",
          "text": [
            "INFO:sqlalchemy.engine.Engine:SELECT users.id AS users_id, users.username AS users_username, users.email AS users_email, users.age AS users_age, users.salary AS users_salary, users.is_active AS users_is_active, users.created_at AS users_created_at \n",
            "FROM users \n",
            "WHERE users.id = ?\n"
          ]
        },
        {
          "output_type": "stream",
          "name": "stdout",
          "text": [
            "2025-09-19 02:21:38,810 INFO sqlalchemy.engine.Engine [cached since 0.01549s ago] (4,)\n"
          ]
        },
        {
          "output_type": "stream",
          "name": "stderr",
          "text": [
            "INFO:sqlalchemy.engine.Engine:[cached since 0.01549s ago] (4,)\n"
          ]
        },
        {
          "output_type": "stream",
          "name": "stdout",
          "text": [
            "2025-09-19 02:21:38,814 INFO sqlalchemy.engine.Engine SELECT users.id AS users_id, users.username AS users_username, users.email AS users_email, users.age AS users_age, users.salary AS users_salary, users.is_active AS users_is_active, users.created_at AS users_created_at \n",
            "FROM users \n",
            "WHERE users.id = ?\n"
          ]
        },
        {
          "output_type": "stream",
          "name": "stderr",
          "text": [
            "INFO:sqlalchemy.engine.Engine:SELECT users.id AS users_id, users.username AS users_username, users.email AS users_email, users.age AS users_age, users.salary AS users_salary, users.is_active AS users_is_active, users.created_at AS users_created_at \n",
            "FROM users \n",
            "WHERE users.id = ?\n"
          ]
        },
        {
          "output_type": "stream",
          "name": "stdout",
          "text": [
            "2025-09-19 02:21:38,816 INFO sqlalchemy.engine.Engine [cached since 0.02104s ago] (5,)\n"
          ]
        },
        {
          "output_type": "stream",
          "name": "stderr",
          "text": [
            "INFO:sqlalchemy.engine.Engine:[cached since 0.02104s ago] (5,)\n"
          ]
        },
        {
          "output_type": "stream",
          "name": "stdout",
          "text": [
            "2025-09-19 02:21:38,819 INFO sqlalchemy.engine.Engine SELECT users.id AS users_id, users.username AS users_username, users.email AS users_email, users.age AS users_age, users.salary AS users_salary, users.is_active AS users_is_active, users.created_at AS users_created_at \n",
            "FROM users \n",
            "WHERE users.id = ?\n"
          ]
        },
        {
          "output_type": "stream",
          "name": "stderr",
          "text": [
            "INFO:sqlalchemy.engine.Engine:SELECT users.id AS users_id, users.username AS users_username, users.email AS users_email, users.age AS users_age, users.salary AS users_salary, users.is_active AS users_is_active, users.created_at AS users_created_at \n",
            "FROM users \n",
            "WHERE users.id = ?\n"
          ]
        },
        {
          "output_type": "stream",
          "name": "stdout",
          "text": [
            "2025-09-19 02:21:38,822 INFO sqlalchemy.engine.Engine [cached since 0.02713s ago] (6,)\n"
          ]
        },
        {
          "output_type": "stream",
          "name": "stderr",
          "text": [
            "INFO:sqlalchemy.engine.Engine:[cached since 0.02713s ago] (6,)\n"
          ]
        },
        {
          "output_type": "stream",
          "name": "stdout",
          "text": [
            "2025-09-19 02:21:38,828 INFO sqlalchemy.engine.Engine SELECT products.id AS products_id, products.name AS products_name, products.category AS products_category, products.price AS products_price, products.stock AS products_stock, products.created_at AS products_created_at \n",
            "FROM products \n",
            "WHERE products.id = ?\n"
          ]
        },
        {
          "output_type": "stream",
          "name": "stderr",
          "text": [
            "INFO:sqlalchemy.engine.Engine:SELECT products.id AS products_id, products.name AS products_name, products.category AS products_category, products.price AS products_price, products.stock AS products_stock, products.created_at AS products_created_at \n",
            "FROM products \n",
            "WHERE products.id = ?\n"
          ]
        },
        {
          "output_type": "stream",
          "name": "stdout",
          "text": [
            "2025-09-19 02:21:38,830 INFO sqlalchemy.engine.Engine [generated in 0.00289s] (1,)\n"
          ]
        },
        {
          "output_type": "stream",
          "name": "stderr",
          "text": [
            "INFO:sqlalchemy.engine.Engine:[generated in 0.00289s] (1,)\n"
          ]
        },
        {
          "output_type": "stream",
          "name": "stdout",
          "text": [
            "2025-09-19 02:21:38,834 INFO sqlalchemy.engine.Engine SELECT products.id AS products_id, products.name AS products_name, products.category AS products_category, products.price AS products_price, products.stock AS products_stock, products.created_at AS products_created_at \n",
            "FROM products \n",
            "WHERE products.id = ?\n"
          ]
        },
        {
          "output_type": "stream",
          "name": "stderr",
          "text": [
            "INFO:sqlalchemy.engine.Engine:SELECT products.id AS products_id, products.name AS products_name, products.category AS products_category, products.price AS products_price, products.stock AS products_stock, products.created_at AS products_created_at \n",
            "FROM products \n",
            "WHERE products.id = ?\n"
          ]
        },
        {
          "output_type": "stream",
          "name": "stdout",
          "text": [
            "2025-09-19 02:21:38,836 INFO sqlalchemy.engine.Engine [cached since 0.008844s ago] (2,)\n"
          ]
        },
        {
          "output_type": "stream",
          "name": "stderr",
          "text": [
            "INFO:sqlalchemy.engine.Engine:[cached since 0.008844s ago] (2,)\n"
          ]
        },
        {
          "output_type": "stream",
          "name": "stdout",
          "text": [
            "2025-09-19 02:21:38,844 INFO sqlalchemy.engine.Engine SELECT products.id AS products_id, products.name AS products_name, products.category AS products_category, products.price AS products_price, products.stock AS products_stock, products.created_at AS products_created_at \n",
            "FROM products \n",
            "WHERE products.id = ?\n"
          ]
        },
        {
          "output_type": "stream",
          "name": "stderr",
          "text": [
            "INFO:sqlalchemy.engine.Engine:SELECT products.id AS products_id, products.name AS products_name, products.category AS products_category, products.price AS products_price, products.stock AS products_stock, products.created_at AS products_created_at \n",
            "FROM products \n",
            "WHERE products.id = ?\n"
          ]
        },
        {
          "output_type": "stream",
          "name": "stdout",
          "text": [
            "2025-09-19 02:21:38,849 INFO sqlalchemy.engine.Engine [cached since 0.02153s ago] (3,)\n"
          ]
        },
        {
          "output_type": "stream",
          "name": "stderr",
          "text": [
            "INFO:sqlalchemy.engine.Engine:[cached since 0.02153s ago] (3,)\n"
          ]
        },
        {
          "output_type": "stream",
          "name": "stdout",
          "text": [
            "2025-09-19 02:21:38,853 INFO sqlalchemy.engine.Engine SELECT products.id AS products_id, products.name AS products_name, products.category AS products_category, products.price AS products_price, products.stock AS products_stock, products.created_at AS products_created_at \n",
            "FROM products \n",
            "WHERE products.id = ?\n"
          ]
        },
        {
          "output_type": "stream",
          "name": "stderr",
          "text": [
            "INFO:sqlalchemy.engine.Engine:SELECT products.id AS products_id, products.name AS products_name, products.category AS products_category, products.price AS products_price, products.stock AS products_stock, products.created_at AS products_created_at \n",
            "FROM products \n",
            "WHERE products.id = ?\n"
          ]
        },
        {
          "output_type": "stream",
          "name": "stdout",
          "text": [
            "2025-09-19 02:21:38,855 INFO sqlalchemy.engine.Engine [cached since 0.02775s ago] (4,)\n"
          ]
        },
        {
          "output_type": "stream",
          "name": "stderr",
          "text": [
            "INFO:sqlalchemy.engine.Engine:[cached since 0.02775s ago] (4,)\n"
          ]
        },
        {
          "output_type": "stream",
          "name": "stdout",
          "text": [
            "2025-09-19 02:21:38,858 INFO sqlalchemy.engine.Engine SELECT products.id AS products_id, products.name AS products_name, products.category AS products_category, products.price AS products_price, products.stock AS products_stock, products.created_at AS products_created_at \n",
            "FROM products \n",
            "WHERE products.id = ?\n"
          ]
        },
        {
          "output_type": "stream",
          "name": "stderr",
          "text": [
            "INFO:sqlalchemy.engine.Engine:SELECT products.id AS products_id, products.name AS products_name, products.category AS products_category, products.price AS products_price, products.stock AS products_stock, products.created_at AS products_created_at \n",
            "FROM products \n",
            "WHERE products.id = ?\n"
          ]
        },
        {
          "output_type": "stream",
          "name": "stdout",
          "text": [
            "2025-09-19 02:21:38,860 INFO sqlalchemy.engine.Engine [cached since 0.0327s ago] (5,)\n"
          ]
        },
        {
          "output_type": "stream",
          "name": "stderr",
          "text": [
            "INFO:sqlalchemy.engine.Engine:[cached since 0.0327s ago] (5,)\n"
          ]
        },
        {
          "output_type": "stream",
          "name": "stdout",
          "text": [
            "2025-09-19 02:21:38,863 INFO sqlalchemy.engine.Engine SELECT products.id AS products_id, products.name AS products_name, products.category AS products_category, products.price AS products_price, products.stock AS products_stock, products.created_at AS products_created_at \n",
            "FROM products \n",
            "WHERE products.id = ?\n"
          ]
        },
        {
          "output_type": "stream",
          "name": "stderr",
          "text": [
            "INFO:sqlalchemy.engine.Engine:SELECT products.id AS products_id, products.name AS products_name, products.category AS products_category, products.price AS products_price, products.stock AS products_stock, products.created_at AS products_created_at \n",
            "FROM products \n",
            "WHERE products.id = ?\n"
          ]
        },
        {
          "output_type": "stream",
          "name": "stdout",
          "text": [
            "2025-09-19 02:21:38,867 INFO sqlalchemy.engine.Engine [cached since 0.03903s ago] (6,)\n"
          ]
        },
        {
          "output_type": "stream",
          "name": "stderr",
          "text": [
            "INFO:sqlalchemy.engine.Engine:[cached since 0.03903s ago] (6,)\n"
          ]
        },
        {
          "output_type": "stream",
          "name": "stdout",
          "text": [
            "2025-09-19 02:21:38,869 INFO sqlalchemy.engine.Engine SELECT products.id AS products_id, products.name AS products_name, products.category AS products_category, products.price AS products_price, products.stock AS products_stock, products.created_at AS products_created_at \n",
            "FROM products \n",
            "WHERE products.id = ?\n"
          ]
        },
        {
          "output_type": "stream",
          "name": "stderr",
          "text": [
            "INFO:sqlalchemy.engine.Engine:SELECT products.id AS products_id, products.name AS products_name, products.category AS products_category, products.price AS products_price, products.stock AS products_stock, products.created_at AS products_created_at \n",
            "FROM products \n",
            "WHERE products.id = ?\n"
          ]
        },
        {
          "output_type": "stream",
          "name": "stdout",
          "text": [
            "2025-09-19 02:21:38,872 INFO sqlalchemy.engine.Engine [cached since 0.04472s ago] (7,)\n"
          ]
        },
        {
          "output_type": "stream",
          "name": "stderr",
          "text": [
            "INFO:sqlalchemy.engine.Engine:[cached since 0.04472s ago] (7,)\n"
          ]
        },
        {
          "output_type": "stream",
          "name": "stdout",
          "text": [
            "2025-09-19 02:21:38,875 INFO sqlalchemy.engine.Engine SELECT products.id AS products_id, products.name AS products_name, products.category AS products_category, products.price AS products_price, products.stock AS products_stock, products.created_at AS products_created_at \n",
            "FROM products \n",
            "WHERE products.id = ?\n"
          ]
        },
        {
          "output_type": "stream",
          "name": "stderr",
          "text": [
            "INFO:sqlalchemy.engine.Engine:SELECT products.id AS products_id, products.name AS products_name, products.category AS products_category, products.price AS products_price, products.stock AS products_stock, products.created_at AS products_created_at \n",
            "FROM products \n",
            "WHERE products.id = ?\n"
          ]
        },
        {
          "output_type": "stream",
          "name": "stdout",
          "text": [
            "2025-09-19 02:21:38,877 INFO sqlalchemy.engine.Engine [cached since 0.04999s ago] (8,)\n"
          ]
        },
        {
          "output_type": "stream",
          "name": "stderr",
          "text": [
            "INFO:sqlalchemy.engine.Engine:[cached since 0.04999s ago] (8,)\n"
          ]
        },
        {
          "output_type": "stream",
          "name": "stdout",
          "text": [
            "2025-09-19 02:21:38,882 INFO sqlalchemy.engine.Engine SELECT orders.id AS orders_id, orders.user_id AS orders_user_id, orders.total_amount AS orders_total_amount, orders.order_date AS orders_order_date, orders.status AS orders_status \n",
            "FROM orders \n",
            "WHERE orders.id = ?\n"
          ]
        },
        {
          "output_type": "stream",
          "name": "stderr",
          "text": [
            "INFO:sqlalchemy.engine.Engine:SELECT orders.id AS orders_id, orders.user_id AS orders_user_id, orders.total_amount AS orders_total_amount, orders.order_date AS orders_order_date, orders.status AS orders_status \n",
            "FROM orders \n",
            "WHERE orders.id = ?\n"
          ]
        },
        {
          "output_type": "stream",
          "name": "stdout",
          "text": [
            "2025-09-19 02:21:38,886 INFO sqlalchemy.engine.Engine [generated in 0.00426s] (1,)\n"
          ]
        },
        {
          "output_type": "stream",
          "name": "stderr",
          "text": [
            "INFO:sqlalchemy.engine.Engine:[generated in 0.00426s] (1,)\n"
          ]
        },
        {
          "output_type": "stream",
          "name": "stdout",
          "text": [
            "2025-09-19 02:21:38,890 INFO sqlalchemy.engine.Engine SELECT orders.id AS orders_id, orders.user_id AS orders_user_id, orders.total_amount AS orders_total_amount, orders.order_date AS orders_order_date, orders.status AS orders_status \n",
            "FROM orders \n",
            "WHERE orders.id = ?\n"
          ]
        },
        {
          "output_type": "stream",
          "name": "stderr",
          "text": [
            "INFO:sqlalchemy.engine.Engine:SELECT orders.id AS orders_id, orders.user_id AS orders_user_id, orders.total_amount AS orders_total_amount, orders.order_date AS orders_order_date, orders.status AS orders_status \n",
            "FROM orders \n",
            "WHERE orders.id = ?\n"
          ]
        },
        {
          "output_type": "stream",
          "name": "stdout",
          "text": [
            "2025-09-19 02:21:38,892 INFO sqlalchemy.engine.Engine [cached since 0.01088s ago] (2,)\n"
          ]
        },
        {
          "output_type": "stream",
          "name": "stderr",
          "text": [
            "INFO:sqlalchemy.engine.Engine:[cached since 0.01088s ago] (2,)\n"
          ]
        },
        {
          "output_type": "stream",
          "name": "stdout",
          "text": [
            "2025-09-19 02:21:38,895 INFO sqlalchemy.engine.Engine SELECT orders.id AS orders_id, orders.user_id AS orders_user_id, orders.total_amount AS orders_total_amount, orders.order_date AS orders_order_date, orders.status AS orders_status \n",
            "FROM orders \n",
            "WHERE orders.id = ?\n"
          ]
        },
        {
          "output_type": "stream",
          "name": "stderr",
          "text": [
            "INFO:sqlalchemy.engine.Engine:SELECT orders.id AS orders_id, orders.user_id AS orders_user_id, orders.total_amount AS orders_total_amount, orders.order_date AS orders_order_date, orders.status AS orders_status \n",
            "FROM orders \n",
            "WHERE orders.id = ?\n"
          ]
        },
        {
          "output_type": "stream",
          "name": "stdout",
          "text": [
            "2025-09-19 02:21:38,897 INFO sqlalchemy.engine.Engine [cached since 0.01507s ago] (3,)\n"
          ]
        },
        {
          "output_type": "stream",
          "name": "stderr",
          "text": [
            "INFO:sqlalchemy.engine.Engine:[cached since 0.01507s ago] (3,)\n"
          ]
        },
        {
          "output_type": "execute_result",
          "data": {
            "text/plain": [
              "([<User(id=2, username='김철수', age=25)>,\n",
              "  <User(id=3, username='이영희', age=30)>,\n",
              "  <User(id=4, username='박민수', age=28)>,\n",
              "  <User(id=5, username='최지원', age=32)>,\n",
              "  <User(id=6, username='정다영', age=27)>],\n",
              " [<Product(id=1, name='아이폰', price=1200000.0)>,\n",
              "  <Product(id=2, name='갤럭시', price=1000000.0)>,\n",
              "  <Product(id=3, name='노트북', price=1500000.0)>,\n",
              "  <Product(id=4, name='티셔츠', price=25000.0)>,\n",
              "  <Product(id=5, name='청바지', price=80000.0)>,\n",
              "  <Product(id=6, name='운동화', price=120000.0)>,\n",
              "  <Product(id=7, name='가방', price=150000.0)>,\n",
              "  <Product(id=8, name='시계', price=300000.0)>],\n",
              " [<Order(id=1, user_id=1, amount=432395.0)>,\n",
              "  <Order(id=2, user_id=6, amount=463673.0)>,\n",
              "  <Order(id=3, user_id=1, amount=186511.0)>])"
            ]
          },
          "metadata": {},
          "execution_count": 9
        }
      ]
    },
    {
      "cell_type": "code",
      "source": [
        "def print_users():\n",
        "    \"\"\"사용자 목록 예쁘게 출력\"\"\"\n",
        "    users = session.query(User).all()\n",
        "\n",
        "    print(\"\\n\" + \"=\"*50)\n",
        "    print(\"👥 사용자 목록\")\n",
        "    print(\"=\"*50)\n",
        "\n",
        "    if not users:\n",
        "        print(\"사용자가 없습니다.\")\n",
        "        return\n",
        "\n",
        "    for user in users:\n",
        "        active_status = \"✅ 활성\" if user.is_active else \"❌ 비활성\"\n",
        "        print(f\"ID: {user.id:2d} | {user.username:6s} | {user.age:2d}세 | {user.salary:8,.0f}원 | {active_status}\")\n",
        "\n",
        "    print(f\"\\n총 {len(users)}명의 사용자\")\n",
        "    print(\"=\"*50)\n",
        "\n",
        "def print_products():\n",
        "    \"\"\"제품 목록 예쁘게 출력\"\"\"\n",
        "    products = session.query(Product).all()\n",
        "\n",
        "    print(\"\\n\" + \"=\"*60)\n",
        "    print(\"📦 제품 목록\")\n",
        "    print(\"=\"*60)\n",
        "\n",
        "    if not products:\n",
        "        print(\"제품이 없습니다.\")\n",
        "        return\n",
        "\n",
        "    for product in products:\n",
        "        stock_status = \"⚠️ 부족\" if product.stock < 20 else \"✅ 충분\"\n",
        "        print(f\"ID: {product.id:2d} | {product.name:8s} | {product.category:8s} | {product.price:8,.0f}원 | 재고: {product.stock:3d}개 {stock_status}\")\n",
        "\n",
        "    print(f\"\\n총 {len(products)}개의 제품\")\n",
        "    print(\"=\"*60)\n",
        "\n",
        "def print_orders():\n",
        "    \"\"\"주문 목록 예쁘게 출력\"\"\"\n",
        "    orders = session.query(Order).all()\n",
        "\n",
        "    print(\"\\n\" + \"=\"*50)\n",
        "    print(\"🛒 주문 목록\")\n",
        "    print(\"=\"*50)\n",
        "\n",
        "    if not orders:\n",
        "        print(\"주문이 없습니다.\")\n",
        "        return\n",
        "\n",
        "    for order in orders:\n",
        "        user = session.query(User).filter(User.id == order.user_id).first()\n",
        "        username = user.username if user else \"알 수 없음\"\n",
        "        print(f\"주문 ID: {order.id:2d} | 주문자: {username:6s} | 금액: {order.total_amount:8,.0f}원 | 상태: {order.status}\")\n",
        "\n",
        "    print(f\"\\n총 {len(orders)}개의 주문\")\n",
        "    print(\"=\"*50)\n",
        "\n",
        "def print_all_data():\n",
        "    \"\"\"모든 데이터 한번에 출력\"\"\"\n",
        "    print_users()\n",
        "    print_products()\n",
        "    print_orders()\n",
        "\n",
        "print_all_data()"
      ],
      "metadata": {
        "colab": {
          "base_uri": "https://localhost:8080/"
        },
        "id": "Exhvz2aSxynf",
        "outputId": "cb4b3d8c-4300-4eaa-bda0-9a36a7ac53bf"
      },
      "execution_count": 10,
      "outputs": [
        {
          "output_type": "stream",
          "name": "stdout",
          "text": [
            "2025-09-19 02:34:43,109 INFO sqlalchemy.engine.Engine SELECT users.id AS users_id, users.username AS users_username, users.email AS users_email, users.age AS users_age, users.salary AS users_salary, users.is_active AS users_is_active, users.created_at AS users_created_at \n",
            "FROM users\n"
          ]
        },
        {
          "output_type": "stream",
          "name": "stderr",
          "text": [
            "INFO:sqlalchemy.engine.Engine:SELECT users.id AS users_id, users.username AS users_username, users.email AS users_email, users.age AS users_age, users.salary AS users_salary, users.is_active AS users_is_active, users.created_at AS users_created_at \n",
            "FROM users\n"
          ]
        },
        {
          "output_type": "stream",
          "name": "stdout",
          "text": [
            "2025-09-19 02:34:43,118 INFO sqlalchemy.engine.Engine [cached since 784.4s ago] ()\n"
          ]
        },
        {
          "output_type": "stream",
          "name": "stderr",
          "text": [
            "INFO:sqlalchemy.engine.Engine:[cached since 784.4s ago] ()\n"
          ]
        },
        {
          "output_type": "stream",
          "name": "stdout",
          "text": [
            "\n",
            "==================================================\n",
            "👥 사용자 목록\n",
            "==================================================\n",
            "ID:  1 | max    | 20세 |   30,000원 | ✅ 활성\n",
            "ID:  2 | 김철수    | 25세 |   50,000원 | ✅ 활성\n",
            "ID:  3 | 이영희    | 30세 |   60,000원 | ✅ 활성\n",
            "ID:  4 | 박민수    | 28세 |   55,000원 | ✅ 활성\n",
            "ID:  5 | 최지원    | 32세 |   70,000원 | ✅ 활성\n",
            "ID:  6 | 정다영    | 27세 |   48,000원 | ✅ 활성\n",
            "\n",
            "총 6명의 사용자\n",
            "==================================================\n",
            "2025-09-19 02:34:43,123 INFO sqlalchemy.engine.Engine SELECT products.id AS products_id, products.name AS products_name, products.category AS products_category, products.price AS products_price, products.stock AS products_stock, products.created_at AS products_created_at \n",
            "FROM products\n"
          ]
        },
        {
          "output_type": "stream",
          "name": "stderr",
          "text": [
            "INFO:sqlalchemy.engine.Engine:SELECT products.id AS products_id, products.name AS products_name, products.category AS products_category, products.price AS products_price, products.stock AS products_stock, products.created_at AS products_created_at \n",
            "FROM products\n"
          ]
        },
        {
          "output_type": "stream",
          "name": "stdout",
          "text": [
            "2025-09-19 02:34:43,127 INFO sqlalchemy.engine.Engine [cached since 784.4s ago] ()\n"
          ]
        },
        {
          "output_type": "stream",
          "name": "stderr",
          "text": [
            "INFO:sqlalchemy.engine.Engine:[cached since 784.4s ago] ()\n"
          ]
        },
        {
          "output_type": "stream",
          "name": "stdout",
          "text": [
            "\n",
            "============================================================\n",
            "📦 제품 목록\n",
            "============================================================\n",
            "ID:  1 | 아이폰      | 전자제품     | 1,200,000원 | 재고:  50개 ✅ 충분\n",
            "ID:  2 | 갤럭시      | 전자제품     | 1,000,000원 | 재고:  30개 ✅ 충분\n",
            "ID:  3 | 노트북      | 전자제품     | 1,500,000원 | 재고:  20개 ✅ 충분\n",
            "ID:  4 | 티셔츠      | 의류       |   25,000원 | 재고: 100개 ✅ 충분\n",
            "ID:  5 | 청바지      | 의류       |   80,000원 | 재고:  60개 ✅ 충분\n",
            "ID:  6 | 운동화      | 신발       |  120,000원 | 재고:  40개 ✅ 충분\n",
            "ID:  7 | 가방       | 액세서리     |  150,000원 | 재고:  25개 ✅ 충분\n",
            "ID:  8 | 시계       | 액세서리     |  300,000원 | 재고:  15개 ⚠️ 부족\n",
            "\n",
            "총 8개의 제품\n",
            "============================================================\n",
            "2025-09-19 02:34:43,134 INFO sqlalchemy.engine.Engine SELECT orders.id AS orders_id, orders.user_id AS orders_user_id, orders.total_amount AS orders_total_amount, orders.order_date AS orders_order_date, orders.status AS orders_status \n",
            "FROM orders\n"
          ]
        },
        {
          "output_type": "stream",
          "name": "stderr",
          "text": [
            "INFO:sqlalchemy.engine.Engine:SELECT orders.id AS orders_id, orders.user_id AS orders_user_id, orders.total_amount AS orders_total_amount, orders.order_date AS orders_order_date, orders.status AS orders_status \n",
            "FROM orders\n"
          ]
        },
        {
          "output_type": "stream",
          "name": "stdout",
          "text": [
            "2025-09-19 02:34:43,138 INFO sqlalchemy.engine.Engine [generated in 0.00468s] ()\n"
          ]
        },
        {
          "output_type": "stream",
          "name": "stderr",
          "text": [
            "INFO:sqlalchemy.engine.Engine:[generated in 0.00468s] ()\n"
          ]
        },
        {
          "output_type": "stream",
          "name": "stdout",
          "text": [
            "\n",
            "==================================================\n",
            "🛒 주문 목록\n",
            "==================================================\n",
            "2025-09-19 02:34:43,145 INFO sqlalchemy.engine.Engine SELECT users.id AS users_id, users.username AS users_username, users.email AS users_email, users.age AS users_age, users.salary AS users_salary, users.is_active AS users_is_active, users.created_at AS users_created_at \n",
            "FROM users \n",
            "WHERE users.id = ?\n",
            " LIMIT ? OFFSET ?\n"
          ]
        },
        {
          "output_type": "stream",
          "name": "stderr",
          "text": [
            "INFO:sqlalchemy.engine.Engine:SELECT users.id AS users_id, users.username AS users_username, users.email AS users_email, users.age AS users_age, users.salary AS users_salary, users.is_active AS users_is_active, users.created_at AS users_created_at \n",
            "FROM users \n",
            "WHERE users.id = ?\n",
            " LIMIT ? OFFSET ?\n"
          ]
        },
        {
          "output_type": "stream",
          "name": "stdout",
          "text": [
            "2025-09-19 02:34:43,148 INFO sqlalchemy.engine.Engine [generated in 0.00282s] (1, 1, 0)\n"
          ]
        },
        {
          "output_type": "stream",
          "name": "stderr",
          "text": [
            "INFO:sqlalchemy.engine.Engine:[generated in 0.00282s] (1, 1, 0)\n"
          ]
        },
        {
          "output_type": "stream",
          "name": "stdout",
          "text": [
            "주문 ID:  1 | 주문자: max    | 금액:  432,395원 | 상태: pending\n",
            "2025-09-19 02:34:43,153 INFO sqlalchemy.engine.Engine SELECT users.id AS users_id, users.username AS users_username, users.email AS users_email, users.age AS users_age, users.salary AS users_salary, users.is_active AS users_is_active, users.created_at AS users_created_at \n",
            "FROM users \n",
            "WHERE users.id = ?\n",
            " LIMIT ? OFFSET ?\n"
          ]
        },
        {
          "output_type": "stream",
          "name": "stderr",
          "text": [
            "INFO:sqlalchemy.engine.Engine:SELECT users.id AS users_id, users.username AS users_username, users.email AS users_email, users.age AS users_age, users.salary AS users_salary, users.is_active AS users_is_active, users.created_at AS users_created_at \n",
            "FROM users \n",
            "WHERE users.id = ?\n",
            " LIMIT ? OFFSET ?\n"
          ]
        },
        {
          "output_type": "stream",
          "name": "stdout",
          "text": [
            "2025-09-19 02:34:43,156 INFO sqlalchemy.engine.Engine [cached since 0.0105s ago] (6, 1, 0)\n"
          ]
        },
        {
          "output_type": "stream",
          "name": "stderr",
          "text": [
            "INFO:sqlalchemy.engine.Engine:[cached since 0.0105s ago] (6, 1, 0)\n"
          ]
        },
        {
          "output_type": "stream",
          "name": "stdout",
          "text": [
            "주문 ID:  2 | 주문자: 정다영    | 금액:  463,673원 | 상태: shipped\n",
            "2025-09-19 02:34:43,159 INFO sqlalchemy.engine.Engine SELECT users.id AS users_id, users.username AS users_username, users.email AS users_email, users.age AS users_age, users.salary AS users_salary, users.is_active AS users_is_active, users.created_at AS users_created_at \n",
            "FROM users \n",
            "WHERE users.id = ?\n",
            " LIMIT ? OFFSET ?\n"
          ]
        },
        {
          "output_type": "stream",
          "name": "stderr",
          "text": [
            "INFO:sqlalchemy.engine.Engine:SELECT users.id AS users_id, users.username AS users_username, users.email AS users_email, users.age AS users_age, users.salary AS users_salary, users.is_active AS users_is_active, users.created_at AS users_created_at \n",
            "FROM users \n",
            "WHERE users.id = ?\n",
            " LIMIT ? OFFSET ?\n"
          ]
        },
        {
          "output_type": "stream",
          "name": "stdout",
          "text": [
            "2025-09-19 02:34:43,161 INFO sqlalchemy.engine.Engine [cached since 0.0161s ago] (1, 1, 0)\n"
          ]
        },
        {
          "output_type": "stream",
          "name": "stderr",
          "text": [
            "INFO:sqlalchemy.engine.Engine:[cached since 0.0161s ago] (1, 1, 0)\n"
          ]
        },
        {
          "output_type": "stream",
          "name": "stdout",
          "text": [
            "주문 ID:  3 | 주문자: max    | 금액:  186,511원 | 상태: delivered\n",
            "\n",
            "총 3개의 주문\n",
            "==================================================\n"
          ]
        }
      ]
    },
    {
      "cell_type": "code",
      "source": [
        "# user_count = session.query(func.count(User.id)).scalar() # user id 갯수를 센다.\n",
        "# print(user_count)\n",
        "\n",
        "# exists() - 존재 여부 확인\n",
        "user_exists = session.query(User.id).filter(User.username ==\"max\").exists() # 쿼리 반환\n",
        "print(user_exists)\n",
        "\n",
        "exists_result = session.query(user_exists).scalar() # 실제 값으로 변환 후 반환\n",
        "print(exists_result)"
      ],
      "metadata": {
        "colab": {
          "base_uri": "https://localhost:8080/"
        },
        "collapsed": true,
        "id": "8ZLW_MUM1NcP",
        "outputId": "8af2c3f8-565e-4a01-9270-df0c80710a5b"
      },
      "execution_count": 27,
      "outputs": [
        {
          "output_type": "stream",
          "name": "stdout",
          "text": [
            "EXISTS (SELECT 1 \n",
            "FROM users \n",
            "WHERE users.username = :username_1)\n",
            "2025-09-19 03:22:30,779 INFO sqlalchemy.engine.Engine SELECT EXISTS (SELECT 1 \n",
            "FROM users \n",
            "WHERE users.username = ?) AS anon_1\n"
          ]
        },
        {
          "output_type": "stream",
          "name": "stderr",
          "text": [
            "INFO:sqlalchemy.engine.Engine:SELECT EXISTS (SELECT 1 \n",
            "FROM users \n",
            "WHERE users.username = ?) AS anon_1\n"
          ]
        },
        {
          "output_type": "stream",
          "name": "stdout",
          "text": [
            "2025-09-19 03:22:30,782 INFO sqlalchemy.engine.Engine [cached since 2372s ago] ('max',)\n"
          ]
        },
        {
          "output_type": "stream",
          "name": "stderr",
          "text": [
            "INFO:sqlalchemy.engine.Engine:[cached since 2372s ago] ('max',)\n"
          ]
        },
        {
          "output_type": "stream",
          "name": "stdout",
          "text": [
            "True\n"
          ]
        }
      ]
    },
    {
      "cell_type": "code",
      "source": [
        "# 1. and_() - and 조건\n",
        "# users = session.query(User).filter(\n",
        "    # and_(User.age > 25, User.is_active == True)\n",
        "# ).all()\n",
        "\n",
        "# print(users)\n",
        "\n",
        "# 2. or_() - OR 조건\n",
        "# users_or = session.query(User).filter(\n",
        "#     or_(User.age < 20, User.age > 60)\n",
        "# ).all()\n",
        "\n",
        "# print(users_or)\n",
        "\n",
        "# 3. in_() - IN 조건\n",
        "# users_in = session.query(User).filter(User.id.in_([1,2,3])).all()\n",
        "# print(users_in)\n",
        "\n",
        "# 4. not_() - NOT 조건\n",
        "# from sqlalchemy import not_\n",
        "# inactive_users = session.query(User).filter(not_(User.is_active)).all()\n",
        "# print(inactive_users)\n",
        "\n",
        "# 5. like() - LIKE 패턴 매칭\n",
        "# users_like = session.query(User).filter(User.username.like('%영희%')).all()\n",
        "# print(users_like)\n",
        "\n",
        "# 6. contains() - 포함하는 데이터를 반환\n",
        "# users_contains = session.query(User).filter(User.email.contains('@gmail')).all()\n",
        "# print(users_contains)\n",
        "\n",
        "# 7. startswith(), endswith()\n",
        "# gmail_users = session.query(User).filter(User.email.endswith('@gmail.com')).all()\n",
        "# print(gmail_users)\n",
        "\n",
        "# 8. between() - 범위 조건\n",
        "# mid_age_users = session.query(User).filter(User.age.between(25, 40)).all()\n",
        "# print(mid_age_users)\n",
        "\n",
        "# 9. is_null(), is_not(None)\n",
        "users_with_email = session.query(User).filter(User.email.is_not(None)).all()\n",
        "print(users_with_email)"
      ],
      "metadata": {
        "colab": {
          "base_uri": "https://localhost:8080/"
        },
        "id": "APfmWM2Z3HZ4",
        "outputId": "ce754504-bc89-4b10-c545-195fb53f286c"
      },
      "execution_count": 26,
      "outputs": [
        {
          "output_type": "stream",
          "name": "stdout",
          "text": [
            "2025-09-19 03:20:44,414 INFO sqlalchemy.engine.Engine SELECT users.id AS users_id, users.username AS users_username, users.email AS users_email, users.age AS users_age, users.salary AS users_salary, users.is_active AS users_is_active, users.created_at AS users_created_at \n",
            "FROM users \n",
            "WHERE users.email IS NOT NULL\n"
          ]
        },
        {
          "output_type": "stream",
          "name": "stderr",
          "text": [
            "INFO:sqlalchemy.engine.Engine:SELECT users.id AS users_id, users.username AS users_username, users.email AS users_email, users.age AS users_age, users.salary AS users_salary, users.is_active AS users_is_active, users.created_at AS users_created_at \n",
            "FROM users \n",
            "WHERE users.email IS NOT NULL\n"
          ]
        },
        {
          "output_type": "stream",
          "name": "stdout",
          "text": [
            "2025-09-19 03:20:44,418 INFO sqlalchemy.engine.Engine [cached since 49.14s ago] ()\n"
          ]
        },
        {
          "output_type": "stream",
          "name": "stderr",
          "text": [
            "INFO:sqlalchemy.engine.Engine:[cached since 49.14s ago] ()\n"
          ]
        },
        {
          "output_type": "stream",
          "name": "stdout",
          "text": [
            "[<User(id=1, username='max', age=20)>, <User(id=2, username='김철수', age=25)>, <User(id=3, username='이영희', age=30)>, <User(id=4, username='박민수', age=28)>, <User(id=5, username='최지원', age=32)>, <User(id=6, username='정다영', age=27)>]\n"
          ]
        }
      ]
    },
    {
      "cell_type": "code",
      "source": [
        "# 1. order_by() - 정렬\n",
        "users_asc = session.query(User).order_by(User.age).all()  # 오름차순\n",
        "users_desc = session.query(User).order_by(desc(User.age)).all()  # 내림차순\n",
        "users_asc_explicit = session.query(User).order_by(asc(User.age)).all()\n",
        "\n",
        "# 2. 여러 컬럼으로 정렬\n",
        "users_multi = session.query(User).order_by(User.age.desc(), User.username).all()\n",
        "\n",
        "# 3. limit() - 개수 제한\n",
        "top_3_users = session.query(User).order_by(User.salary.desc()).limit(3).all() # 상위 3명\n",
        "\n",
        "# 4. offset() - 건너뛰기\n",
        "users_page_2 = session.query(User).offset(5).limit(5).all()\n",
        "\n",
        "# 5. distinct() - 중복 제거\n",
        "distinct_categories = session.query(Product.category).distinct().all()\n"
      ],
      "metadata": {
        "id": "CWiNa0Sm_xi_"
      },
      "execution_count": null,
      "outputs": []
    },
    {
      "cell_type": "markdown",
      "source": [
        "# 다음 조건을 만족하는 사용자들을 찾는 함수를 작성하세요:\n",
        "# - 나이가 25세 이상 35세 이하 (age)\n",
        "# - 연봉이 50000 이상 (salary)\n",
        "# - 이메일이 gmail.com으로 끝남 (email)\n",
        "# - 활성 상태 (is_active)"
      ],
      "metadata": {
        "id": "ojWyuimcBybP"
      }
    },
    {
      "cell_type": "code",
      "source": [
        "users = session.query(User).filter(\n",
        "    and_(\n",
        "        User.age.between(25,35),\n",
        "        User.salary >= 50000,\n",
        "        User.email.endswith('@gmail.com'),\n",
        "        User.is_active == True\n",
        "    )\n",
        ").all()\n",
        "\n",
        "print(users)"
      ],
      "metadata": {
        "colab": {
          "base_uri": "https://localhost:8080/"
        },
        "id": "ZCLg4YNDB0xx",
        "outputId": "81f4b3b5-94f8-4170-8637-91088b2fdbcb"
      },
      "execution_count": 29,
      "outputs": [
        {
          "output_type": "stream",
          "name": "stdout",
          "text": [
            "2025-09-19 04:46:39,613 INFO sqlalchemy.engine.Engine SELECT users.id AS users_id, users.username AS users_username, users.email AS users_email, users.age AS users_age, users.salary AS users_salary, users.is_active AS users_is_active, users.created_at AS users_created_at \n",
            "FROM users \n",
            "WHERE users.age BETWEEN ? AND ? AND users.salary >= ? AND (users.email LIKE '%' || ?) AND users.is_active = 1\n"
          ]
        },
        {
          "output_type": "stream",
          "name": "stderr",
          "text": [
            "INFO:sqlalchemy.engine.Engine:SELECT users.id AS users_id, users.username AS users_username, users.email AS users_email, users.age AS users_age, users.salary AS users_salary, users.is_active AS users_is_active, users.created_at AS users_created_at \n",
            "FROM users \n",
            "WHERE users.age BETWEEN ? AND ? AND users.salary >= ? AND (users.email LIKE '%' || ?) AND users.is_active = 1\n"
          ]
        },
        {
          "output_type": "stream",
          "name": "stdout",
          "text": [
            "2025-09-19 04:46:39,626 INFO sqlalchemy.engine.Engine [cached since 3660s ago] (25, 35, 50000, '@gmail.com')\n"
          ]
        },
        {
          "output_type": "stream",
          "name": "stderr",
          "text": [
            "INFO:sqlalchemy.engine.Engine:[cached since 3660s ago] (25, 35, 50000, '@gmail.com')\n"
          ]
        },
        {
          "output_type": "stream",
          "name": "stdout",
          "text": [
            "[<User(id=2, username='김철수', age=25)>, <User(id=5, username='최지원', age=32)>]\n"
          ]
        }
      ]
    },
    {
      "cell_type": "markdown",
      "source": [
        "# 집계함수(sum, max....)\n",
        "\n",
        "## ~~~.scalar() 사용!\n",
        "\n",
        "\n",
        "\n"
      ],
      "metadata": {
        "id": "I5wyPCn-UHXF"
      }
    },
    {
      "cell_type": "code",
      "source": [
        "# 1. func.count() - 개수\n",
        "user_count = session.query(func.count(User.id)).scalar()\n",
        "active_user_count = session.query(func.count(User.id).filter(User.is_active == True)).scalar()\n",
        "\n",
        "# 2. func.sum() - 합계\n",
        "total_salary = session.query(func.sum(User.salary)).scalar()\n",
        "\n",
        "# 3. func.avg() - 평균\n",
        "avg_salary = session.query(func.avg(User.salary)).scalar()\n",
        "\n",
        "# 4. func.min(), func.max() - 최소값, 최대값\n",
        "min_salary = session.query(func.min(User.salary)).scalar()\n",
        "max_salary = session.query(func.max(User.salary)).scalar()\n",
        "\n",
        "# 5. func.coalesce() - NULL 값 처리\n",
        "avg_salary_no_null = session.query(func.avg(func.coalesce(User.salary, 0))).scalar()\n",
        "\n",
        "# 6. func.round() - 반올림\n",
        "rounded_avg_salary = session.query(func.round(func.avg(User.salary), 2)).scalar()\n",
        "\n",
        "# 7. func.length() - 문자열 길이 (SQLite에서는 length)\n",
        "max_username_length = session.query(func.max(func.length(User.username))).scalar()\n",
        "\n",
        "# 8. func.upper(), func.lower() - 대소문자 변환\n",
        "upper_usernames = session.query(func.upper(User.username)).all()\n",
        "\n",
        "# 9. func.substr() - 문자열 자르기\n",
        "username_prefixes = session.query(func.substr(User.username, 1, 2)).all()\n",
        "\n",
        "# 10. func.date() - 날짜 함수\n",
        "users_today = session.query(User).filter(\n",
        "    func.date(User.created_at) == func.date('now')\n",
        ").all()\n"
      ],
      "metadata": {
        "colab": {
          "base_uri": "https://localhost:8080/"
        },
        "collapsed": true,
        "id": "eNqh1gAFFFNo",
        "outputId": "38cc8947-b3e1-4ee9-f43d-fd92b913a4b3"
      },
      "execution_count": 37,
      "outputs": [
        {
          "output_type": "stream",
          "name": "stdout",
          "text": [
            "2025-09-19 05:23:14,475 INFO sqlalchemy.engine.Engine SELECT count(users.id) AS count_1 \n",
            "FROM users\n"
          ]
        },
        {
          "output_type": "stream",
          "name": "stderr",
          "text": [
            "INFO:sqlalchemy.engine.Engine:SELECT count(users.id) AS count_1 \n",
            "FROM users\n"
          ]
        },
        {
          "output_type": "stream",
          "name": "stdout",
          "text": [
            "2025-09-19 05:23:14,478 INFO sqlalchemy.engine.Engine [cached since 9872s ago] ()\n"
          ]
        },
        {
          "output_type": "stream",
          "name": "stderr",
          "text": [
            "INFO:sqlalchemy.engine.Engine:[cached since 9872s ago] ()\n"
          ]
        },
        {
          "output_type": "stream",
          "name": "stdout",
          "text": [
            "2025-09-19 05:23:14,488 INFO sqlalchemy.engine.Engine SELECT count(users.id) FILTER (WHERE users.is_active = 1) AS anon_1 \n",
            "FROM users\n"
          ]
        },
        {
          "output_type": "stream",
          "name": "stderr",
          "text": [
            "INFO:sqlalchemy.engine.Engine:SELECT count(users.id) FILTER (WHERE users.is_active = 1) AS anon_1 \n",
            "FROM users\n"
          ]
        },
        {
          "output_type": "stream",
          "name": "stdout",
          "text": [
            "2025-09-19 05:23:14,493 INFO sqlalchemy.engine.Engine [cached since 504.7s ago] ()\n"
          ]
        },
        {
          "output_type": "stream",
          "name": "stderr",
          "text": [
            "INFO:sqlalchemy.engine.Engine:[cached since 504.7s ago] ()\n"
          ]
        },
        {
          "output_type": "stream",
          "name": "stdout",
          "text": [
            "2025-09-19 05:23:14,497 INFO sqlalchemy.engine.Engine SELECT sum(users.salary) AS sum_1 \n",
            "FROM users\n"
          ]
        },
        {
          "output_type": "stream",
          "name": "stderr",
          "text": [
            "INFO:sqlalchemy.engine.Engine:SELECT sum(users.salary) AS sum_1 \n",
            "FROM users\n"
          ]
        },
        {
          "output_type": "stream",
          "name": "stdout",
          "text": [
            "2025-09-19 05:23:14,499 INFO sqlalchemy.engine.Engine [cached since 459.2s ago] ()\n"
          ]
        },
        {
          "output_type": "stream",
          "name": "stderr",
          "text": [
            "INFO:sqlalchemy.engine.Engine:[cached since 459.2s ago] ()\n"
          ]
        },
        {
          "output_type": "stream",
          "name": "stdout",
          "text": [
            "2025-09-19 05:23:14,502 INFO sqlalchemy.engine.Engine SELECT avg(users.salary) AS avg_1 \n",
            "FROM users\n"
          ]
        },
        {
          "output_type": "stream",
          "name": "stderr",
          "text": [
            "INFO:sqlalchemy.engine.Engine:SELECT avg(users.salary) AS avg_1 \n",
            "FROM users\n"
          ]
        },
        {
          "output_type": "stream",
          "name": "stdout",
          "text": [
            "2025-09-19 05:23:14,506 INFO sqlalchemy.engine.Engine [cached since 308.8s ago] ()\n"
          ]
        },
        {
          "output_type": "stream",
          "name": "stderr",
          "text": [
            "INFO:sqlalchemy.engine.Engine:[cached since 308.8s ago] ()\n"
          ]
        },
        {
          "output_type": "stream",
          "name": "stdout",
          "text": [
            "2025-09-19 05:23:14,510 INFO sqlalchemy.engine.Engine SELECT min(users.salary) AS min_1 \n",
            "FROM users\n"
          ]
        },
        {
          "output_type": "stream",
          "name": "stderr",
          "text": [
            "INFO:sqlalchemy.engine.Engine:SELECT min(users.salary) AS min_1 \n",
            "FROM users\n"
          ]
        },
        {
          "output_type": "stream",
          "name": "stdout",
          "text": [
            "2025-09-19 05:23:14,512 INFO sqlalchemy.engine.Engine [cached since 308.8s ago] ()\n"
          ]
        },
        {
          "output_type": "stream",
          "name": "stderr",
          "text": [
            "INFO:sqlalchemy.engine.Engine:[cached since 308.8s ago] ()\n"
          ]
        },
        {
          "output_type": "stream",
          "name": "stdout",
          "text": [
            "2025-09-19 05:23:14,516 INFO sqlalchemy.engine.Engine SELECT max(users.salary) AS max_1 \n",
            "FROM users\n"
          ]
        },
        {
          "output_type": "stream",
          "name": "stderr",
          "text": [
            "INFO:sqlalchemy.engine.Engine:SELECT max(users.salary) AS max_1 \n",
            "FROM users\n"
          ]
        },
        {
          "output_type": "stream",
          "name": "stdout",
          "text": [
            "2025-09-19 05:23:14,519 INFO sqlalchemy.engine.Engine [cached since 308.8s ago] ()\n"
          ]
        },
        {
          "output_type": "stream",
          "name": "stderr",
          "text": [
            "INFO:sqlalchemy.engine.Engine:[cached since 308.8s ago] ()\n"
          ]
        },
        {
          "output_type": "stream",
          "name": "stdout",
          "text": [
            "2025-09-19 05:23:14,523 INFO sqlalchemy.engine.Engine SELECT avg(coalesce(users.salary, ?)) AS avg_1 \n",
            "FROM users\n"
          ]
        },
        {
          "output_type": "stream",
          "name": "stderr",
          "text": [
            "INFO:sqlalchemy.engine.Engine:SELECT avg(coalesce(users.salary, ?)) AS avg_1 \n",
            "FROM users\n"
          ]
        },
        {
          "output_type": "stream",
          "name": "stdout",
          "text": [
            "2025-09-19 05:23:14,525 INFO sqlalchemy.engine.Engine [cached since 308.8s ago] (0,)\n"
          ]
        },
        {
          "output_type": "stream",
          "name": "stderr",
          "text": [
            "INFO:sqlalchemy.engine.Engine:[cached since 308.8s ago] (0,)\n"
          ]
        },
        {
          "output_type": "stream",
          "name": "stdout",
          "text": [
            "2025-09-19 05:23:14,529 INFO sqlalchemy.engine.Engine SELECT round(avg(users.salary), ?) AS round_1 \n",
            "FROM users\n"
          ]
        },
        {
          "output_type": "stream",
          "name": "stderr",
          "text": [
            "INFO:sqlalchemy.engine.Engine:SELECT round(avg(users.salary), ?) AS round_1 \n",
            "FROM users\n"
          ]
        },
        {
          "output_type": "stream",
          "name": "stdout",
          "text": [
            "2025-09-19 05:23:14,535 INFO sqlalchemy.engine.Engine [cached since 191.6s ago] (2,)\n"
          ]
        },
        {
          "output_type": "stream",
          "name": "stderr",
          "text": [
            "INFO:sqlalchemy.engine.Engine:[cached since 191.6s ago] (2,)\n"
          ]
        },
        {
          "output_type": "stream",
          "name": "stdout",
          "text": [
            "2025-09-19 05:23:14,538 INFO sqlalchemy.engine.Engine SELECT max(length(users.username)) AS max_1 \n",
            "FROM users\n"
          ]
        },
        {
          "output_type": "stream",
          "name": "stderr",
          "text": [
            "INFO:sqlalchemy.engine.Engine:SELECT max(length(users.username)) AS max_1 \n",
            "FROM users\n"
          ]
        },
        {
          "output_type": "stream",
          "name": "stdout",
          "text": [
            "2025-09-19 05:23:14,543 INFO sqlalchemy.engine.Engine [cached since 191.6s ago] ()\n"
          ]
        },
        {
          "output_type": "stream",
          "name": "stderr",
          "text": [
            "INFO:sqlalchemy.engine.Engine:[cached since 191.6s ago] ()\n"
          ]
        },
        {
          "output_type": "stream",
          "name": "stdout",
          "text": [
            "2025-09-19 05:23:14,546 INFO sqlalchemy.engine.Engine SELECT upper(users.username) AS upper_1 \n",
            "FROM users\n"
          ]
        },
        {
          "output_type": "stream",
          "name": "stderr",
          "text": [
            "INFO:sqlalchemy.engine.Engine:SELECT upper(users.username) AS upper_1 \n",
            "FROM users\n"
          ]
        },
        {
          "output_type": "stream",
          "name": "stdout",
          "text": [
            "2025-09-19 05:23:14,551 INFO sqlalchemy.engine.Engine [cached since 54.84s ago] ()\n"
          ]
        },
        {
          "output_type": "stream",
          "name": "stderr",
          "text": [
            "INFO:sqlalchemy.engine.Engine:[cached since 54.84s ago] ()\n"
          ]
        },
        {
          "output_type": "stream",
          "name": "stdout",
          "text": [
            "2025-09-19 05:23:14,554 INFO sqlalchemy.engine.Engine SELECT substr(users.username, ?, ?) AS substr_1 \n",
            "FROM users\n"
          ]
        },
        {
          "output_type": "stream",
          "name": "stderr",
          "text": [
            "INFO:sqlalchemy.engine.Engine:SELECT substr(users.username, ?, ?) AS substr_1 \n",
            "FROM users\n"
          ]
        },
        {
          "output_type": "stream",
          "name": "stdout",
          "text": [
            "2025-09-19 05:23:14,555 INFO sqlalchemy.engine.Engine [cached since 9.551s ago] (1, 1)\n"
          ]
        },
        {
          "output_type": "stream",
          "name": "stderr",
          "text": [
            "INFO:sqlalchemy.engine.Engine:[cached since 9.551s ago] (1, 1)\n"
          ]
        },
        {
          "output_type": "stream",
          "name": "stdout",
          "text": [
            "[('m',), ('김',), ('박',), ('이',), ('정',), ('최',)]\n"
          ]
        }
      ]
    },
    {
      "cell_type": "markdown",
      "source": [
        "# 유저중에 이메일에 gmail이 들어간 사람 또는 유저이름이 \"이영희\" 인 사람을 찾아. salary의 평균값을 구한다."
      ],
      "metadata": {
        "id": "ih9MlI31coSE"
      }
    },
    {
      "cell_type": "code",
      "source": [
        "user_avg_salary = session.query(func.avg(User.salary).filter(\n",
        "    or_(User.email.like('%gmail%'),User.username == '이영희')\n",
        ")).scalar()"
      ],
      "metadata": {
        "colab": {
          "base_uri": "https://localhost:8080/"
        },
        "id": "W5TYnP6Pfme8",
        "outputId": "d25515ce-d6a5-4197-9370-7ab338b34d3e"
      },
      "execution_count": 42,
      "outputs": [
        {
          "output_type": "stream",
          "name": "stdout",
          "text": [
            "2025-09-19 05:42:04,956 INFO sqlalchemy.engine.Engine SELECT avg(users.salary) FILTER (WHERE users.email LIKE ? OR users.username = ?) AS anon_1 \n",
            "FROM users\n"
          ]
        },
        {
          "output_type": "stream",
          "name": "stderr",
          "text": [
            "INFO:sqlalchemy.engine.Engine:SELECT avg(users.salary) FILTER (WHERE users.email LIKE ? OR users.username = ?) AS anon_1 \n",
            "FROM users\n"
          ]
        },
        {
          "output_type": "stream",
          "name": "stdout",
          "text": [
            "2025-09-19 05:42:04,961 INFO sqlalchemy.engine.Engine [cached since 136.9s ago] ('%gmail%', '이영희')\n"
          ]
        },
        {
          "output_type": "stream",
          "name": "stderr",
          "text": [
            "INFO:sqlalchemy.engine.Engine:[cached since 136.9s ago] ('%gmail%', '이영희')\n"
          ]
        }
      ]
    },
    {
      "cell_type": "code",
      "source": [
        "user_avg_salary = session.query(func.avg(User.salary)).filter(\n",
        "    or_(User.email.like('%gmail%'),User.username == '이영희')\n",
        ").scalar()"
      ],
      "metadata": {
        "colab": {
          "base_uri": "https://localhost:8080/"
        },
        "id": "-thijg5-cuJB",
        "outputId": "81bb44a0-5ed1-401a-f449-20b753d4394e"
      },
      "execution_count": 41,
      "outputs": [
        {
          "output_type": "stream",
          "name": "stdout",
          "text": [
            "2025-09-19 05:41:27,521 INFO sqlalchemy.engine.Engine SELECT avg(users.salary) AS avg_1 \n",
            "FROM users \n",
            "WHERE users.email LIKE ? OR users.username = ?\n"
          ]
        },
        {
          "output_type": "stream",
          "name": "stderr",
          "text": [
            "INFO:sqlalchemy.engine.Engine:SELECT avg(users.salary) AS avg_1 \n",
            "FROM users \n",
            "WHERE users.email LIKE ? OR users.username = ?\n"
          ]
        },
        {
          "output_type": "stream",
          "name": "stdout",
          "text": [
            "2025-09-19 05:41:27,525 INFO sqlalchemy.engine.Engine [generated in 0.00425s] ('%gmail%', '이영희')\n"
          ]
        },
        {
          "output_type": "stream",
          "name": "stderr",
          "text": [
            "INFO:sqlalchemy.engine.Engine:[generated in 0.00425s] ('%gmail%', '이영희')\n"
          ]
        }
      ]
    },
    {
      "cell_type": "markdown",
      "source": [
        "# 그룹핑"
      ],
      "metadata": {
        "id": "X6YGQblTg0Y1"
      }
    },
    {
      "cell_type": "code",
      "source": [
        "# 1. group_by() - 그룹화\n",
        "age_groups = session.query(\n",
        "    User.age,\n",
        "    func.count(User.id).label('count')\n",
        ").group_by(User.age).all()\n",
        "\n",
        "# 2. having() - 그룹 조건\n",
        "# 동일한 나이를 가진 사용자가 2명 이상인 나이들과 각 나이별 사용 수를 찾는것.\n",
        "popular_ages = session.query(\n",
        "    User.age,\n",
        "    func.count(User.id).label('count')\n",
        "  ).group_by(User.age).having(func.count(User.id) > 1).all()\n",
        "\n",
        "# 3. 제품별 재고 통계\n",
        "product_stats = session.query(\n",
        "    Product.category,\n",
        "    func.count(Product.id).label('product_count'),\n",
        "    func.avg(Product.price).label('avg_price'),\n",
        "    func.sum(Product.stock).label('total_stock')\n",
        ").group_by(Product.category).all()\n",
        "# [('신발', 1, 120000.0, 40), ('액세서리', 2, 225000.0, 40), ('의류', 2, 52500.0, 160), ('전자제품', 3, 1233333.3333333333, 100)]\n",
        "\n",
        "\n",
        ""
      ],
      "metadata": {
        "colab": {
          "base_uri": "https://localhost:8080/"
        },
        "collapsed": true,
        "id": "ZXcp6lCmg3Gc",
        "outputId": "0568445d-db1e-44bc-a158-5649cf2bf477"
      },
      "execution_count": 47,
      "outputs": [
        {
          "output_type": "stream",
          "name": "stdout",
          "text": [
            "2025-09-19 06:12:06,015 INFO sqlalchemy.engine.Engine SELECT users.age AS users_age, count(users.id) AS count \n",
            "FROM users GROUP BY users.age\n"
          ]
        },
        {
          "output_type": "stream",
          "name": "stderr",
          "text": [
            "INFO:sqlalchemy.engine.Engine:SELECT users.age AS users_age, count(users.id) AS count \n",
            "FROM users GROUP BY users.age\n"
          ]
        },
        {
          "output_type": "stream",
          "name": "stdout",
          "text": [
            "2025-09-19 06:12:06,018 INFO sqlalchemy.engine.Engine [cached since 530.2s ago] ()\n"
          ]
        },
        {
          "output_type": "stream",
          "name": "stderr",
          "text": [
            "INFO:sqlalchemy.engine.Engine:[cached since 530.2s ago] ()\n"
          ]
        },
        {
          "output_type": "stream",
          "name": "stdout",
          "text": [
            "2025-09-19 06:12:06,022 INFO sqlalchemy.engine.Engine SELECT users.age AS users_age, count(users.id) AS count \n",
            "FROM users GROUP BY users.age \n",
            "HAVING count(users.id) > ?\n"
          ]
        },
        {
          "output_type": "stream",
          "name": "stderr",
          "text": [
            "INFO:sqlalchemy.engine.Engine:SELECT users.age AS users_age, count(users.id) AS count \n",
            "FROM users GROUP BY users.age \n",
            "HAVING count(users.id) > ?\n"
          ]
        },
        {
          "output_type": "stream",
          "name": "stdout",
          "text": [
            "2025-09-19 06:12:06,024 INFO sqlalchemy.engine.Engine [cached since 359.1s ago] (1,)\n"
          ]
        },
        {
          "output_type": "stream",
          "name": "stderr",
          "text": [
            "INFO:sqlalchemy.engine.Engine:[cached since 359.1s ago] (1,)\n"
          ]
        },
        {
          "output_type": "stream",
          "name": "stdout",
          "text": [
            "2025-09-19 06:12:06,032 INFO sqlalchemy.engine.Engine SELECT products.category AS products_category, count(products.id) AS product_count, avg(products.price) AS avg_price, sum(products.stock) AS total_stock \n",
            "FROM products GROUP BY products.category\n"
          ]
        },
        {
          "output_type": "stream",
          "name": "stderr",
          "text": [
            "INFO:sqlalchemy.engine.Engine:SELECT products.category AS products_category, count(products.id) AS product_count, avg(products.price) AS avg_price, sum(products.stock) AS total_stock \n",
            "FROM products GROUP BY products.category\n"
          ]
        },
        {
          "output_type": "stream",
          "name": "stdout",
          "text": [
            "2025-09-19 06:12:06,034 INFO sqlalchemy.engine.Engine [generated in 0.00265s] ()\n"
          ]
        },
        {
          "output_type": "stream",
          "name": "stderr",
          "text": [
            "INFO:sqlalchemy.engine.Engine:[generated in 0.00265s] ()\n"
          ]
        },
        {
          "output_type": "stream",
          "name": "stdout",
          "text": [
            "[('신발', 1, 120000.0, 40), ('액세서리', 2, 225000.0, 40), ('의류', 2, 52500.0, 160), ('전자제품', 3, 1233333.3333333333, 100)]\n"
          ]
        }
      ]
    },
    {
      "cell_type": "markdown",
      "source": [
        "# 관계 (join)"
      ],
      "metadata": {
        "id": "Sc7sEJc8m-Qp"
      }
    },
    {
      "cell_type": "code",
      "source": [
        "# 1. join() - INNER JOIN\n",
        "users_with_orders = session.query(\n",
        "    User.username,\n",
        "    Order.total_amount,\n",
        "    Order.order_date\n",
        ").join(\n",
        "    Order, User.id == Order.user_id\n",
        ").all()\n",
        "\n",
        "print(users_with_orders)\n"
      ],
      "metadata": {
        "colab": {
          "base_uri": "https://localhost:8080/"
        },
        "id": "UpFntT0mnfAo",
        "outputId": "3e1ca87b-a393-4aaa-b220-0787e840b9e2"
      },
      "execution_count": 49,
      "outputs": [
        {
          "output_type": "stream",
          "name": "stdout",
          "text": [
            "2025-09-19 06:20:18,491 INFO sqlalchemy.engine.Engine SELECT users.username AS users_username, orders.total_amount AS orders_total_amount, orders.order_date AS orders_order_date \n",
            "FROM users JOIN orders ON users.id = orders.user_id\n"
          ]
        },
        {
          "output_type": "stream",
          "name": "stderr",
          "text": [
            "INFO:sqlalchemy.engine.Engine:SELECT users.username AS users_username, orders.total_amount AS orders_total_amount, orders.order_date AS orders_order_date \n",
            "FROM users JOIN orders ON users.id = orders.user_id\n"
          ]
        },
        {
          "output_type": "stream",
          "name": "stdout",
          "text": [
            "2025-09-19 06:20:18,494 INFO sqlalchemy.engine.Engine [cached since 154.9s ago] ()\n"
          ]
        },
        {
          "output_type": "stream",
          "name": "stderr",
          "text": [
            "INFO:sqlalchemy.engine.Engine:[cached since 154.9s ago] ()\n"
          ]
        },
        {
          "output_type": "stream",
          "name": "stdout",
          "text": [
            "[('max', 432395.0, datetime.datetime(2025, 9, 19, 2, 21, 38, 753292)), ('정다영', 463673.0, datetime.datetime(2025, 9, 19, 2, 21, 38, 753299)), ('max', 186511.0, datetime.datetime(2025, 9, 19, 2, 21, 38, 753300))]\n"
          ]
        }
      ]
    },
    {
      "cell_type": "code",
      "source": [
        "# ❌ relationship 없이 (어려운 방법)\n",
        "order = session.query(Order).filter(Order.id == 1).first()\n",
        "user = session.query(User).filter(User.id == order.user_id).first()  # 별도 쿼리 필요\n",
        "print(f\"주문자: {user.username}\")"
      ],
      "metadata": {
        "colab": {
          "base_uri": "https://localhost:8080/"
        },
        "id": "zODNC-BBpCWN",
        "outputId": "8ac6f7b5-4b29-4617-8eb6-0373ae561f3c"
      },
      "execution_count": 50,
      "outputs": [
        {
          "output_type": "stream",
          "name": "stdout",
          "text": [
            "2025-09-19 06:25:11,961 INFO sqlalchemy.engine.Engine SELECT orders.id AS orders_id, orders.user_id AS orders_user_id, orders.total_amount AS orders_total_amount, orders.order_date AS orders_order_date, orders.status AS orders_status \n",
            "FROM orders \n",
            "WHERE orders.id = ?\n",
            " LIMIT ? OFFSET ?\n"
          ]
        },
        {
          "output_type": "stream",
          "name": "stderr",
          "text": [
            "INFO:sqlalchemy.engine.Engine:SELECT orders.id AS orders_id, orders.user_id AS orders_user_id, orders.total_amount AS orders_total_amount, orders.order_date AS orders_order_date, orders.status AS orders_status \n",
            "FROM orders \n",
            "WHERE orders.id = ?\n",
            " LIMIT ? OFFSET ?\n"
          ]
        },
        {
          "output_type": "stream",
          "name": "stdout",
          "text": [
            "2025-09-19 06:25:11,965 INFO sqlalchemy.engine.Engine [generated in 0.00382s] (1, 1, 0)\n"
          ]
        },
        {
          "output_type": "stream",
          "name": "stderr",
          "text": [
            "INFO:sqlalchemy.engine.Engine:[generated in 0.00382s] (1, 1, 0)\n"
          ]
        },
        {
          "output_type": "stream",
          "name": "stdout",
          "text": [
            "2025-09-19 06:25:11,969 INFO sqlalchemy.engine.Engine SELECT users.id AS users_id, users.username AS users_username, users.email AS users_email, users.age AS users_age, users.salary AS users_salary, users.is_active AS users_is_active, users.created_at AS users_created_at \n",
            "FROM users \n",
            "WHERE users.id = ?\n",
            " LIMIT ? OFFSET ?\n"
          ]
        },
        {
          "output_type": "stream",
          "name": "stderr",
          "text": [
            "INFO:sqlalchemy.engine.Engine:SELECT users.id AS users_id, users.username AS users_username, users.email AS users_email, users.age AS users_age, users.salary AS users_salary, users.is_active AS users_is_active, users.created_at AS users_created_at \n",
            "FROM users \n",
            "WHERE users.id = ?\n",
            " LIMIT ? OFFSET ?\n"
          ]
        },
        {
          "output_type": "stream",
          "name": "stdout",
          "text": [
            "2025-09-19 06:25:11,972 INFO sqlalchemy.engine.Engine [cached since 1.383e+04s ago] (1, 1, 0)\n"
          ]
        },
        {
          "output_type": "stream",
          "name": "stderr",
          "text": [
            "INFO:sqlalchemy.engine.Engine:[cached since 1.383e+04s ago] (1, 1, 0)\n"
          ]
        },
        {
          "output_type": "stream",
          "name": "stdout",
          "text": [
            "주문자: max\n"
          ]
        }
      ]
    },
    {
      "cell_type": "code",
      "source": [
        "# ✅ relationship 있으면 (쉬운 방법)\n",
        "order = session.query(Order).filter(Order.id == 1).first()\n",
        "print(f\"주문자: {order.user.username}\")  # 바로 접근 가능!"
      ],
      "metadata": {
        "colab": {
          "base_uri": "https://localhost:8080/"
        },
        "id": "LIhM-aixpeik",
        "outputId": "eca6ff52-e62c-4b37-fd0e-a3c87f678e79"
      },
      "execution_count": 51,
      "outputs": [
        {
          "output_type": "stream",
          "name": "stdout",
          "text": [
            "2025-09-19 06:25:17,284 INFO sqlalchemy.engine.Engine SELECT orders.id AS orders_id, orders.user_id AS orders_user_id, orders.total_amount AS orders_total_amount, orders.order_date AS orders_order_date, orders.status AS orders_status \n",
            "FROM orders \n",
            "WHERE orders.id = ?\n",
            " LIMIT ? OFFSET ?\n"
          ]
        },
        {
          "output_type": "stream",
          "name": "stderr",
          "text": [
            "INFO:sqlalchemy.engine.Engine:SELECT orders.id AS orders_id, orders.user_id AS orders_user_id, orders.total_amount AS orders_total_amount, orders.order_date AS orders_order_date, orders.status AS orders_status \n",
            "FROM orders \n",
            "WHERE orders.id = ?\n",
            " LIMIT ? OFFSET ?\n"
          ]
        },
        {
          "output_type": "stream",
          "name": "stdout",
          "text": [
            "2025-09-19 06:25:17,287 INFO sqlalchemy.engine.Engine [cached since 5.326s ago] (1, 1, 0)\n"
          ]
        },
        {
          "output_type": "stream",
          "name": "stderr",
          "text": [
            "INFO:sqlalchemy.engine.Engine:[cached since 5.326s ago] (1, 1, 0)\n"
          ]
        },
        {
          "output_type": "stream",
          "name": "stdout",
          "text": [
            "주문자: max\n"
          ]
        }
      ]
    },
    {
      "cell_type": "markdown",
      "source": [
        "## user에 orders 필드를 활용해서 order 데이터를 가져오세요. User id는 1번"
      ],
      "metadata": {
        "id": "_xWYIJBhqHPS"
      }
    },
    {
      "cell_type": "code",
      "source": [
        "user_orders = session.query(User).filter(User.id == 1).first().orders\n",
        "\n",
        "print(user_orders)"
      ],
      "metadata": {
        "colab": {
          "base_uri": "https://localhost:8080/"
        },
        "id": "aDAF8vNiqG_g",
        "outputId": "66db6a61-d6f7-4bc5-bb71-add1c6921f2a"
      },
      "execution_count": 53,
      "outputs": [
        {
          "output_type": "stream",
          "name": "stdout",
          "text": [
            "2025-09-19 06:44:01,678 INFO sqlalchemy.engine.Engine SELECT users.id AS users_id, users.username AS users_username, users.email AS users_email, users.age AS users_age, users.salary AS users_salary, users.is_active AS users_is_active, users.created_at AS users_created_at \n",
            "FROM users \n",
            "WHERE users.id = ?\n",
            " LIMIT ? OFFSET ?\n"
          ]
        },
        {
          "output_type": "stream",
          "name": "stderr",
          "text": [
            "INFO:sqlalchemy.engine.Engine:SELECT users.id AS users_id, users.username AS users_username, users.email AS users_email, users.age AS users_age, users.salary AS users_salary, users.is_active AS users_is_active, users.created_at AS users_created_at \n",
            "FROM users \n",
            "WHERE users.id = ?\n",
            " LIMIT ? OFFSET ?\n"
          ]
        },
        {
          "output_type": "stream",
          "name": "stdout",
          "text": [
            "2025-09-19 06:44:01,689 INFO sqlalchemy.engine.Engine [cached since 1.496e+04s ago] (1, 1, 0)\n"
          ]
        },
        {
          "output_type": "stream",
          "name": "stderr",
          "text": [
            "INFO:sqlalchemy.engine.Engine:[cached since 1.496e+04s ago] (1, 1, 0)\n"
          ]
        },
        {
          "output_type": "stream",
          "name": "stdout",
          "text": [
            "[<Order(id=1, user_id=1, amount=432395.0)>, <Order(id=3, user_id=1, amount=186511.0)>]\n"
          ]
        }
      ]
    }
  ]
}