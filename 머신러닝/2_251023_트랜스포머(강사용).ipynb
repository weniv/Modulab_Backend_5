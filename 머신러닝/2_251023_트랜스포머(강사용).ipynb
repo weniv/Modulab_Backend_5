{
  "nbformat": 4,
  "nbformat_minor": 0,
  "metadata": {
    "colab": {
      "provenance": []
    },
    "kernelspec": {
      "name": "python3",
      "display_name": "Python 3"
    },
    "language_info": {
      "name": "python"
    }
  },
  "cells": [
    {
      "cell_type": "markdown",
      "source": [
        "# 트랜스포머"
      ],
      "metadata": {
        "id": "xf3erpqntEdy"
      }
    },
    {
      "cell_type": "markdown",
      "source": [
        "## 트랜스포머가 뭐예요?\n",
        "\n",
        "* 쉽게 말하면 트랜스포머는 2017년에 등장한 '문장을 이해하는 방법'입니다. 기존에 AI가 나왔던 방식으로는 문장을 이해하는데 한계가 있었습니다.\n",
        "* GPT는 Generative(생성) Pre-trained(사전훈련) Transformer(트랜스포머)의 약자입니다. 트랜스포머 모델 사용한거죠! 2018년에 GPT1이 나왔습니다. 2019년에 GPT2가 나왔습니다.\n",
        "* 간단한 예시를 들어드리자면, '저는 어제 강의한 것에 이어서 딥러닝을 강의할 겁니다!'라고 얘기하면 여러분이 '딥러닝에서 어떤 파트를 강의하실거죠?' 이렇게 어떤 단어(여기서는 딥러닝)를 기억하고 답변하는 것처럼 트랜스포머도 문장 속에 단어를 기억하고 이해합니다.\n",
        "* 지금 여러분들이 사용하고 있으신 ChatGPT, Claude, Gemini 모두 이 트랜스포머를 사용합니다. 미드저니나 DALL-E와 같은 모델은 트랜스포머가 살짝 섞여있고 거기에 확산 모델(Diffusion Models)을 사용합니다."
      ],
      "metadata": {
        "id": "t3OkfDh-u5zr"
      }
    },
    {
      "cell_type": "markdown",
      "source": [
        "## 앞서 배운 신경망과 뭐가 다른가요?\n",
        "\n",
        "* 앞서 배운 신경망은 입력은 계절성, 광고액이었고, 출력은 매출액이었습니다.\n",
        "    * 입력: 계절성(숫자), 광고액(숫자)\n",
        "    * 출력: 매출액(숫자)\n",
        "```\n",
        "독립 = pd.DataFrame({\n",
        "    '계절성' : 계절성,\n",
        "    '광고액' : 광고액\n",
        "})\n",
        "종속 = pd.DataFrame({\n",
        "    '매출액' : 매출액\n",
        "})\n",
        "독립.shape, 종속.shape\n",
        "```\n",
        "\n",
        "* 그런데 트랜스포머는 문장을 아래와 같이 입력과 출력으로 구분합니다.\n",
        "    * 입력: '그는 제주 감귤을 먹었다. 그것은 매우 맛있었다!'(문장)\n",
        "    * 출력: '그것 = 제주 감귤'라는 걸 이해하고 문장을 만들어 냅니다!\n",
        "\n",
        "* 기존 AI와 비교\n",
        "    * 기존 AI: '그/는/ /제/주/ /감/귤/을/ /먹/었/다/./ /그/것/은/ /매/우/ /맛/있/었/다/!/' 이렇게 잘라내 분석을 하기 때문에 '그것 = 제주 감귤'을 이해하고 있지 않습니다.\n",
        "    * 트랜스 포머는 분석도 '토큰' 단위로 하고, 문장을 통째로 보려고 합니다. 또, 단어들의 관계를 파악할 수 있습니다. 관계는 수식으로 백터로 표현이 됩니다."
      ],
      "metadata": {
        "id": "xL2v6rl8u-4s"
      }
    },
    {
      "cell_type": "markdown",
      "source": [
        "## 트랜스포머의 구성요소\n",
        "\n",
        "1. 자기주의력(self Attention) - 중요!\n",
        "    * 여러분들이 '내일 학습 뭐 하고 싶으세요?' 라고 제가 물어보면 여러분은 '내일 학습'이라는 것에 주의를 기울이죠. 사실 뒤에 어떤 문장이 나오든 크게 상관없습니다. (https://namu.wiki/w/%EC%BA%A0%EB%A6%BF%EB%B8%8C%EC%A7%80%20%EB%8C%80%ED%95%99%EC%9D%98%20%EC%97%B0%EA%B2%B0%EA%B5%AC%EA%B3%BC)\n",
        "    * 아래 문장과 같은 것이죠.\n",
        "    ```\n",
        "    캠릿브지 대학의 연결구과에 따르면,한 단어 안에서 글자가 어떤 순서로 배되열어 있는가 하는것은 중하요지 않고, 첫째번과 마지막 글자가 올바른 위치에 있것는이 중요하다고 한다. 나머지 글들자은 완전히 엉진창망의 순서로 되어 있지을라도 당신은 아무 문없제이 이것을 읽을 수 있다.\n",
        "    ```\n",
        "    * 이게 트렌스포머와 관련이 있는 이론은 아니지만 사실 문장 안에서 가장 중요한 1 ~ 2가지의 단어를 제외하고는 어떤문장이 나와도 그럴듯하게 답변할 수 있다는 것은 상통합니다.\n",
        "    * 이 자기 주의력이 있다면 '이호준은 딥러닝을 매우 재미있게 가르칩니다. 하지만 그는 모델 개발자는 아니죠.'에서 '이호준 = 그'라는 것을 알아낼 수 있습니다.\n",
        "\n",
        "2. 위치 정보: 문장에서는 단어 순서가 매우 중요합니다. \"고양이가 쥐를 쫓았다\"와 \"쥐가 고양이를 쫓았다\"는 완전히 다른 상황입니다. 트랜스포머는 '위치 인코딩'이라는 방법으로 각 단어가 문장의 어디에 위치하는지 기억합니다. 덕분에 단어 순서까지 고려해서 문장의 의미를 정확히 이해할 수 있습니다.\n",
        "\n",
        "3. 인코더-디코더 구조: 트랜스포머는 인코더(문장을 이해하는 부분)와 디코더(새로운 문장을 만드는 부분)로 구성되어 있습니다. 이러한 인코더, 디코더는 앞서 배운 CNN이나 RNN의 형식을 따르진 않지만 다층 신경망 구조를 가지고 있어 가중치가 있고, ReLU나 GELU 같은 비선형 활성화 함수를 사용하여 복잡한 패턴도 학습할 수 있습니다."
      ],
      "metadata": {
        "id": "RyuOwgeN0Gye"
      }
    },
    {
      "cell_type": "markdown",
      "source": [
        "* 더 알고 싶다면 아래 문서를 참고해주세요.\n",
        "\n",
        "* 논문이 궁금하면: [Attention is All You Need](https://arxiv.org/abs/1706.03762)\n",
        "* 쉬운 설명: https://kmhana.tistory.com/28"
      ],
      "metadata": {
        "id": "-NxF38G_2PZR"
      }
    },
    {
      "cell_type": "markdown",
      "source": [
        "* 인공지능을 활용하고 개발한다\n",
        "    * 이미 개발된 인공지능의 API를 활용하여 여러분 서비스에 붙인다.(프롬프트 엔지니어링도 포함입니다.)\n",
        "    * 이미 완성된 모델을 가지고 파닝튜닝해서 커스터마이징한다. (RAG와 같은 것도 여기 포함이라 생각하겠습니다.)\n",
        "    * 바닥부터 개발한다.(0.01%) - KAIST와 같은 곳은 합니다. 일부 기업도 하는 경우가 있어요. 바닥부터 하는 경우 C를 주로 다룹니다."
      ],
      "metadata": {
        "id": "WCT2CxKl2xEP"
      }
    },
    {
      "cell_type": "markdown",
      "source": [
        "```mermaid\n",
        "flowchart TD\n",
        "    subgraph \"입력 문장\"\n",
        "        input[\"I am a boy\"]\n",
        "    end\n",
        "\n",
        "    subgraph \"단어 임베딩\"\n",
        "        w1[\"I → [0.2, -0.5, 0.1, 0.8, -0.3, 0.4, 0.0, 0.1]\"]\n",
        "        w2[\"am → [0.1, 0.3, -0.2, 0.5, 0.7, -0.1, -0.4, 0.2]\"]\n",
        "        w3[\"a → [0.0, 0.1, 0.0, 0.2, 0.1, 0.0, -0.1, 0.0]\"]\n",
        "        w4[\"boy → [0.6, -0.2, 0.4, -0.3, 0.5, 0.2, 0.3, -0.4]\"]\n",
        "    end\n",
        "\n",
        "    subgraph \"위치 임베딩\"\n",
        "        p1[\"위치1 → [0.0, 0.1, 0.0, 0.1, 0.0, 0.1, 0.0, 0.1]\"]\n",
        "        p2[\"위치2 → [0.0, 0.0, 0.2, 0.0, 0.2, 0.0, 0.2, 0.0]\"]\n",
        "        p3[\"위치3 → [0.3, 0.0, 0.0, 0.3, 0.0, 0.0, 0.3, 0.0]\"]\n",
        "        p4[\"위치4 → [0.0, 0.4, 0.0, 0.0, 0.4, 0.0, 0.0, 0.4]\"]\n",
        "    end\n",
        "\n",
        "    subgraph \"입력 임베딩\"\n",
        "        e1[\"I+위치1 → [0.2, -0.4, 0.1, 0.9, -0.3, 0.5, 0.0, 0.2]\"]\n",
        "        e2[\"am+위치2 → [0.1, 0.3, 0.0, 0.5, 0.9, -0.1, -0.2, 0.2]\"]\n",
        "        e3[\"a+위치3 → [0.3, 0.1, 0.0, 0.5, 0.1, 0.0, 0.2, 0.0]\"]\n",
        "        e4[\"boy+위치4 → [0.6, 0.2, 0.4, -0.3, 0.9, 0.2, 0.3, 0.0]\"]\n",
        "    end\n",
        "\n",
        "    subgraph \"인코더 처리\"\n",
        "        enc[\"자기주의력(관계파악) + 신경망: 학습된 가중치를 통해 확률 계산\"]\n",
        "    end\n",
        "\n",
        "    subgraph \"의미 벡터\"\n",
        "        c1[\"I(문맥) → [0.5, -0.3, 0.2, 0.7, -0.1, 0.4, 0.3, 0.1]\"]\n",
        "        c2[\"am(문맥) → [0.2, 0.4, -0.1, 0.6, 0.8, 0.0, -0.3, 0.3]\"]\n",
        "        c3[\"a(문맥) → [0.1, 0.2, 0.1, 0.3, 0.2, 0.1, 0.0, 0.1]\"]\n",
        "        c4[\"boy(문맥) → [0.8, -0.1, 0.5, -0.2, 0.6, 0.3, 0.4, -0.2]\"]\n",
        "    end\n",
        "\n",
        "    subgraph \"디코더 처리\"\n",
        "        dec[\"인코더-디코더 주의력(관계파악) + 신경망: 학습된 가중치를 통해 확률 계산\"]\n",
        "        start[\"<START> 토큰\"]\n",
        "    end\n",
        "\n",
        "    subgraph \"확률 분포 및 출력 생성\"\n",
        "        prob1[\"확률 분포: 저는(70%), 나는(20%), 제가(10%)\"]\n",
        "        prob2[\"확률 분포: 남자(65%), 소년(25%), 학생(10%)\"]\n",
        "        prob3[\"확률 분포: 입니다(80%), 이다(15%), 에요(5%)\"]\n",
        "        \n",
        "        o1[\"'저는' → [0.7, -0.2, 0.3, 0.5, -0.1, 0.2, 0.4, -0.3]\"]\n",
        "        o2[\"'남자' → [0.4, 0.6, -0.2, 0.3, 0.7, -0.3, 0.1, 0.5]\"]\n",
        "        o3[\"'입니다' → [0.2, 0.3, 0.5, -0.1, 0.4, 0.6, -0.2, 0.1]\"]\n",
        "    end\n",
        "\n",
        "    subgraph \"출력 문장\"\n",
        "        output[\"저는 남자 입니다\"]\n",
        "    end\n",
        "\n",
        "    input --> w1 & w2 & w3 & w4\n",
        "    w1 & p1 --> e1\n",
        "    w2 & p2 --> e2\n",
        "    w3 & p3 --> e3\n",
        "    w4 & p4 --> e4\n",
        "    e1 & e2 & e3 & e4 --> enc\n",
        "    enc --> c1 & c2 & c3 & c4\n",
        "    \n",
        "    c_all[전체 의미 벡터]\n",
        "    c1 & c2 & c3 & c4 --> c_all\n",
        "    start --> dec\n",
        "    c_all --> dec\n",
        "    \n",
        "    dec --> prob1\n",
        "    prob1 --> o1\n",
        "    o1 & c_all --> dec2[디코더 2차 처리: 이전 출력을 기반으로 다음 단어 예측]\n",
        "    dec2 --> prob2\n",
        "    prob2 --> o2\n",
        "    o2 & c_all --> dec3[디코더 3차 처리: 이전 출력을 기반으로 다음 단어 예측]\n",
        "    dec3 --> prob3\n",
        "    prob3 --> o3\n",
        "    \n",
        "    o1 & o2 & o3 --> output\n",
        "\n",
        "    style input fill:#f9d5e5,stroke:#333,stroke-width:2px\n",
        "    style output fill:#eeeeee,stroke:#333,stroke-width:2px\n",
        "    style enc fill:#d3f8e2,stroke:#333,stroke-width:2px\n",
        "    style dec fill:#e3f8df,stroke:#333,stroke-width:2px\n",
        "    style dec2 fill:#e3f8df,stroke:#333,stroke-width:2px\n",
        "    style dec3 fill:#e3f8df,stroke:#333,stroke-width:2px\n",
        "    style start fill:#ffe6cc,stroke:#333,stroke-width:2px\n",
        "    style c_all fill:#d5e8d4,stroke:#333,stroke-width:2px\n",
        "    style prob1 fill:#ffe6b3,stroke:#333,stroke-width:2px\n",
        "    style prob2 fill:#ffe6b3,stroke:#333,stroke-width:2px\n",
        "    style prob3 fill:#ffe6b3,stroke:#333,stroke-width:2px\n",
        "```"
      ],
      "metadata": {
        "id": "HV9pnghT3sia"
      }
    },
    {
      "cell_type": "code",
      "source": [
        "!sudo apt install -y fonts-nanum*\n",
        "!sudo fc-cache -fv\n",
        "!rm ~/.cache/matplotlib -rf"
      ],
      "metadata": {
        "colab": {
          "base_uri": "https://localhost:8080/"
        },
        "id": "bPQx3nZ98GRU",
        "outputId": "2e26a306-5405-45bb-d631-f82f41c3c32a"
      },
      "execution_count": 1,
      "outputs": [
        {
          "output_type": "stream",
          "name": "stdout",
          "text": [
            "Reading package lists... Done\n",
            "Building dependency tree... Done\n",
            "Reading state information... Done\n",
            "Note, selecting 'fonts-nanum-extra' for glob 'fonts-nanum*'\n",
            "Note, selecting 'fonts-nanum-coding' for glob 'fonts-nanum*'\n",
            "Note, selecting 'fonts-nanum-eco' for glob 'fonts-nanum*'\n",
            "Note, selecting 'fonts-nanum' for glob 'fonts-nanum*'\n",
            "The following NEW packages will be installed:\n",
            "  fonts-nanum fonts-nanum-coding fonts-nanum-eco fonts-nanum-extra\n",
            "0 upgraded, 4 newly installed, 0 to remove and 38 not upgraded.\n",
            "Need to get 46.0 MB of archives.\n",
            "After this operation, 177 MB of additional disk space will be used.\n",
            "Get:1 http://archive.ubuntu.com/ubuntu jammy/universe amd64 fonts-nanum all 20200506-1 [10.3 MB]\n",
            "Get:2 http://archive.ubuntu.com/ubuntu jammy/universe amd64 fonts-nanum-coding all 2.5-3 [4,988 B]\n",
            "Get:3 http://archive.ubuntu.com/ubuntu jammy/universe amd64 fonts-nanum-eco all 1.000-7 [14.7 MB]\n",
            "Get:4 http://archive.ubuntu.com/ubuntu jammy/universe amd64 fonts-nanum-extra all 20200506-1 [21.0 MB]\n",
            "Fetched 46.0 MB in 2s (18.9 MB/s)\n",
            "debconf: unable to initialize frontend: Dialog\n",
            "debconf: (No usable dialog-like program is installed, so the dialog based frontend cannot be used. at /usr/share/perl5/Debconf/FrontEnd/Dialog.pm line 78, <> line 4.)\n",
            "debconf: falling back to frontend: Readline\n",
            "debconf: unable to initialize frontend: Readline\n",
            "debconf: (This frontend requires a controlling tty.)\n",
            "debconf: falling back to frontend: Teletype\n",
            "dpkg-preconfigure: unable to re-open stdin: \n",
            "Selecting previously unselected package fonts-nanum.\n",
            "(Reading database ... 126675 files and directories currently installed.)\n",
            "Preparing to unpack .../fonts-nanum_20200506-1_all.deb ...\n",
            "Unpacking fonts-nanum (20200506-1) ...\n",
            "Selecting previously unselected package fonts-nanum-coding.\n",
            "Preparing to unpack .../fonts-nanum-coding_2.5-3_all.deb ...\n",
            "Unpacking fonts-nanum-coding (2.5-3) ...\n",
            "Selecting previously unselected package fonts-nanum-eco.\n",
            "Preparing to unpack .../fonts-nanum-eco_1.000-7_all.deb ...\n",
            "Unpacking fonts-nanum-eco (1.000-7) ...\n",
            "Selecting previously unselected package fonts-nanum-extra.\n",
            "Preparing to unpack .../fonts-nanum-extra_20200506-1_all.deb ...\n",
            "Unpacking fonts-nanum-extra (20200506-1) ...\n",
            "Setting up fonts-nanum-extra (20200506-1) ...\n",
            "Setting up fonts-nanum (20200506-1) ...\n",
            "Setting up fonts-nanum-coding (2.5-3) ...\n",
            "Setting up fonts-nanum-eco (1.000-7) ...\n",
            "Processing triggers for fontconfig (2.13.1-4.2ubuntu5) ...\n",
            "/usr/share/fonts: caching, new cache contents: 0 fonts, 1 dirs\n",
            "/usr/share/fonts/truetype: caching, new cache contents: 0 fonts, 3 dirs\n",
            "/usr/share/fonts/truetype/humor-sans: caching, new cache contents: 1 fonts, 0 dirs\n",
            "/usr/share/fonts/truetype/liberation: caching, new cache contents: 16 fonts, 0 dirs\n",
            "/usr/share/fonts/truetype/nanum: caching, new cache contents: 39 fonts, 0 dirs\n",
            "/usr/local/share/fonts: caching, new cache contents: 0 fonts, 0 dirs\n",
            "/root/.local/share/fonts: skipping, no such directory\n",
            "/root/.fonts: skipping, no such directory\n",
            "/usr/share/fonts/truetype: skipping, looped directory detected\n",
            "/usr/share/fonts/truetype/humor-sans: skipping, looped directory detected\n",
            "/usr/share/fonts/truetype/liberation: skipping, looped directory detected\n",
            "/usr/share/fonts/truetype/nanum: skipping, looped directory detected\n",
            "/var/cache/fontconfig: cleaning cache directory\n",
            "/root/.cache/fontconfig: not cleaning non-existent cache directory\n",
            "/root/.fontconfig: not cleaning non-existent cache directory\n",
            "fc-cache: succeeded\n"
          ]
        }
      ]
    },
    {
      "cell_type": "code",
      "source": [
        "# 런타임 -> 세션 다시 시작 후 실행\n",
        "import matplotlib.pyplot as plt\n",
        "\n",
        "plt.rc('font', family='NanumBarunGothic')"
      ],
      "metadata": {
        "id": "-VbPzH8A8J4U"
      },
      "execution_count": 1,
      "outputs": []
    },
    {
      "cell_type": "code",
      "execution_count": null,
      "metadata": {
        "id": "AV7STjJDsb90"
      },
      "outputs": [],
      "source": [
        "# 그러면 위 그림으로 트랜스포머, 인코더, 디코더를 이해했으니\n",
        "# 우리 수업은 트랜스포머를 Python으로 구현해보는 것으로 진행을 해야 할까요?\n",
        "# 아닙니다. 왜요? 우리가 앞으로 트랜스포머를 직접 코드로 구현할 일이 없기 때문입니다.\n",
        "# 그래서 완성된 트랜스포머 코드를 가져올 겁니다.\n",
        "# 그리고 새로운 텍스트를 어떻게 학습하는지, 새로운 텍스트는 앞에서 배운 것처럼 어떻게 숫자로 표현되는지를\n",
        "# '확인'하는 시간으로 수업을 진행하도록 하겠습니다."
      ]
    },
    {
      "cell_type": "markdown",
      "source": [
        "# 데이터 로드"
      ],
      "metadata": {
        "id": "zba4j1QE8WM4"
      }
    },
    {
      "cell_type": "code",
      "source": [
        "# https://youtu.be/osv2csoHVAo 홍정모 박사님의 주피터 노트북 일부를 참고하였습니다.\n",
        "# 노트 링크: https://github.com/HongLabInc/HongLabLLM/blob/main/01_pretraining.ipynb\n",
        "# 데이터: https://www.kaggle.com/datasets/shubhammaindola/harry-potter-books?resource=download\n",
        "# 함께 학습을 해보고 싶지만 GPU가 있는 PC에서 1시간 정도는 돌려야합니다.\n",
        "\n",
        "# 해당 노트에는 트랜스포머를 구현하는 로직이 없습니다.\n",
        "# 대규모 언어 모델을 구현하기 위한 트랜스포머를\n",
        "# 함수처럼 불러와서 사용합니다.\n",
        "\n",
        "import re\n",
        "\n",
        "def clean_text(filename):\n",
        "    with open(filename, 'r', encoding='utf-8') as file:\n",
        "        book_text = file.read()\n",
        "\n",
        "    cleaned_text = re.sub(r'\\n+', ' ', book_text) # 줄바꿈을 빈칸으로 변경\n",
        "    cleaned_text = re.sub(r'\\s+', ' ', cleaned_text) # 여러 빈칸을 하나의 빈칸으로\n",
        "\n",
        "    print(\"cleaned_\" + filename, len(cleaned_text), \"characters\") # 글자 수 출력\n",
        "\n",
        "    with open(\"cleaned_\" + filename, 'w', encoding='utf-8') as file:\n",
        "        file.write(cleaned_text)\n",
        "\n",
        "filenames_list = [\"02 Harry Potter and the Chamber of Secrets.txt\"]\n",
        "# 크롤링이나 데이터 수집을 해서 나는 남자친구 역할을 해주는 '이루다(제타)'같은 것을 만들고 싶다\n",
        "# 이렇게 단순히 엔터만 제거하면 안되고, 특수문자 등을 제거해야 합니다.\n",
        "\n",
        "for filename in filenames_list:\n",
        "    clean_text(filename)"
      ],
      "metadata": {
        "colab": {
          "base_uri": "https://localhost:8080/"
        },
        "id": "bWVsgH4f7YW4",
        "outputId": "6f4ed349-2b70-40b4-afe3-992a9e5b91cb"
      },
      "execution_count": 2,
      "outputs": [
        {
          "output_type": "stream",
          "name": "stdout",
          "text": [
            "cleaned_02 Harry Potter and the Chamber of Secrets.txt 488771 characters\n"
          ]
        }
      ]
    },
    {
      "cell_type": "markdown",
      "source": [
        "# 토큰화"
      ],
      "metadata": {
        "id": "nygT1yJ_8acZ"
      }
    },
    {
      "cell_type": "code",
      "source": [
        "!pip install tiktoken"
      ],
      "metadata": {
        "colab": {
          "base_uri": "https://localhost:8080/"
        },
        "id": "FFYjmHfj8YAe",
        "outputId": "39b9a1c6-370c-4641-e456-3ede112878a5"
      },
      "execution_count": 3,
      "outputs": [
        {
          "output_type": "stream",
          "name": "stdout",
          "text": [
            "Requirement already satisfied: tiktoken in /usr/local/lib/python3.12/dist-packages (0.12.0)\n",
            "Requirement already satisfied: regex>=2022.1.18 in /usr/local/lib/python3.12/dist-packages (from tiktoken) (2024.11.6)\n",
            "Requirement already satisfied: requests>=2.26.0 in /usr/local/lib/python3.12/dist-packages (from tiktoken) (2.32.4)\n",
            "Requirement already satisfied: charset_normalizer<4,>=2 in /usr/local/lib/python3.12/dist-packages (from requests>=2.26.0->tiktoken) (3.4.4)\n",
            "Requirement already satisfied: idna<4,>=2.5 in /usr/local/lib/python3.12/dist-packages (from requests>=2.26.0->tiktoken) (3.11)\n",
            "Requirement already satisfied: urllib3<3,>=1.21.1 in /usr/local/lib/python3.12/dist-packages (from requests>=2.26.0->tiktoken) (2.5.0)\n",
            "Requirement already satisfied: certifi>=2017.4.17 in /usr/local/lib/python3.12/dist-packages (from requests>=2.26.0->tiktoken) (2025.10.5)\n"
          ]
        }
      ]
    },
    {
      "cell_type": "code",
      "source": [
        "# GPT와 Claude와 같은 경우에는 이 토큰 기반으로 가격이 책정됩니다.\n",
        "import tiktoken\n",
        "\n",
        "tokenizer = tiktoken.get_encoding(\"gpt2\")\n",
        "text = 'i am a boy.'\n",
        "tokens = tokenizer.encode(text)\n",
        "print(tokens)\n",
        "print('토큰수', len(tokens))\n",
        "print(tokenizer.decode(tokens))\n",
        "# 아스키코드와 관련이 없고 컴퓨터가 해당 문맥을 이해할 수 있도록\n",
        "# 통으로 해당 단어를 변경한 값입니다. ' am' => 716에서 'a'와 'm'이\n",
        "# 전혀 관련이 없습니다.\n",
        "for token in tokens:\n",
        "    print(f'{token:4d}: \"{tokenizer.decode([token])}\"')"
      ],
      "metadata": {
        "colab": {
          "base_uri": "https://localhost:8080/"
        },
        "id": "LT8MvmT-8kZU",
        "outputId": "77048447-040e-4b7c-8f19-a1399a7952f5"
      },
      "execution_count": 4,
      "outputs": [
        {
          "output_type": "stream",
          "name": "stdout",
          "text": [
            "[72, 716, 257, 2933, 13]\n",
            "토큰수 5\n",
            "i am a boy.\n",
            "  72: \"i\"\n",
            " 716: \" am\"\n",
            " 257: \" a\"\n",
            "2933: \" boy\"\n",
            "  13: \".\"\n"
          ]
        }
      ]
    },
    {
      "cell_type": "code",
      "source": [
        "tokenizer.encode('a')\n",
        "# 'a', 'am', ' a', ' am'은 완전히 다른 토큰이다!\n",
        "# 컴퓨터는 이러한 토큰단위로 이해를 합니다. 여기에 '위치 정보는 없습니다.'\n",
        "# 단어 임베딩에 해당되는 부분일 뿐입니다."
      ],
      "metadata": {
        "colab": {
          "base_uri": "https://localhost:8080/"
        },
        "id": "WxXciHP48pww",
        "outputId": "0ee95108-277c-4efe-8cad-2f70b1103f3d"
      },
      "execution_count": 5,
      "outputs": [
        {
          "output_type": "execute_result",
          "data": {
            "text/plain": [
              "[64]"
            ]
          },
          "metadata": {},
          "execution_count": 5
        }
      ]
    },
    {
      "cell_type": "code",
      "source": [
        "tokenizer.encode('i')"
      ],
      "metadata": {
        "colab": {
          "base_uri": "https://localhost:8080/"
        },
        "id": "DaRlOohu9ES_",
        "outputId": "86f756dd-a6e4-4d8b-a2e4-cdbb6f51afbd"
      },
      "execution_count": 6,
      "outputs": [
        {
          "output_type": "execute_result",
          "data": {
            "text/plain": [
              "[72]"
            ]
          },
          "metadata": {},
          "execution_count": 6
        }
      ]
    },
    {
      "cell_type": "code",
      "source": [
        "ord('a')"
      ],
      "metadata": {
        "colab": {
          "base_uri": "https://localhost:8080/"
        },
        "id": "6swNAtTxBA1L",
        "outputId": "2eedd623-fc40-4898-88e0-adb49d2d3564"
      },
      "execution_count": 7,
      "outputs": [
        {
          "output_type": "execute_result",
          "data": {
            "text/plain": [
              "97"
            ]
          },
          "metadata": {},
          "execution_count": 7
        }
      ]
    },
    {
      "cell_type": "code",
      "source": [
        "ord('i')"
      ],
      "metadata": {
        "colab": {
          "base_uri": "https://localhost:8080/"
        },
        "id": "JmJbrarLBDU9",
        "outputId": "003e7437-a44a-4c25-e7d6-1617d829f5d9"
      },
      "execution_count": 8,
      "outputs": [
        {
          "output_type": "execute_result",
          "data": {
            "text/plain": [
              "105"
            ]
          },
          "metadata": {},
          "execution_count": 8
        }
      ]
    },
    {
      "cell_type": "code",
      "source": [
        "tokenizer.encode('나는')\n",
        "# 한국어는 그래서 별도로 훈련을 하거나 번역 모델을 별도로 만드는 경우도 있습니다.\n",
        "# 그래서 한국어로 질문하는 것보다 영어로 질문하고 답변을 받는 것이 매우 좋은 답변을 얻을 수 있는 방법이라는 말\n",
        "# 그런데 이건 모델이 고도화 되면서 그 차이가 이제 희미합니다."
      ],
      "metadata": {
        "colab": {
          "base_uri": "https://localhost:8080/"
        },
        "id": "VpHeKtzeBGy2",
        "outputId": "2b26c666-e8f1-4b27-92b0-e2a5bf8b1562"
      },
      "execution_count": 9,
      "outputs": [
        {
          "output_type": "execute_result",
          "data": {
            "text/plain": [
              "[167, 224, 246, 167, 232, 242]"
            ]
          },
          "metadata": {},
          "execution_count": 9
        }
      ]
    },
    {
      "cell_type": "code",
      "source": [
        "# 우리가 앞에서 훈련했던 방법\n",
        "# 입력: 계절성, 광고액\n",
        "# 출력: 매출액\n",
        "\n",
        "# 입력: 3, 10\n",
        "# 출력: 100"
      ],
      "metadata": {
        "id": "wCJKO73HBgRx"
      },
      "execution_count": null,
      "outputs": []
    },
    {
      "cell_type": "code",
      "source": [
        "# 트랜스포머에서의 훈련\n",
        "\n",
        "# 원본: i am a boy.\n",
        "# 입력: i\n",
        "# 출력:   am\n",
        "\n",
        "# 입력: i am\n",
        "# 출력:      a\n",
        "\n",
        "# 입력: i am a\n",
        "# 출력:        boy\n",
        "\n",
        "# 입력: i am a boy\n",
        "# 출력:           ."
      ],
      "metadata": {
        "id": "p1HJHA7QBwlV"
      },
      "execution_count": null,
      "outputs": []
    },
    {
      "cell_type": "code",
      "source": [
        "import torch\n",
        "from torch.utils.data import Dataset, DataLoader\n",
        "\n",
        "class MyDataset(Dataset):\n",
        "    def __init__(self, txt, max_length, stride):\n",
        "        self.input_ids = []\n",
        "        self.target_ids = []\n",
        "\n",
        "        # token_ids = tokenizer.encode(\"<|endoftext|>\" + txt, allowed_special={\"<|endoftext|>\"})\n",
        "        token_ids = tokenizer.encode(txt)\n",
        "\n",
        "        print(\"# of tokens in txt:\", len(token_ids))\n",
        "\n",
        "        for i in range(0, len(token_ids) - max_length, stride):\n",
        "            input_chunk = token_ids[i:i + max_length] # input\n",
        "            target_chunk = token_ids[i + 1: i + max_length + 1] # 훈련\n",
        "            self.input_ids.append(torch.tensor(input_chunk))\n",
        "            self.target_ids.append(torch.tensor(target_chunk))\n",
        "\n",
        "    def __len__(self):\n",
        "        return len(self.input_ids)\n",
        "\n",
        "    def __getitem__(self, idx):\n",
        "        return self.input_ids[idx], self.target_ids[idx]\n",
        "\n",
        "# with open(\"cleaned_한글문서.txt\", 'r', encoding='utf-8-sig') as file: # 선택: -sig를 붙여서 BOM 제거\n",
        "with open(\"cleaned_02 Harry Potter and the Chamber of Secrets.txt\", 'r', encoding='utf-8-sig') as file: # 선택: -sig를 붙여서 BOM 제거\n",
        "    txt = file.read()\n",
        "\n",
        "dataset = MyDataset(txt, max_length = 32, stride = 4)\n",
        "\n",
        "train_loader = DataLoader(dataset, batch_size=128, shuffle=True, drop_last=True)\n",
        "\n",
        "# 주의: 여기서는 코드를 단순화하기 위해 test, valid는 생략하고 train_loader만 만들었습니다.\n",
        "#      관련된 ML 이론이 궁금하신 분들은 train vs test vs validation 등으로 검색해보세요."
      ],
      "metadata": {
        "colab": {
          "base_uri": "https://localhost:8080/"
        },
        "id": "mTj0r0AUCXLX",
        "outputId": "272fff1f-a149-401e-e2cd-c79c15e6986c"
      },
      "execution_count": 10,
      "outputs": [
        {
          "output_type": "stream",
          "name": "stdout",
          "text": [
            "# of tokens in txt: 130520\n"
          ]
        }
      ]
    },
    {
      "cell_type": "code",
      "source": [
        "i = iter('hello')\n",
        "next(i),next(i)"
      ],
      "metadata": {
        "colab": {
          "base_uri": "https://localhost:8080/"
        },
        "id": "RRsXipqqCyEd",
        "outputId": "f4f06470-0537-43da-9c77-28e0377544c0"
      },
      "execution_count": 13,
      "outputs": [
        {
          "output_type": "execute_result",
          "data": {
            "text/plain": [
              "('h', 'e')"
            ]
          },
          "metadata": {},
          "execution_count": 13
        }
      ]
    },
    {
      "cell_type": "code",
      "source": [
        "train_loader"
      ],
      "metadata": {
        "colab": {
          "base_uri": "https://localhost:8080/"
        },
        "id": "Qk5yD1-eDDjd",
        "outputId": "58288b3c-73c5-490d-89e1-821300b4ecf3"
      },
      "execution_count": 18,
      "outputs": [
        {
          "output_type": "execute_result",
          "data": {
            "text/plain": [
              "<torch.utils.data.dataloader.DataLoader at 0x7f832924ecf0>"
            ]
          },
          "metadata": {},
          "execution_count": 18
        }
      ]
    },
    {
      "cell_type": "code",
      "source": [
        "dataiter = iter(train_loader)\n",
        "x, y = next(dataiter)\n",
        "x[0]"
      ],
      "metadata": {
        "colab": {
          "base_uri": "https://localhost:8080/"
        },
        "id": "TDNOo8_ICbMz",
        "outputId": "11e86d66-611d-42ab-d266-0bb1f6189f1d"
      },
      "execution_count": 20,
      "outputs": [
        {
          "output_type": "execute_result",
          "data": {
            "text/plain": [
              "tensor([  780,   286,  1781,  2506,  1807,   326,   673,   550,   587,  7384,\n",
              "           13,  1406,   867,  2444,  5717,  1613,   262,  4436,  8539,  2111,\n",
              "          284,  4929,   257, 19350,   286,   607,   326,  4627,   321, 25505,\n",
              "        37425,  1718])"
            ]
          },
          "metadata": {},
          "execution_count": 20
        }
      ]
    },
    {
      "cell_type": "code",
      "source": [
        "tokenizer.decode([780])\n",
        "\n",
        "s = ''\n",
        "for i in x[0]:\n",
        "    s += tokenizer.decode([i])\n",
        "s"
      ],
      "metadata": {
        "colab": {
          "base_uri": "https://localhost:8080/",
          "height": 35
        },
        "id": "Cz9AhUFhDvan",
        "outputId": "f84f3e36-035e-423c-ba65-e6b416db26f6"
      },
      "execution_count": 23,
      "outputs": [
        {
          "output_type": "execute_result",
          "data": {
            "text/plain": [
              "' because of course everyone thought that she had been attacked. So many students filed past the hospital wing trying to catch a glimpse of her that Madam Pomfrey took'"
            ],
            "application/vnd.google.colaboratory.intrinsic+json": {
              "type": "string"
            }
          },
          "metadata": {},
          "execution_count": 23
        }
      ]
    },
    {
      "cell_type": "code",
      "source": [
        "# 실행할 때마다 다른 문장이 나오는 이유는 DataLoader에서 shuffle=True로 설정했기 때문\n",
        "# 만약 항상 같은 순서로 데이터를 보고 싶다면 shuffle=False로 설정하면 됩니다\n",
        "\n",
        "dataiter = iter(train_loader)\n",
        "x, y = next(dataiter)\n",
        "\n",
        "print(tokenizer.decode(x[0].tolist()))\n",
        "print(tokenizer.decode(y[0].tolist()))"
      ],
      "metadata": {
        "colab": {
          "base_uri": "https://localhost:8080/"
        },
        "id": "xruEh_0CE3uH",
        "outputId": "d33d7f7d-d9fc-4d56-f749-47db58c0e0b5"
      },
      "execution_count": 35,
      "outputs": [
        {
          "output_type": "stream",
          "name": "stdout",
          "text": [
            ". Riddle opened his mouth, but froze. Music was coming from somewhere. Riddle whirled around to stare down the empty Chamber. The music was growing\n",
            " Riddle opened his mouth, but froze. Music was coming from somewhere. Riddle whirled around to stare down the empty Chamber. The music was growing louder\n"
          ]
        }
      ]
    },
    {
      "cell_type": "markdown",
      "source": [
        "쉬운 버전\n",
        "\n",
        "```\n",
        "graph TD\n",
        "    subgraph Step1[1단계: 텍스트를 숫자로]\n",
        "        A[안녕하세요 반가워요]\n",
        "        A --> B[5, 12, 8, 3]\n",
        "    end\n",
        "    \n",
        "    subgraph Step2[2단계: 학습 데이터 만들기]\n",
        "        B --> C[입력: 5, 12, 8]\n",
        "        B --> D[정답: 12, 8, 3]\n",
        "        E[현재 단어로 → 다음 단어 예측]\n",
        "    end\n",
        "    \n",
        "    subgraph Step3[3단계: AI 모델 학습]\n",
        "        C --> F[AI 모델]\n",
        "        F --> G[예측: 다음에 올 단어는?]\n",
        "        D --> H[정답과 비교]\n",
        "        G --> H\n",
        "    end\n",
        "    \n",
        "    subgraph Step4[4단계: 틀린만큼 다시 공부]\n",
        "        H --> I[얼마나 틀렸나?]\n",
        "        I --> J[모델 개선하기]\n",
        "        J --> F\n",
        "    end\n",
        "\n",
        "    style A fill:#e1f5fe\n",
        "    style C fill:#fff3e0\n",
        "    style D fill:#ffcdd2\n",
        "    style I fill:#ffebee\n",
        "    style J fill:#e8f5e9\n",
        "```"
      ],
      "metadata": {
        "id": "dpZABLGrJKcw"
      }
    },
    {
      "cell_type": "markdown",
      "source": [
        "# 자기주의력"
      ],
      "metadata": {
        "id": "T0hCOIghGOrF"
      }
    },
    {
      "cell_type": "code",
      "source": [
        "import numpy as np\n",
        "import matplotlib.pyplot as plt\n",
        "import pandas as pd\n",
        "import seaborn as sns\n",
        "\n",
        "# 1. 간단한 자기주의력(Self-Attention) 메커니즘 구현\n",
        "def self_attention_demo(query, key, value):\n",
        "    \"\"\"\n",
        "    간단한 자기주의력 메커니즘 구현\n",
        "\n",
        "    Parameters:\n",
        "    - query: 쿼리 벡터들 (각 단어별 벡터)\n",
        "    - key: 키 벡터들 (각 단어별 벡터)\n",
        "    - value: 값 벡터들 (각 단어별 벡터)\n",
        "\n",
        "    Returns:\n",
        "    - attention_output: 자기주의력 출력값\n",
        "    - attention_weights: 자기주의력 가중치 (시각화용)\n",
        "    \"\"\"\n",
        "    # 1. 쿼리와 키의 내적 계산\n",
        "    scores = np.matmul(query, key.transpose())\n",
        "\n",
        "    # 2. 스케일링 (쿼리/키 차원의 제곱근으로 나누기)\n",
        "    d_k = query.shape[-1]\n",
        "    scaled_scores = scores / np.sqrt(d_k)\n",
        "\n",
        "    # 3. softmax 적용하여 가중치 산출\n",
        "    attention_weights = np.exp(scaled_scores) / np.sum(np.exp(scaled_scores), axis=1, keepdims=True)\n",
        "\n",
        "    # 4. 가중치와 값을 곱하여 출력 계산\n",
        "    attention_output = np.matmul(attention_weights, value)\n",
        "\n",
        "    return attention_output, attention_weights\n",
        "\n",
        "# 2. 입력 문장: \"나는 사과를 좋아해\"\n",
        "sentence = [\"나는\", \"사과를\", \"좋아해\"]\n",
        "\n",
        "# 3. 각 단어를 랜덤 임베딩 벡터로 표현 (실제로는 학습된 임베딩 사용)\n",
        "embedding_dim = 4  # 임베딩 차원 (실제 트랜스포머는 보통 512 이상)\n",
        "np.random.seed(42)  # 재현성을 위한 시드 설정\n",
        "word_embeddings = np.random.rand(len(sentence), embedding_dim)\n",
        "\n",
        "# 단어별 임베딩 출력\n",
        "print(\"단어별 임베딩 벡터:\")\n",
        "for i, word in enumerate(sentence):\n",
        "    print(f\"{word}: {word_embeddings[i]}\")\n",
        "\n",
        "# 4. 자기주의력 적용 (쿼리, 키, 값은 동일한 임베딩을 사용)\n",
        "query = word_embeddings\n",
        "key = word_embeddings\n",
        "value = word_embeddings\n",
        "\n",
        "output, weights = self_attention_demo(query, key, value)\n",
        "\n",
        "print(\"\\n자기주의력 가중치:\")\n",
        "print(pd.DataFrame(weights, index=sentence, columns=sentence))\n",
        "\n",
        "print(\"\\n자기주의력 결과 벡터:\")\n",
        "for i, word in enumerate(sentence):\n",
        "    print(f\"{word} -> {output[i]}\")\n",
        "\n",
        "# 5. 자기주의력 가중치 시각화\n",
        "plt.figure(figsize=(8, 6))\n",
        "sns.heatmap(weights, annot=True, cmap=\"YlGnBu\", xticklabels=sentence, yticklabels=sentence)\n",
        "plt.title(\"단어간 자기주의력 가중치\")\n",
        "plt.tight_layout()\n",
        "plt.savefig('attention_weights.png')\n",
        "plt.show()\n",
        "\n",
        "# 6. 자기주의력의 의미 설명\n",
        "print(\"\\n자기주의력 해석:\")\n",
        "print(\"각 가중치는 해당 단어가 다른 단어와 얼마나 연관되어 있는지를 나타냅니다.\")\n",
        "print(\"예: '나는'이 '좋아해'와 연관성이 크다면, '나'가 주어이고 '좋아해'가 서술어라는 관계를 모델이 포착한 것입니다.\")\n",
        "print(\"실제 트랜스포머에서는 이런 가중치가 학습되며, 문장의 의미를 포착하게 됩니다.\")\n",
        "\n",
        "# 7. 위치 인코딩 시각화 (트랜스포머의 또 다른 중요 요소)\n",
        "def get_positional_encoding(position, d_model):\n",
        "    \"\"\"\n",
        "    트랜스포머의 위치 인코딩 계산\n",
        "    \"\"\"\n",
        "    pos_encoding = np.zeros((position, d_model))\n",
        "    for pos in range(position):\n",
        "        for i in range(0, d_model, 2):\n",
        "            pos_encoding[pos, i] = np.sin(pos / (10000 ** (i / d_model)))\n",
        "            if i+1 < d_model:\n",
        "                pos_encoding[pos, i+1] = np.cos(pos / (10000 ** (i / d_model)))\n",
        "    return pos_encoding\n",
        "\n",
        "max_len = 10  # 최대 시퀀스 길이\n",
        "d_model = 16  # 임베딩 차원 (시각화를 위해 작게 설정)\n",
        "\n",
        "pos_encoding = get_positional_encoding(max_len, d_model)\n",
        "\n",
        "plt.figure(figsize=(10, 6))\n",
        "sns.heatmap(pos_encoding, cmap=\"coolwarm\")\n",
        "plt.title(\"트랜스포머 위치 인코딩 시각화\")\n",
        "plt.xlabel(\"임베딩 차원\")\n",
        "plt.ylabel(\"단어 위치\")\n",
        "plt.savefig('positional_encoding.png')\n",
        "plt.show()\n",
        "\n",
        "print(\"\\n위치 인코딩 설명:\")\n",
        "print(\"위치 인코딩은 각 단어의 위치 정보를 벡터로 표현합니다.\")\n",
        "print(\"이를 통해 트랜스포머 모델은 단어의 순서를 고려할 수 있게 됩니다.\")\n",
        "print(\"실제 문장에서는 단어 임베딩에 위치 인코딩을 더해 사용합니다.\")\n",
        "\n",
        "# 결론\n",
        "print(\"\\n결론:\")\n",
        "print(\"실제 트랜스포머는 여러 층의 자기주의력과 피드포워드 신경망으로 구성됩니다.\")\n",
        "print(\"이 예제는 매우 단순화된 버전이지만, 자기주의력의 핵심 원리를 보여줍니다.\")\n",
        "print(\"트랜스포머의 강점은 단어 간의 관계를 직접 계산하여 문맥을 이해하는 능력입니다.\")"
      ],
      "metadata": {
        "colab": {
          "base_uri": "https://localhost:8080/",
          "height": 1000
        },
        "id": "6YUIX1ylGkV1",
        "outputId": "ce82f168-2b29-406d-c524-1cd92950036b"
      },
      "execution_count": 33,
      "outputs": [
        {
          "output_type": "stream",
          "name": "stdout",
          "text": [
            "단어별 임베딩 벡터:\n",
            "나는: [0.37454012 0.95071431 0.73199394 0.59865848]\n",
            "사과를: [0.15601864 0.15599452 0.05808361 0.86617615]\n",
            "좋아해: [0.60111501 0.70807258 0.02058449 0.96990985]\n",
            "\n",
            "자기주의력 가중치:\n",
            "           나는       사과를       좋아해\n",
            "나는   0.424134  0.236224  0.339642\n",
            "사과를  0.315818  0.321314  0.362868\n",
            "좋아해  0.337077  0.269366  0.393557\n",
            "\n",
            "자기주의력 결과 벡터:\n",
            "나는 -> [0.39987455 0.68057141 0.33117587 0.78794504]\n",
            "사과를 -> [0.38654279 0.60731256 0.25730925 0.81933095]\n",
            "좋아해 -> [0.40484785 0.64115038 0.27048537 0.81682713]\n"
          ]
        },
        {
          "output_type": "display_data",
          "data": {
            "text/plain": [
              "<Figure size 800x600 with 2 Axes>"
            ],
            "image/png": "[encoded data removed]"
          },
          "metadata": {}
        },
        {
          "output_type": "stream",
          "name": "stdout",
          "text": [
            "\n",
            "자기주의력 해석:\n",
            "각 가중치는 해당 단어가 다른 단어와 얼마나 연관되어 있는지를 나타냅니다.\n",
            "예: '나는'이 '좋아해'와 연관성이 크다면, '나'가 주어이고 '좋아해'가 서술어라는 관계를 모델이 포착한 것입니다.\n",
            "실제 트랜스포머에서는 이런 가중치가 학습되며, 문장의 의미를 포착하게 됩니다.\n"
          ]
        },
        {
          "output_type": "stream",
          "name": "stderr",
          "text": [
            "/usr/local/lib/python3.12/dist-packages/seaborn/utils.py:61: UserWarning: Glyph 8722 (\\N{MINUS SIGN}) missing from font(s) NanumBarunGothic.\n",
            "  fig.canvas.draw()\n",
            "/tmp/ipython-input-1955701451.py:99: UserWarning: Glyph 8722 (\\N{MINUS SIGN}) missing from font(s) NanumBarunGothic.\n",
            "  plt.savefig('positional_encoding.png')\n",
            "/usr/local/lib/python3.12/dist-packages/IPython/core/pylabtools.py:151: UserWarning: Glyph 8722 (\\N{MINUS SIGN}) missing from font(s) NanumBarunGothic.\n",
            "  fig.canvas.print_figure(bytes_io, **kw)\n"
          ]
        },
        {
          "output_type": "display_data",
          "data": {
            "text/plain": [
              "<Figure size 1000x600 with 2 Axes>"
            ],
            "image/png": "[encoded data removed]"
          },
          "metadata": {}
        },
        {
          "output_type": "stream",
          "name": "stdout",
          "text": [
            "\n",
            "위치 인코딩 설명:\n",
            "위치 인코딩은 각 단어의 위치 정보를 벡터로 표현합니다.\n",
            "이를 통해 트랜스포머 모델은 단어의 순서를 고려할 수 있게 됩니다.\n",
            "실제 문장에서는 단어 임베딩에 위치 인코딩을 더해 사용합니다.\n",
            "\n",
            "결론:\n",
            "실제 트랜스포머는 여러 층의 자기주의력과 피드포워드 신경망으로 구성됩니다.\n",
            "이 예제는 매우 단순화된 버전이지만, 자기주의력의 핵심 원리를 보여줍니다.\n",
            "트랜스포머의 강점은 단어 간의 관계를 직접 계산하여 문맥을 이해하는 능력입니다.\n"
          ]
        }
      ]
    }
  ]
}