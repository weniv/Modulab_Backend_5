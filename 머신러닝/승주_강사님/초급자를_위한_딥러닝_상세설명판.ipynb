{
  "cells": [
    {
      "cell_type": "markdown",
      "metadata": {
        "id": "wZ363Saogcc4"
      },
      "source": [
        "# 초급자를 위한 손에 잡히는 딥러닝 (상세 설명 버전)\n",
        "> 원본 자료에 초심자를 위한 추가 설명과 예시를 더한 버전입니다.\n",
        "\n",
        "- toc: true\n",
        "- branch: master\n",
        "- badges: true\n",
        "- comments: true\n",
        "- author: 이호준 (추가 설명 버전)\n",
        "- categories: [TensorFlow, deep learning, 선형회귀]"
      ]
    },
    {
      "cell_type": "markdown",
      "metadata": {
        "id": "ZqQhjstngcc6"
      },
      "source": [
        "## 📚 시작하기 전에 - 이 강의에서 배울 내용\n",
        "\n",
        "### 🎯 수강 대상\n",
        "* 인공지능, 머신러닝, 딥러닝에 대한 이해가 전혀 없으나 배워보고 싶으신 분\n",
        "* 데이터 분석에 대한 이해가 전혀 없으신 분\n",
        "* Python에 대한 이해가 없으신 분\n",
        "* 빠른 시간 내 훑어보시길 원하시는 분\n",
        "\n",
        "### 💡 초심자를 위한 팁\n",
        "**\"딥러닝이 뭐지?\"** 라고 생각하신다면:\n",
        "- 딥러닝 = 컴퓨터가 스스로 패턴을 찾아 학습하는 기술\n",
        "- 예시: 강아지 사진 1000장을 보여주면 → 컴퓨터가 \"아, 이게 강아지구나!\" 학습\n",
        "- 우리가 할 일: 컴퓨터에게 \"어떻게 학습할지\" 가르쳐주기"
      ]
    },
    {
      "cell_type": "markdown",
      "metadata": {
        "id": "qRa29JkBgcc6"
      },
      "source": [
        "## 🌟 딥러닝의 위치와 중요성\n",
        "\n",
        "### 인공지능 가족 관계도\n",
        "```\n",
        "인공지능 (할아버지)\n",
        "    ↓\n",
        "기계 학습 (아버지)\n",
        "    ↓\n",
        "딥러닝 (아들)\n",
        "```\n",
        "\n",
        "### 🏠 실생활 비유\n",
        "- **인공지능**: 사람처럼 생각하는 모든 것 (예: 시리, 알렉사)\n",
        "- **머신러닝**: 데이터로부터 규칙을 찾는 것 (예: 스팸메일 필터)\n",
        "- **딥러닝**: 뇌처럼 여러 층을 쌓아서 학습 (예: 얼굴 인식)\n",
        "\n",
        "### ⚠️ 주의사항\n",
        "딥러닝이 만능은 아닙니다!\n",
        "1. **많은 데이터 필요**: 최소 수천~수만 개\n",
        "2. **결과 설명 어려움**: \"왜 그런 결과가 나왔는지\" 설명하기 힘듦\n",
        "3. **컴퓨터 자원 많이 필요**: GPU 없으면 느림"
      ]
    },
    {
      "cell_type": "markdown",
      "metadata": {
        "id": "ubkbOVY5gcc6"
      },
      "source": [
        "## 📖 공부 방법 가이드\n",
        "\n",
        "### 👶 완전 초보자\n",
        "1. 코드는 일단 실행만 해보세요 (Ctrl + Enter)\n",
        "2. 결과 그래프만 봐도 충분!\n",
        "3. 이해 안 되는 건 넘어가도 OK\n",
        "\n",
        "### 🧑 Python 조금 아는 분\n",
        "1. 코드를 직접 타이핑해보세요\n",
        "2. 숫자를 바꿔가며 실험\n",
        "3. 에러가 나도 당황하지 마세요!\n",
        "\n",
        "### 💻 실습 환경\n",
        "- Google Colab 추천 (무료, 설치 불필요)\n",
        "- 자료 다운로드: www.paullab.co.kr/deep_learning.zip"
      ]
    },
    {
      "cell_type": "markdown",
      "metadata": {
        "id": "BO3Pc0KAgcc9"
      },
      "source": [
        "## 📊 Step 1: 데이터 만들기\n",
        "\n",
        "### 🤔 왜 데이터를 만들까요?\n",
        "실제 데이터는 복잡하니까, 먼저 **간단한 가짜 데이터**로 연습합니다!\n",
        "마치 수영 배울 때 얕은 풀장에서 시작하는 것처럼요."
      ]
    },
    {
      "cell_type": "markdown",
      "metadata": {
        "id": "ZWsTmeqTgcc7"
      },
      "source": [
        "## 🔤 한글 폰트 설정 (처음 한 번만!)\n",
        "\n",
        "### 왜 필요한가요?\n",
        "그래프에서 한글이 깨져서 '□□□' 이렇게 보이는 것을 방지합니다."
      ]
    },
    {
      "cell_type": "code",
      "execution_count": 2,
      "metadata": {
        "colab": {
          "base_uri": "https://localhost:8080/"
        },
        "id": "cJTvjC-ngcc7",
        "outputId": "f9afd231-e8ba-4cef-b5b1-a1ec9f6e4444"
      },
      "outputs": [
        {
          "output_type": "stream",
          "name": "stdout",
          "text": [
            "Reading package lists... Done\n",
            "Building dependency tree... Done\n",
            "Reading state information... Done\n",
            "Note, selecting 'fonts-nanum-extra' for glob 'fonts-nanum*'\n",
            "Note, selecting 'fonts-nanum-coding' for glob 'fonts-nanum*'\n",
            "Note, selecting 'fonts-nanum-eco' for glob 'fonts-nanum*'\n",
            "Note, selecting 'fonts-nanum' for glob 'fonts-nanum*'\n",
            "fonts-nanum is already the newest version (20200506-1).\n",
            "fonts-nanum-coding is already the newest version (2.5-3).\n",
            "fonts-nanum-eco is already the newest version (1.000-7).\n",
            "fonts-nanum-extra is already the newest version (20200506-1).\n",
            "0 upgraded, 0 newly installed, 0 to remove and 35 not upgraded.\n",
            "/usr/share/fonts: caching, new cache contents: 0 fonts, 1 dirs\n",
            "/usr/share/fonts/truetype: caching, new cache contents: 0 fonts, 3 dirs\n",
            "/usr/share/fonts/truetype/humor-sans: caching, new cache contents: 1 fonts, 0 dirs\n",
            "/usr/share/fonts/truetype/liberation: caching, new cache contents: 16 fonts, 0 dirs\n",
            "/usr/share/fonts/truetype/nanum: caching, new cache contents: 39 fonts, 0 dirs\n",
            "/usr/local/share/fonts: caching, new cache contents: 0 fonts, 0 dirs\n",
            "/root/.local/share/fonts: skipping, no such directory\n",
            "/root/.fonts: skipping, no such directory\n",
            "/usr/share/fonts/truetype: skipping, looped directory detected\n",
            "/usr/share/fonts/truetype/humor-sans: skipping, looped directory detected\n",
            "/usr/share/fonts/truetype/liberation: skipping, looped directory detected\n",
            "/usr/share/fonts/truetype/nanum: skipping, looped directory detected\n",
            "/var/cache/fontconfig: cleaning cache directory\n",
            "/root/.cache/fontconfig: not cleaning non-existent cache directory\n",
            "/root/.fontconfig: not cleaning non-existent cache directory\n",
            "fc-cache: succeeded\n"
          ]
        }
      ],
      "source": [
        "# 한글 폰트 설치 (Google Colab에서만 실행)\n",
        "!sudo apt install -y fonts-nanum*\n",
        "!sudo fc-cache -fv\n",
        "!rm ~/.cache/matplotlib -rf"
      ]
    },
    {
      "cell_type": "code",
      "execution_count": 3,
      "metadata": {
        "colab": {
          "base_uri": "https://localhost:8080/"
        },
        "id": "9ikepJjxgcc9",
        "outputId": "fb7dfbcb-5e45-46cb-8dba-4879d74e41d2"
      },
      "outputs": [
        {
          "output_type": "stream",
          "name": "stdout",
          "text": [
            "🎉 라이브러리 로딩 완료!\n"
          ]
        }
      ],
      "source": [
        "# 필요한 도구들 불러오기\n",
        "import pandas as pd  # 엑셀처럼 데이터를 표로 다루는 도구\n",
        "import numpy as np   # 숫자 계산을 빠르게 해주는 도구\n",
        "import matplotlib.pyplot as plt  # 그래프 그리는 도구\n",
        "\n",
        "print(\"🎉 라이브러리 로딩 완료!\")"
      ]
    },
    {
      "cell_type": "code",
      "execution_count": 4,
      "metadata": {
        "colab": {
          "base_uri": "https://localhost:8080/"
        },
        "id": "xB35uNI-gcc8",
        "outputId": "0e83b4f6-13ca-4b11-c6c0-123faa253555"
      },
      "outputs": [
        {
          "output_type": "stream",
          "name": "stdout",
          "text": [
            "한글 폰트 설정 완료!\n"
          ]
        }
      ],
      "source": [
        "# 런타임 -> 런타임 다시 시작 후 실행\n",
        "\n",
        "plt.rc('font', family='NanumBarunGothic')\n",
        "print(\"한글 폰트 설정 완료!\")"
      ]
    },
    {
      "cell_type": "markdown",
      "source": [
        "# =================================================================\n",
        "# 📊 Pandas로 데이터 다루기 (엑셀 느낌으로!)\n",
        "# ================================================================="
      ],
      "metadata": {
        "id": "G0rA_gdcpoIh"
      }
    },
    {
      "cell_type": "code",
      "source": [
        "print(\"\\n📊 1단계: 데이터 만들어보기\")\n",
        "\n",
        "# 간단한 학생 성적 데이터 만들기\n",
        "data = {\n",
        "    '이름': ['철수', '영희', '민수', '수지', '준호'],\n",
        "    '수학': [85, 92, 78, 96, 88],\n",
        "    '영어': [90, 87, 82, 94, 86],\n",
        "    '과학': [88, 91, 85, 98, 89]\n",
        "}\n",
        "\n",
        "# 데이터프레임 만들기 (엑셀 표 같은 것)\n",
        "df = pd.DataFrame(data)\n",
        "print(\"🎯 우리가 만든 데이터:\")\n",
        "print(df)\n",
        "\n",
        "# 기본 정보 보기\n",
        "print(f\"\\n📈 학생 수: {len(df)}명\")\n",
        "print(f\"📚 과목 수: {len(df.columns)-1}개\")"
      ],
      "metadata": {
        "colab": {
          "base_uri": "https://localhost:8080/"
        },
        "id": "2dTnavc1pwSQ",
        "outputId": "85547d75-f28c-43ba-cfcc-24f11adb05ed"
      },
      "execution_count": 5,
      "outputs": [
        {
          "output_type": "stream",
          "name": "stdout",
          "text": [
            "\n",
            "📊 1단계: 데이터 만들어보기\n",
            "🎯 우리가 만든 데이터:\n",
            "   이름  수학  영어  과학\n",
            "0  철수  85  90  88\n",
            "1  영희  92  87  91\n",
            "2  민수  78  82  85\n",
            "3  수지  96  94  98\n",
            "4  준호  88  86  89\n",
            "\n",
            "📈 학생 수: 5명\n",
            "📚 과목 수: 3개\n"
          ]
        }
      ]
    },
    {
      "cell_type": "markdown",
      "source": [
        "# =================================================================\n",
        "# Numpy로 숫자 계산하기\n",
        "# =================================================================\n"
      ],
      "metadata": {
        "id": "Q6JkbDo_qJsW"
      }
    },
    {
      "cell_type": "code",
      "source": [
        "print(\"\\n🔢 2단계: 숫자 계산해보기\")\n",
        "\n",
        "# 수학 점수만 가져오기\n",
        "math_scores = np.array(df['수학'])\n",
        "print(f\"수학 점수: {math_scores}\")\n",
        "\n",
        "# 간단한 통계 계산\n",
        "print(f\"📊 수학 평균: {np.mean(math_scores):.1f}점\")\n",
        "print(f\"📊 수학 최고점: {np.max(math_scores)}점\")\n",
        "print(f\"📊 수학 최저점: {np.min(math_scores)}점\")\n",
        "\n",
        "# 전체 평균 계산하기\n",
        "all_scores = df[['수학', '영어', '과학']].values  # 모든 점수를 numpy 배열로\n",
        "total_average = np.mean(all_scores)\n",
        "print(f\"📊 전체 과목 평균: {total_average:.1f}점\")"
      ],
      "metadata": {
        "colab": {
          "base_uri": "https://localhost:8080/"
        },
        "id": "54w0Gq4PqLbr",
        "outputId": "f51f8303-b8dc-4041-aca2-4a99e1d4a2cb"
      },
      "execution_count": 6,
      "outputs": [
        {
          "output_type": "stream",
          "name": "stdout",
          "text": [
            "\n",
            "🔢 2단계: 숫자 계산해보기\n",
            "수학 점수: [85 92 78 96 88]\n",
            "📊 수학 평균: 87.8점\n",
            "📊 수학 최고점: 96점\n",
            "📊 수학 최저점: 78점\n",
            "📊 전체 과목 평균: 88.6점\n"
          ]
        }
      ]
    },
    {
      "cell_type": "markdown",
      "source": [
        "# =================================================================\n",
        "# 📈 Matplotlib으로 그래프 그리기\n",
        "# ================================================================="
      ],
      "metadata": {
        "id": "npdkEiE2qVi1"
      }
    },
    {
      "cell_type": "code",
      "source": [
        "# 1) 막대 그래프 - 학생별 수학 점수\n",
        "plt.figure(figsize=(10, 6))\n",
        "plt.subplot(1, 2, 1)  # 1행 2열 중 첫 번째\n",
        "plt.bar(df['이름'], df['수학'], color='skyblue')\n",
        "plt.title('학생별 수학 점수')\n",
        "plt.ylabel('점수')\n",
        "plt.ylim(0, 100)\n",
        "\n",
        "# 2) 선 그래프 - 과목별 평균 점수\n",
        "plt.subplot(1, 2, 2)  # 1행 2열 중 두 번째\n",
        "subjects = ['수학', '영어', '과학']\n",
        "avg_scores = [df[subject].mean() for subject in subjects]\n",
        "plt.plot(subjects, avg_scores, marker='o', linewidth=2, markersize=8, color='red')\n",
        "plt.title('과목별 평균 점수')\n",
        "plt.ylabel('평균 점수')\n",
        "plt.ylim(80, 95)\n",
        "\n",
        "plt.tight_layout()  # 그래프들이 겹치지 않게 조정\n",
        "plt.show()"
      ],
      "metadata": {
        "colab": {
          "base_uri": "https://localhost:8080/",
          "height": 607
        },
        "id": "5win1G-bqW0x",
        "outputId": "67ab557d-9ffd-4f1b-86ac-0002d6374489"
      },
      "execution_count": 7,
      "outputs": [
        {
          "output_type": "display_data",
          "data": {
            "text/plain": [
              "<Figure size 1000x600 with 2 Axes>"
            ],
            "image/png": "[encoded data removed]"
          },
          "metadata": {}
        }
      ]
    },
    {
      "cell_type": "markdown",
      "source": [
        "# =================================================================\n",
        "# 🎯 간단한 데이터 분석 실습\n",
        "# ================================================================="
      ],
      "metadata": {
        "id": "h8JvG6R7q0cq"
      }
    },
    {
      "cell_type": "code",
      "source": [
        "\n",
        "\n",
        "print(\"\\n🎯 4단계: 데이터 분석해보기\")\n",
        "\n",
        "# 각 학생의 총점과 평균 계산\n",
        "df['총점'] = df['수학'] + df['영어'] + df['과학']\n",
        "df['평균'] = df['총점'] / 3\n",
        "\n",
        "print(\"📋 최종 성적표:\")\n",
        "print(df)\n",
        "\n",
        "# 1등 찾기\n",
        "top_student = df[df['총점'] == df['총점'].max()]\n",
        "print(f\"\\n🏆 1등: {top_student['이름'].values[0]}님 (총점: {top_student['총점'].values[0]}점)\")\n",
        "\n",
        "# 과목별 1등 찾기\n",
        "print(\"\\n📚 과목별 1등:\")\n",
        "for subject in ['수학', '영어', '과학']:\n",
        "    best = df[df[subject] == df[subject].max()]\n",
        "    print(f\"  {subject}: {best['이름'].values[0]}님 ({best[subject].values[0]}점)\")"
      ],
      "metadata": {
        "colab": {
          "base_uri": "https://localhost:8080/"
        },
        "id": "L1zto9JEq0Eu",
        "outputId": "7a58dc40-22e1-4bd1-b3f8-c3a55365b135"
      },
      "execution_count": 19,
      "outputs": [
        {
          "output_type": "stream",
          "name": "stdout",
          "text": [
            "\n",
            "🎯 4단계: 데이터 분석해보기\n",
            "📋 최종 성적표:\n",
            "   이름  수학  영어  과학   총점         평균\n",
            "0  철수  85  90  88  263  87.666667\n",
            "1  영희  92  87  91  270  90.000000\n",
            "2  민수  78  82  85  245  81.666667\n",
            "3  수지  96  94  98  288  96.000000\n",
            "4  준호  88  86  89  263  87.666667\n",
            "\n",
            "🏆 1등: 수지님 (총점: 288점)\n",
            "\n",
            "📚 과목별 1등:\n",
            "  수학: 수지님 (96점)\n",
            "  영어: 수지님 (94점)\n",
            "  과학: 수지님 (98점)\n"
          ]
        }
      ]
    },
    {
      "cell_type": "markdown",
      "metadata": {
        "id": "pSqTNzx9gcc9"
      },
      "source": [
        "### 💰 가상의 주가 데이터 만들기\n",
        "\n",
        "**시나리오**: 어떤 회사의 주가가 매일 조금씩 오른다고 가정해봅시다."
      ]
    },
    {
      "cell_type": "code",
      "execution_count": 23,
      "metadata": {
        "colab": {
          "base_uri": "https://localhost:8080/"
        },
        "id": "auW1ltD9gcc-",
        "outputId": "fec2c102-9125-4194-c4c6-5b91bb508d8a"
      },
      "outputs": [
        {
          "output_type": "stream",
          "name": "stdout",
          "text": [
            "[20, 43, 32, 30, 42, 21, 48, 60, 46, 66, 32, 69, 38, 74, 41, 66, 77, 53, 83, 49, 65, 91, 68, 56, 96, 66, 77, 80, 80, 101, 94, 86, 91, 82, 97, 97, 94, 111, 101, 100, 127, 102, 130, 102, 125, 136, 117, 122, 119, 145, 139, 130, 124, 150, 141, 133, 125, 125, 144, 149, 156, 149, 142, 162, 138, 160, 158, 171, 159, 168, 188, 156, 189, 170, 162, 166, 185, 201, 204, 168, 202, 206, 182, 207, 202, 206, 208, 194, 192, 193, 203, 205, 223, 216, 203, 234, 234, 212, 237, 245]\n",
            "처음 5일의 주가: [20, 43, 32, 30, 42]\n",
            "\n",
            "💡 해석: 주가가 대체로 상승 추세입니다!\n"
          ]
        }
      ],
      "source": [
        "# 주가 데이터 생성 (100일 동안)\n",
        "# 설명: i가 0부터 99까지 증가하면서, 매일 약 2원씩 상승 + 랜덤한 변동\n",
        "주가 = [np.random.randint(10, 50) + i*2 for i in range(100)]\n",
        "print(주가)\n",
        "# 처음 5개만 확인\n",
        "print(\"처음 5일의 주가:\", 주가[:5])\n",
        "print(\"\\n💡 해석: 주가가 대체로 상승 추세입니다!\")"
      ]
    },
    {
      "cell_type": "code",
      "execution_count": 21,
      "metadata": {
        "colab": {
          "base_uri": "https://localhost:8080/",
          "height": 529
        },
        "id": "RLq5k4tngcc-",
        "outputId": "3155e1f6-d1d1-4ba3-fea3-a1f491b2a571"
      },
      "outputs": [
        {
          "output_type": "display_data",
          "data": {
            "text/plain": [
              "<Figure size 1000x500 with 1 Axes>"
            ],
            "image/png": "[encoded data removed]"
          },
          "metadata": {}
        },
        {
          "output_type": "stream",
          "name": "stdout",
          "text": [
            "\n",
            "📈 그래프를 보면 오른쪽으로 갈수록 (시간이 지날수록) 주가가 올라갑니다!\n"
          ]
        }
      ],
      "source": [
        "# 주가 그래프 그리기\n",
        "plt.figure(figsize=(10, 5))\n",
        "plt.plot(np.arange(1, 101), 주가, 'b-', linewidth=2)\n",
        "plt.xlabel('날짜 (일)', fontsize=12)\n",
        "plt.ylabel('주가 (원)', fontsize=12)\n",
        "plt.title('🚀 가상 회사의 100일 주가 변동', fontsize=14)\n",
        "plt.grid(True, alpha=0.3)\n",
        "plt.show()\n",
        "\n",
        "print(\"\\n📈 그래프를 보면 오른쪽으로 갈수록 (시간이 지날수록) 주가가 올라갑니다!\")"
      ]
    },
    {
      "cell_type": "code",
      "source": [
        "## 📚 헷갈리는 용어 한번에 정리!\n",
        "\n",
        "print(\"🎯 딥러닝 용어 사전 (암기 필수!)\")\n",
        "print(\"=\"*50)\n",
        "\n",
        "용어사전 = {\n",
        "    \"독립변수 (X)\": \"우리가 알고 있는 정보 (예: 날짜, 온도)\",\n",
        "    \"종속변수 (Y)\": \"예측하고 싶은 정보 (예: 주가, 매출)\",\n",
        "    \"에폭(epoch)\": \"전체 데이터를 한 번 학습하는 것\",\n",
        "    \"손실(loss)\": \"예측값과 실제값의 차이 (작을수록 좋음)\",\n",
        "    \"가중치\": \"데이터에 곱해지는 숫자 (학습으로 찾음)\",\n",
        "    \"뉴런\": \"계산을 하는 작은 단위\",\n",
        "    \"히든레이어\": \"입력과 출력 사이의 중간 처리층\",\n",
        "    \"MSE\": \"오차를 제곱해서 평균낸 값\"\n",
        "}\n",
        "\n",
        "for 용어, 설명 in 용어사전.items():\n",
        "    print(f\"• {용어}: {설명}\")\n",
        "\n",
        "print(\"=\"*50)\n",
        "print(\"💡 위 용어들을 기억하고 다음으로 넘어가세요!\")"
      ],
      "metadata": {
        "colab": {
          "base_uri": "https://localhost:8080/"
        },
        "id": "LIW8tcMrlCIF",
        "outputId": "b2167948-5f3a-451c-a829-a708e8b08b88"
      },
      "execution_count": 6,
      "outputs": [
        {
          "output_type": "stream",
          "name": "stdout",
          "text": [
            "🎯 딥러닝 용어 사전 (암기 필수!)\n",
            "==================================================\n",
            "• 독립변수 (X): 우리가 알고 있는 정보 (예: 날짜, 온도)\n",
            "• 종속변수 (Y): 예측하고 싶은 정보 (예: 주가, 매출)\n",
            "• 에폭(epoch): 전체 데이터를 한 번 학습하는 것\n",
            "• 손실(loss): 예측값과 실제값의 차이 (작을수록 좋음)\n",
            "• 가중치: 데이터에 곱해지는 숫자 (학습으로 찾음)\n",
            "• 뉴런: 계산을 하는 작은 단위\n",
            "• 히든레이어: 입력과 출력 사이의 중간 처리층\n",
            "• MSE: 오차를 제곱해서 평균낸 값\n",
            "==================================================\n",
            "💡 위 용어들을 기억하고 다음으로 넘어가세요!\n"
          ]
        }
      ]
    },
    {
      "cell_type": "markdown",
      "metadata": {
        "id": "Mhzj9qD5gcc-"
      },
      "source": [
        "## 🧠 Step 2: 딥러닝으로 패턴 찾기\n",
        "\n",
        "### 🎯 우리의 목표\n",
        "컴퓨터에게 \"**날짜를 보고 주가를 예측**\"하는 방법을 가르치기!\n",
        "\n",
        "### 📝 용어 정리 (초심자용)\n",
        "- **독립변수 (X)**: 우리가 아는 정보 (날짜)\n",
        "- **종속변수 (Y)**: 예측하고 싶은 정보 (주가)\n",
        "- 쉬운 예시: 공부시간(X) → 시험점수(Y)"
      ]
    },
    {
      "cell_type": "code",
      "execution_count": 25,
      "metadata": {
        "colab": {
          "base_uri": "https://localhost:8080/"
        },
        "id": "M361d_hLgcc-",
        "outputId": "38626b79-79f1-4056-d83f-b1234d601e01"
      },
      "outputs": [
        {
          "output_type": "stream",
          "name": "stdout",
          "text": [
            "📊 데이터 형태 확인\n",
            "독립변수(날짜): 100개의 데이터, 1개의 특징\n",
            "종속변수(주가): 100개의 데이터, 1개의 특징\n",
            "      0\n",
            "0     1\n",
            "1     2\n",
            "2     3\n",
            "3     4\n",
            "4     5\n",
            "..  ...\n",
            "95   96\n",
            "96   97\n",
            "97   98\n",
            "98   99\n",
            "99  100\n",
            "\n",
            "[100 rows x 1 columns] =       0\n",
            "0    20\n",
            "1    43\n",
            "2    32\n",
            "3    30\n",
            "4    42\n",
            "..  ...\n",
            "95  234\n",
            "96  234\n",
            "97  212\n",
            "98  237\n",
            "99  245\n",
            "\n",
            "[100 rows x 1 columns]\n",
            "\n",
            "💡 (100, 1)의 의미: 100개의 데이터, 각각 1개의 값\n"
          ]
        }
      ],
      "source": [
        "# 데이터를 딥러닝이 이해할 수 있는 형태로 준비\n",
        "독립 = pd.DataFrame(np.arange(1, 101))  # 1일부터 100일까지\n",
        "종속 = pd.DataFrame(주가)  # 각 날짜의 주가\n",
        "\n",
        "print(\"📊 데이터 형태 확인\")\n",
        "print(f\"독립변수(날짜): {독립.shape[0]}개의 데이터, {독립.shape[1]}개의 특징\")\n",
        "print(f\"종속변수(주가): {종속.shape[0]}개의 데이터, {종속.shape[1]}개의 특징\")\n",
        "print(f\"{독립} = {종속}\")\n",
        "print(\"\\n💡 (100, 1)의 의미: 100개의 데이터, 각각 1개의 값\")"
      ]
    },
    {
      "cell_type": "markdown",
      "metadata": {
        "id": "7sgpPfPXgcc-"
      },
      "source": [
        "### 🤖 TensorFlow 소개\n",
        "\n",
        "**TensorFlow란?**\n",
        "- Google이 만든 딥러닝 도구\n",
        "- 마치 '레고 블록'처럼 모델을 조립할 수 있음\n",
        "- 무료로 사용 가능!"
      ]
    },
    {
      "cell_type": "code",
      "execution_count": 8,
      "metadata": {
        "colab": {
          "base_uri": "https://localhost:8080/"
        },
        "id": "TfQu_gvPgcc-",
        "outputId": "afc79426-a79a-4020-9d5f-934f3f8f4da8"
      },
      "outputs": [
        {
          "output_type": "stream",
          "name": "stdout",
          "text": [
            "TensorFlow 버전: 2.19.0\n",
            "✅ TensorFlow 준비 완료!\n"
          ]
        }
      ],
      "source": [
        "import tensorflow as tf\n",
        "print(f\"TensorFlow 버전: {tf.__version__}\")\n",
        "print(\"✅ TensorFlow 준비 완료!\")"
      ]
    },
    {
      "cell_type": "markdown",
      "metadata": {
        "id": "syw9nB9pgcc_"
      },
      "source": [
        "### 🏗️ 딥러닝 모델 만들기\n",
        "\n",
        "**모델 = 수학 공식을 찾는 기계**\n",
        "\n",
        "우리가 찾고 싶은 것: `주가 = a × 날짜 + b`\n",
        "- a: 하루에 얼마나 오르는지 (기울기)\n",
        "- b: 시작 주가 (절편)"
      ]
    },
    {
      "cell_type": "code",
      "source": [
        "print(\"Y = AX + B 뜻 알아보기\")\n",
        "print(\"-\" * 30)\n",
        "\n",
        "print(\"🔤 각 문자의 의미:\")\n",
        "print(\"Y = 결과 (우리가 알고 싶은 값)\")\n",
        "print(\"X = 입력 (우리가 가진 정보)\")\n",
        "print(\"A = 기울기 (X가 1 증가할 때 Y가 얼마나 증가하는지)\")\n",
        "print(\"B = y절편 (X가 0일 때 Y값)\")\n",
        "\n",
        "print(\"\\n🍕 피자 예제로 바꿔보면:\")\n",
        "print(\"Y = 피자 가격\")\n",
        "print(\"X = 피자 크기(인치)\")\n",
        "print(\"A = 인치당 가격 (기울기)\")\n",
        "print(\"B = 기본 가격 (고정비용)\")"
      ],
      "metadata": {
        "colab": {
          "base_uri": "https://localhost:8080/"
        },
        "id": "_93FsFfEwRQj",
        "outputId": "a7ca74d9-5b79-4b27-b78d-3e21f0542db6"
      },
      "execution_count": 11,
      "outputs": [
        {
          "output_type": "stream",
          "name": "stdout",
          "text": [
            "Y = AX + B 뜻 알아보기\n",
            "------------------------------\n",
            "🔤 각 문자의 의미:\n",
            "Y = 결과 (우리가 알고 싶은 값)\n",
            "X = 입력 (우리가 가진 정보)\n",
            "A = 기울기 (X가 1 증가할 때 Y가 얼마나 증가하는지)\n",
            "B = y절편 (X가 0일 때 Y값)\n",
            "\n",
            "🍕 피자 예제로 바꿔보면:\n",
            "Y = 피자 가격\n",
            "X = 피자 크기(인치)\n",
            "A = 인치당 가격 (기울기)\n",
            "B = 기본 가격 (고정비용)\n"
          ]
        }
      ]
    },
    {
      "cell_type": "markdown",
      "source": [
        "# =================================================================\n",
        "# 📊 피자 데이터로 A, B 찾기\n",
        "# ================================================================="
      ],
      "metadata": {
        "id": "s1TkZHWmxsvq"
      }
    },
    {
      "cell_type": "code",
      "source": [
        "print(\"\\n📊 2단계: 실제 데이터에서 A, B 찾기\")\n",
        "print(\"-\" * 30)\n",
        "\n",
        "# 피자 데이터\n",
        "크기 = [8, 10, 12, 14, 16]  # X\n",
        "가격 = [8000, 12000, 16000, 20000, 24000]  # Y\n",
        "\n",
        "print(\"주어진 데이터:\")\n",
        "for i in range(len(크기)):\n",
        "    print(f\"{크기[i]}인치 → {가격[i]:,}원\")\n",
        "\n",
        "# A (기울기) 계산하기\n",
        "print(f\"\\n🔍 A (기울기) 찾기:\")\n",
        "print(\"기울기 = (Y의 변화량) / (X의 변화량)\")\n",
        "\n",
        "for i in range(1, len(크기)):\n",
        "    x변화 = 크기[i] - 크기[i-1]\n",
        "    y변화 = 가격[i] - 가격[i-1]\n",
        "    기울기 = y변화 / x변화\n",
        "    print(f\"{크기[i-1]}→{크기[i]}인치: {y변화:,}원 ÷ {x변화}인치 = {기울기:,}원/인치\")\n",
        "\n",
        "A = 2000  # 모든 구간에서 동일\n",
        "print(f\"\\n✅ A (기울기) = {A:,}원/인치\")\n",
        "print(\"→ 인치당 2,000원씩 증가!\")\n",
        "\n",
        "# B (y절편) 계산하기\n",
        "print(f\"\\n🔍 B (y절편) 찾기:\")\n",
        "print(\"Y = AX + B를 B에 대해 정리하면:\")\n",
        "print(\"B = Y - AX\")\n",
        "\n",
        "# 첫 번째 점 사용 (8인치, 8000원)\n",
        "B = 가격[0] - A * 크기[0]\n",
        "print(f\"B = {가격[0]:,} - {A:,} × {크기[0]}\")\n",
        "print(f\"B = {가격[0]:,} - {A * 크기[0]:,}\")\n",
        "print(f\"B = {B:,}\")\n",
        "\n",
        "print(f\"\\n✅ B (y절편) = {B:,}원\")\n"
      ],
      "metadata": {
        "colab": {
          "base_uri": "https://localhost:8080/"
        },
        "id": "H8MXLfdPxli8",
        "outputId": "62012f97-372d-4f3f-9336-370ec0dbf0d4"
      },
      "execution_count": 13,
      "outputs": [
        {
          "output_type": "stream",
          "name": "stdout",
          "text": [
            "\n",
            "📊 2단계: 실제 데이터에서 A, B 찾기\n",
            "------------------------------\n",
            "주어진 데이터:\n",
            "8인치 → 8,000원\n",
            "10인치 → 12,000원\n",
            "12인치 → 16,000원\n",
            "14인치 → 20,000원\n",
            "16인치 → 24,000원\n",
            "\n",
            "🔍 A (기울기) 찾기:\n",
            "기울기 = (Y의 변화량) / (X의 변화량)\n",
            "8→10인치: 4,000원 ÷ 2인치 = 2,000.0원/인치\n",
            "10→12인치: 4,000원 ÷ 2인치 = 2,000.0원/인치\n",
            "12→14인치: 4,000원 ÷ 2인치 = 2,000.0원/인치\n",
            "14→16인치: 4,000원 ÷ 2인치 = 2,000.0원/인치\n",
            "\n",
            "✅ A (기울기) = 2,000원/인치\n",
            "→ 인치당 2,000원씩 증가!\n",
            "\n",
            "🔍 B (y절편) 찾기:\n",
            "Y = AX + B를 B에 대해 정리하면:\n",
            "B = Y - AX\n",
            "B = 8,000 - 2,000 × 8\n",
            "B = 8,000 - 16,000\n",
            "B = -8,000\n",
            "\n",
            "✅ B (y절편) = -8,000원\n"
          ]
        }
      ]
    },
    {
      "cell_type": "markdown",
      "source": [
        "# =================================================================\n",
        "# 📈 공식 완성하고 예측하기\n",
        "# =================================================================\n"
      ],
      "metadata": {
        "id": "P7KofHQpx3Ns"
      }
    },
    {
      "cell_type": "code",
      "source": [
        "print(f\"\\n📈 3단계: 완성된 공식\")\n",
        "print(\"-\" * 30)\n",
        "\n",
        "print(f\"🎯 피자 가격 공식:\")\n",
        "print(f\"가격 = {A:,} × 크기 + ({B:,})\")\n",
        "print(f\"Y = {A}X + {B}\")\n",
        "\n",
        "print(f\"\\n🔮 예측해보기:\")\n",
        "\n",
        "# 18인치 예측\n",
        "X_예측 = 18\n",
        "Y_예측 = A * X_예측 + B\n",
        "print(f\"18인치 피자 가격 = {A:,} × {X_예측} + ({B:,})\")\n",
        "print(f\"                = {A * X_예측:,} + ({B:,})\")\n",
        "print(f\"                = {Y_예측:,}원\")\n",
        "\n",
        "# 다른 크기들도 예측\n",
        "예측_크기들 = [15, 20, 25]\n",
        "print(f\"\\n다른 크기들:\")\n",
        "for 크기_예측 in 예측_크기들:\n",
        "    가격_예측 = A * 크기_예측 + B\n",
        "    print(f\"{크기_예측}인치 → {가격_예측:,}원\")"
      ],
      "metadata": {
        "colab": {
          "base_uri": "https://localhost:8080/"
        },
        "id": "FXnWKW99x27l",
        "outputId": "8c8bcb6b-4005-4123-95d5-153b96df4e80"
      },
      "execution_count": 14,
      "outputs": [
        {
          "output_type": "stream",
          "name": "stdout",
          "text": [
            "\n",
            "📈 3단계: 완성된 공식\n",
            "------------------------------\n",
            "🎯 피자 가격 공식:\n",
            "가격 = 2,000 × 크기 + (-8,000)\n",
            "Y = 2000X + -8000\n",
            "\n",
            "🔮 예측해보기:\n",
            "18인치 피자 가격 = 2,000 × 18 + (-8,000)\n",
            "                = 36,000 + (-8,000)\n",
            "                = 28,000원\n",
            "\n",
            "다른 크기들:\n",
            "15인치 → 22,000원\n",
            "20인치 → 32,000원\n",
            "25인치 → 42,000원\n"
          ]
        }
      ]
    },
    {
      "cell_type": "markdown",
      "source": [
        "# =================================================================\n",
        "# 📊 그래프로 이해하기\n",
        "# ================================================================="
      ],
      "metadata": {
        "id": "1voGHSYqyMwz"
      }
    },
    {
      "cell_type": "code",
      "source": [
        "print(f\"\\n📊 4단계: 그래프로 보기\")\n",
        "\n",
        "plt.figure(figsize=(12, 8))\n",
        "\n",
        "# 원본 데이터 점들\n",
        "plt.subplot(2, 2, 1)\n",
        "plt.scatter(크기, 가격, color='blue', s=100, alpha=0.7, label='실제 데이터')\n",
        "plt.title('피자 데이터 (점)')\n",
        "plt.xlabel('크기(인치)')\n",
        "plt.ylabel('가격(원)')\n",
        "plt.grid(True, alpha=0.3)\n",
        "plt.legend()\n",
        "\n",
        "# A의 의미 (기울기)\n",
        "plt.subplot(2, 2, 2)\n",
        "x_line = np.array([8, 16])\n",
        "y_line = A * x_line + B\n",
        "plt.plot(x_line, y_line, 'r-', linewidth=3, label=f'기울기 A = {A}')\n",
        "plt.scatter(크기, 가격, color='blue', s=100, alpha=0.7)\n",
        "\n",
        "# 기울기 표시\n",
        "plt.annotate('', xy=(12, A*12+B), xytext=(10, A*10+B),\n",
        "            arrowprops=dict(arrowstyle='<->', color='red', lw=2))\n",
        "plt.text(11, A*11+B+1000, f'+{A}원\\n(+1인치)', ha='center',\n",
        "         bbox=dict(boxstyle='round', facecolor='yellow', alpha=0.7))\n",
        "\n",
        "plt.title(f'A(기울기)의 의미: 인치당 {A:,}원')\n",
        "plt.xlabel('크기(인치)')\n",
        "plt.ylabel('가격(원)')\n",
        "plt.grid(True, alpha=0.3)\n",
        "plt.legend()\n",
        "\n",
        "# B의 의미 (y절편)\n",
        "plt.subplot(2, 2, 3)\n",
        "x_extended = np.array([0, 16])\n",
        "y_extended = A * x_extended + B\n",
        "plt.plot(x_extended, y_extended, 'g-', linewidth=3, label=f'y절편 B = {B}')\n",
        "plt.scatter(크기, 가격, color='blue', s=100, alpha=0.7)\n",
        "plt.scatter([0], [B], color='red', s=150, marker='*', label=f'(0, {B})')\n",
        "\n",
        "plt.title(f'B(y절편)의 의미: X=0일 때 Y={B}')\n",
        "plt.xlabel('크기(인치)')\n",
        "plt.ylabel('가격(원)')\n",
        "plt.xlim(-1, 17)\n",
        "plt.grid(True, alpha=0.3)\n",
        "plt.legend()\n",
        "\n",
        "# 완성된 공식으로 예측\n",
        "plt.subplot(2, 2, 4)\n",
        "x_full = np.linspace(8, 25, 100)\n",
        "y_full = A * x_full + B\n",
        "plt.plot(x_full, y_full, 'purple', linewidth=3, label=f'Y = {A}X + {B}')\n",
        "plt.scatter(크기, 가격, color='blue', s=100, alpha=0.7, label='원본 데이터')\n",
        "plt.scatter([18], [Y_예측], color='orange', s=200, marker='*',\n",
        "           label=f'18인치 예측: {Y_예측:,}원')\n",
        "\n",
        "plt.title('완성된 예측 공식')\n",
        "plt.xlabel('크기(인치)')\n",
        "plt.ylabel('가격(원)')\n",
        "plt.grid(True, alpha=0.3)\n",
        "plt.legend()\n",
        "\n",
        "plt.tight_layout()\n",
        "plt.show()"
      ],
      "metadata": {
        "colab": {
          "base_uri": "https://localhost:8080/",
          "height": 917
        },
        "id": "hHo-ABoQyLkP",
        "outputId": "0b778426-2eec-43a6-8c31-88f5de2998f5"
      },
      "execution_count": 15,
      "outputs": [
        {
          "output_type": "stream",
          "name": "stdout",
          "text": [
            "\n",
            "📊 4단계: 그래프로 보기\n"
          ]
        },
        {
          "output_type": "stream",
          "name": "stderr",
          "text": [
            "/tmp/ipython-input-483399371.py:63: UserWarning: Glyph 8722 (\\N{MINUS SIGN}) missing from font(s) NanumBarunGothic.\n",
            "  plt.tight_layout()\n",
            "/usr/local/lib/python3.12/dist-packages/IPython/core/pylabtools.py:151: UserWarning: Glyph 8722 (\\N{MINUS SIGN}) missing from font(s) NanumBarunGothic.\n",
            "  fig.canvas.print_figure(bytes_io, **kw)\n"
          ]
        },
        {
          "output_type": "display_data",
          "data": {
            "text/plain": [
              "<Figure size 1200x800 with 4 Axes>"
            ],
            "image/png": "[encoded data removed]"
          },
          "metadata": {}
        }
      ]
    },
    {
      "cell_type": "markdown",
      "source": [
        "# =================================================================\n",
        "# 🎓다른 예제들로 더 이해하기\n",
        "# ================================================================="
      ],
      "metadata": {
        "id": "e9US7BSJycKi"
      }
    },
    {
      "cell_type": "code",
      "source": [
        "print(f\"\\n🎓 5단계: 다른 예제들\")\n",
        "print(\"-\" * 30)\n",
        "\n",
        "print(\"💡 예제 1: 택시 요금\")\n",
        "print(\"Y = 택시 요금, X = 거리(km)\")\n",
        "print(\"Y = 1000X + 3000\")\n",
        "print(\"A = 1000 (km당 1000원)\")\n",
        "print(\"B = 3000 (기본료 3000원)\")\n",
        "print(\"5km 택시 요금 = 1000×5 + 3000 = 8000원\")\n",
        "\n",
        "print(f\"\\n💡 예제 2: 핸드폰 요금\")\n",
        "print(\"Y = 월 요금, X = 데이터 사용량(GB)\")\n",
        "print(\"Y = 2000X + 20000\")\n",
        "print(\"A = 2000 (GB당 2000원)\")\n",
        "print(\"B = 20000 (기본료 20000원)\")\n",
        "print(\"10GB 사용시 = 2000×10 + 20000 = 40000원\")\n",
        "\n",
        "print(f\"\\n💡 예제 3: 몸무게와 키\")\n",
        "print(\"Y = 몸무게(kg), X = 키(cm)\")\n",
        "print(\"Y = 0.9X - 100\")\n",
        "print(\"A = 0.9 (cm당 0.9kg 증가)\")\n",
        "print(\"B = -100 (키 0cm일 때 -100kg, 현실적이지 않지만 수학적 공식)\")\n",
        "print(\"170cm인 사람 몸무게 예상 = 0.9×170 - 100 = 53kg\")"
      ],
      "metadata": {
        "colab": {
          "base_uri": "https://localhost:8080/"
        },
        "id": "PMBXlYpiyZ0v",
        "outputId": "8b103a16-f6a4-4698-c3d8-440210e08a22"
      },
      "execution_count": 16,
      "outputs": [
        {
          "output_type": "stream",
          "name": "stdout",
          "text": [
            "\n",
            "🎓 5단계: 다른 예제들\n",
            "------------------------------\n",
            "💡 예제 1: 택시 요금\n",
            "Y = 택시 요금, X = 거리(km)\n",
            "Y = 1000X + 3000\n",
            "A = 1000 (km당 1000원)\n",
            "B = 3000 (기본료 3000원)\n",
            "5km 택시 요금 = 1000×5 + 3000 = 8000원\n",
            "\n",
            "💡 예제 2: 핸드폰 요금\n",
            "Y = 월 요금, X = 데이터 사용량(GB)\n",
            "Y = 2000X + 20000\n",
            "A = 2000 (GB당 2000원)\n",
            "B = 20000 (기본료 20000원)\n",
            "10GB 사용시 = 2000×10 + 20000 = 40000원\n",
            "\n",
            "💡 예제 3: 몸무게와 키\n",
            "Y = 몸무게(kg), X = 키(cm)\n",
            "Y = 0.9X - 100\n",
            "A = 0.9 (cm당 0.9kg 증가)\n",
            "B = -100 (키 0cm일 때 -100kg, 현실적이지 않지만 수학적 공식)\n",
            "170cm인 사람 몸무게 예상 = 0.9×170 - 100 = 53kg\n"
          ]
        }
      ]
    },
    {
      "cell_type": "code",
      "source": [
        "# =================================================================\n",
        "# 🏆 정리\n",
        "# =================================================================\n",
        "\n",
        "print(f\"\\n🏆 Y = AX + B 완전 정리\")\n",
        "print(\"=\"*50)\n",
        "\n",
        "print(\"🎯 핵심 포인트:\")\n",
        "print(\"1. Y = 우리가 예측하고 싶은 값\")\n",
        "print(\"2. X = 우리가 가진 정보\")\n",
        "print(\"3. A = X가 1 증가할 때 Y의 증가량 (기울기)\")\n",
        "print(\"4. B = X가 0일 때 Y의 값 (y절편)\")\n",
        "\n",
        "print(f\"\\n🍕 피자 예제 요약:\")\n",
        "print(f\"가격 = 2000 × 크기 + (-8000)\")\n",
        "print(f\"→ 인치당 2000원씩 증가\")\n",
        "print(f\"→ 18인치 = 2000×18-8000 = 28000원\")\n",
        "\n",
        "print(f\"\\n💡 머신러닝에서:\")\n",
        "print(\"컴퓨터가 데이터를 보고 A와 B를 자동으로 찾아내는 것!\")\n",
        "print(\"우리는 그냥 결과를 확인하면 됨!\")"
      ],
      "metadata": {
        "colab": {
          "base_uri": "https://localhost:8080/"
        },
        "id": "c9dgXtb5yiYx",
        "outputId": "aa9c1fd7-94ea-431e-a432-39ff16f6f239"
      },
      "execution_count": 17,
      "outputs": [
        {
          "output_type": "stream",
          "name": "stdout",
          "text": [
            "\n",
            "🏆 Y = AX + B 완전 정리\n",
            "==================================================\n",
            "🎯 핵심 포인트:\n",
            "1. Y = 우리가 예측하고 싶은 값\n",
            "2. X = 우리가 가진 정보\n",
            "3. A = X가 1 증가할 때 Y의 증가량 (기울기)\n",
            "4. B = X가 0일 때 Y의 값 (y절편)\n",
            "\n",
            "🍕 피자 예제 요약:\n",
            "가격 = 2000 × 크기 + (-8000)\n",
            "→ 인치당 2000원씩 증가\n",
            "→ 18인치 = 2000×18-8000 = 28000원\n",
            "\n",
            "💡 머신러닝에서:\n",
            "컴퓨터가 데이터를 보고 A와 B를 자동으로 찾아내는 것!\n",
            "우리는 그냥 결과를 확인하면 됨!\n",
            "\n",
            "🎉 이제 Y = AX + B 완전 정복!\n"
          ]
        }
      ]
    },
    {
      "cell_type": "code",
      "execution_count": 9,
      "metadata": {
        "colab": {
          "base_uri": "https://localhost:8080/"
        },
        "id": "kHgdpgzjgcc_",
        "outputId": "c5d34454-1711-4deb-a2fd-61f81626e2bb"
      },
      "outputs": [
        {
          "output_type": "stream",
          "name": "stdout",
          "text": [
            "🔨 모델을 만들어봅시다!\n",
            "\n",
            "1️⃣ 입력층: 날짜 1개를 받습니다\n",
            "2️⃣ 출력층: 주가 1개를 예측합니다\n",
            "3️⃣ 모델 조립 완료!\n",
            "4️⃣ 학습 방법 설정 완료!\n",
            "\n",
            "💡 MSE = 예측값과 실제값의 차이를 제곱한 평균\n",
            "   (차이가 작을수록 좋은 모델!)\n"
          ]
        }
      ],
      "source": [
        "# 🏗️ 모델 설계 (초보자를 위한 상세 설명)\n",
        "print(\"🔨 모델을 만들어봅시다!\\n\")\n",
        "\n",
        "# 1단계: 입력층 만들기\n",
        "X = tf.keras.layers.Input(shape=[1])\n",
        "print(\"1️⃣ 입력층: 날짜 1개를 받습니다\")\n",
        "\n",
        "# 2단계: 출력층 만들기\n",
        "Y = tf.keras.layers.Dense(1)(X)\n",
        "print(\"2️⃣ 출력층: 주가 1개를 예측합니다\")\n",
        "\n",
        "# 3단계: 모델 조립\n",
        "model = tf.keras.models.Model(X, Y)\n",
        "print(\"3️⃣ 모델 조립 완료!\")\n",
        "\n",
        "# 4단계: 학습 방법 설정\n",
        "model.compile(loss='mse')\n",
        "print(\"4️⃣ 학습 방법 설정 완료!\")\n",
        "print(\"\\n💡 MSE = 예측값과 실제값의 차이를 제곱한 평균\")\n",
        "print(\"   (차이가 작을수록 좋은 모델!)\")"
      ]
    },
    {
      "cell_type": "markdown",
      "metadata": {
        "id": "KRHTpdu_gcc_"
      },
      "source": [
        "### 📚 모델 학습시키기\n",
        "\n",
        "**학습 = 반복 연습**\n",
        "- 사람이 구구단을 외우듯이\n",
        "- 컴퓨터도 여러 번 반복해서 패턴을 학습합니다!"
      ]
    },
    {
      "cell_type": "code",
      "execution_count": 10,
      "metadata": {
        "colab": {
          "base_uri": "https://localhost:8080/"
        },
        "id": "4-745dengcc_",
        "outputId": "a0edfa14-4100-447b-9827-b5aeb0b01745"
      },
      "outputs": [
        {
          "output_type": "stream",
          "name": "stdout",
          "text": [
            "🏃 열심히 학습 중... (1,000번 반복)\n",
            "✅ 첫 번째 학습 완료!\n",
            "\n",
            "📊 마지막 10번의 학습 과정:\n",
            "Epoch 1/10\n",
            "\u001b[1m4/4\u001b[0m \u001b[32m━━━━━━━━━━━━━━━━━━━━\u001b[0m\u001b[37m\u001b[0m \u001b[1m0s\u001b[0m 7ms/step - loss: 241.2854 \n",
            "Epoch 2/10\n",
            "\u001b[1m4/4\u001b[0m \u001b[32m━━━━━━━━━━━━━━━━━━━━\u001b[0m\u001b[37m\u001b[0m \u001b[1m0s\u001b[0m 7ms/step - loss: 237.9687 \n",
            "Epoch 3/10\n",
            "\u001b[1m4/4\u001b[0m \u001b[32m━━━━━━━━━━━━━━━━━━━━\u001b[0m\u001b[37m\u001b[0m \u001b[1m0s\u001b[0m 7ms/step - loss: 248.8714 \n",
            "Epoch 4/10\n",
            "\u001b[1m4/4\u001b[0m \u001b[32m━━━━━━━━━━━━━━━━━━━━\u001b[0m\u001b[37m\u001b[0m \u001b[1m0s\u001b[0m 7ms/step - loss: 234.3568 \n",
            "Epoch 5/10\n",
            "\u001b[1m4/4\u001b[0m \u001b[32m━━━━━━━━━━━━━━━━━━━━\u001b[0m\u001b[37m\u001b[0m \u001b[1m0s\u001b[0m 7ms/step - loss: 246.8557 \n",
            "Epoch 6/10\n",
            "\u001b[1m4/4\u001b[0m \u001b[32m━━━━━━━━━━━━━━━━━━━━\u001b[0m\u001b[37m\u001b[0m \u001b[1m0s\u001b[0m 7ms/step - loss: 254.1693 \n",
            "Epoch 7/10\n",
            "\u001b[1m4/4\u001b[0m \u001b[32m━━━━━━━━━━━━━━━━━━━━\u001b[0m\u001b[37m\u001b[0m \u001b[1m0s\u001b[0m 7ms/step - loss: 226.7008 \n",
            "Epoch 8/10\n",
            "\u001b[1m4/4\u001b[0m \u001b[32m━━━━━━━━━━━━━━━━━━━━\u001b[0m\u001b[37m\u001b[0m \u001b[1m0s\u001b[0m 8ms/step - loss: 235.2547 \n",
            "Epoch 9/10\n",
            "\u001b[1m4/4\u001b[0m \u001b[32m━━━━━━━━━━━━━━━━━━━━\u001b[0m\u001b[37m\u001b[0m \u001b[1m0s\u001b[0m 7ms/step - loss: 229.5563 \n",
            "Epoch 10/10\n",
            "\u001b[1m4/4\u001b[0m \u001b[32m━━━━━━━━━━━━━━━━━━━━\u001b[0m\u001b[37m\u001b[0m \u001b[1m0s\u001b[0m 7ms/step - loss: 236.4788 \n",
            "\n",
            "💡 loss가 작아질수록 예측이 정확해집니다!\n"
          ]
        }
      ],
      "source": [
        "# 먼저 조용히 10000번 학습 (verbose=0은 출력 안 함)\n",
        "print(\"🏃 열심히 학습 중... (1,000번 반복)\")\n",
        "model.fit(독립, 종속, epochs=1000, verbose=0)\n",
        "print(\"✅ 첫 번째 학습 완료!\\n\")\n",
        "\n",
        "# 마지막 10번만 보여주기\n",
        "print(\"📊 마지막 10번의 학습 과정:\")\n",
        "model.fit(독립, 종속, epochs=10)\n",
        "print(\"\\n💡 loss가 작아질수록 예측이 정확해집니다!\")"
      ]
    },
    {
      "cell_type": "markdown",
      "metadata": {
        "id": "DB8cfh6ogcc_"
      },
      "source": [
        "### 🔮 예측해보기\n",
        "\n",
        "학습이 끝났으니 이제 예측을 해봅시다!"
      ]
    },
    {
      "cell_type": "code",
      "execution_count": 11,
      "metadata": {
        "colab": {
          "base_uri": "https://localhost:8080/"
        },
        "id": "5wpoH26Egcc_",
        "outputId": "56d95b2e-6723-4d83-de47-60c763b297ba"
      },
      "outputs": [
        {
          "output_type": "stream",
          "name": "stdout",
          "text": [
            "\u001b[1m1/1\u001b[0m \u001b[32m━━━━━━━━━━━━━━━━━━━━\u001b[0m\u001b[37m\u001b[0m \u001b[1m0s\u001b[0m 131ms/step\n",
            "🔮 50일째 주가 예측 결과\n",
            "예측값: 120.83원\n",
            "실제값: 130원\n",
            "오차: 9.17원\n",
            "\n",
            "🔮 40일째 주가 예측 결과\n",
            "\u001b[1m1/1\u001b[0m \u001b[32m━━━━━━━━━━━━━━━━━━━━\u001b[0m\u001b[37m\u001b[0m \u001b[1m0s\u001b[0m 27ms/step\n",
            "예측값: 97.40원\n",
            "실제값: 113원\n",
            "오차: 15.60원\n"
          ]
        }
      ],
      "source": [
        "# 50일째 주가 예측\n",
        "예측값_50일 = model.predict(np.array([[50]]))[0][0]\n",
        "실제값_50일 = 주가[49]  # 리스트는 0부터 시작하므로 49번 인덱스\n",
        "\n",
        "print(\"🔮 50일째 주가 예측 결과\")\n",
        "print(f\"예측값: {예측값_50일:.2f}원\")\n",
        "print(f\"실제값: {실제값_50일}원\")\n",
        "print(f\"오차: {abs(예측값_50일 - 실제값_50일):.2f}원\")\n",
        "\n",
        "# 40일째도 예측해보기\n",
        "print(\"\\n🔮 40일째 주가 예측 결과\")\n",
        "예측값_40일 = model.predict(np.array([[40]]))[0][0]\n",
        "실제값_40일 = 주가[39]\n",
        "print(f\"예측값: {예측값_40일:.2f}원\")\n",
        "print(f\"실제값: {실제값_40일}원\")\n",
        "print(f\"오차: {abs(예측값_40일 - 실제값_40일):.2f}원\")"
      ]
    },
    {
      "cell_type": "markdown",
      "metadata": {
        "id": "kbL0yDw5gcc_"
      },
      "source": [
        "### 🔍 모델이 찾은 공식 확인하기"
      ]
    },
    {
      "cell_type": "code",
      "execution_count": 12,
      "metadata": {
        "colab": {
          "base_uri": "https://localhost:8080/"
        },
        "id": "7CvfyLhUgcdA",
        "outputId": "888770bf-aa1c-4abb-db17-65f6895695b6"
      },
      "outputs": [
        {
          "output_type": "stream",
          "name": "stdout",
          "text": [
            "📐 모델이 찾은 공식:\n",
            "주가 = 2.343 × 날짜 + 3.692\n",
            "\n",
            "💡 해석:\n",
            "- 하루에 약 2.3원씩 상승\n",
            "- 첫날 주가는 약 3.7원\n",
            "\n",
            "🧮 50일째를 공식으로 계산:\n",
            "2.343 × 50 + 3.692 = 120.83원\n"
          ]
        }
      ],
      "source": [
        "# 모델이 학습한 가중치(weights) 확인\n",
        "weights = model.get_weights()\n",
        "기울기 = weights[0][0][0]\n",
        "절편 = weights[1][0]\n",
        "\n",
        "print(\"📐 모델이 찾은 공식:\")\n",
        "print(f\"주가 = {기울기:.3f} × 날짜 + {절편:.3f}\")\n",
        "print(\"\\n💡 해석:\")\n",
        "print(f\"- 하루에 약 {기울기:.1f}원씩 상승\")\n",
        "print(f\"- 첫날 주가는 약 {절편:.1f}원\")\n",
        "\n",
        "# 공식으로 직접 계산해보기\n",
        "print(\"\\n🧮 50일째를 공식으로 계산:\")\n",
        "계산값 = 기울기 * 50 + 절편\n",
        "print(f\"{기울기:.3f} × 50 + {절편:.3f} = {계산값:.2f}원\")"
      ]
    },
    {
      "cell_type": "markdown",
      "metadata": {
        "id": "i75JzJjUgcdA"
      },
      "source": [
        "### 📈 예측 결과 시각화"
      ]
    },
    {
      "cell_type": "code",
      "execution_count": 13,
      "metadata": {
        "colab": {
          "base_uri": "https://localhost:8080/",
          "height": 1000
        },
        "id": "1C8VZXXcgcdA",
        "outputId": "1e1848f7-bbdb-43c4-a54c-1dde0757f98d"
      },
      "outputs": [
        {
          "output_type": "stream",
          "name": "stderr",
          "text": [
            "WARNING:matplotlib.font_manager:findfont: Font family 'NanumBarunGothic' not found.\n",
            "WARNING:matplotlib.font_manager:findfont: Font family 'NanumBarunGothic' not found.\n",
            "WARNING:matplotlib.font_manager:findfont: Font family 'NanumBarunGothic' not found.\n",
            "WARNING:matplotlib.font_manager:findfont: Font family 'NanumBarunGothic' not found.\n",
            "WARNING:matplotlib.font_manager:findfont: Font family 'NanumBarunGothic' not found.\n",
            "WARNING:matplotlib.font_manager:findfont: Font family 'NanumBarunGothic' not found.\n",
            "WARNING:matplotlib.font_manager:findfont: Font family 'NanumBarunGothic' not found.\n",
            "WARNING:matplotlib.font_manager:findfont: Font family 'NanumBarunGothic' not found.\n",
            "WARNING:matplotlib.font_manager:findfont: Font family 'NanumBarunGothic' not found.\n",
            "/usr/local/lib/python3.12/dist-packages/IPython/core/pylabtools.py:151: UserWarning: Glyph 51452 (\\N{HANGUL SYLLABLE JU}) missing from font(s) DejaVu Sans.\n",
            "  fig.canvas.print_figure(bytes_io, **kw)\n",
            "/usr/local/lib/python3.12/dist-packages/IPython/core/pylabtools.py:151: UserWarning: Glyph 44032 (\\N{HANGUL SYLLABLE GA}) missing from font(s) DejaVu Sans.\n",
            "  fig.canvas.print_figure(bytes_io, **kw)\n",
            "/usr/local/lib/python3.12/dist-packages/IPython/core/pylabtools.py:151: UserWarning: Glyph 50896 (\\N{HANGUL SYLLABLE WEON}) missing from font(s) DejaVu Sans.\n",
            "  fig.canvas.print_figure(bytes_io, **kw)\n",
            "WARNING:matplotlib.font_manager:findfont: Font family 'NanumBarunGothic' not found.\n",
            "WARNING:matplotlib.font_manager:findfont: Font family 'NanumBarunGothic' not found.\n",
            "/usr/local/lib/python3.12/dist-packages/IPython/core/pylabtools.py:151: UserWarning: Glyph 127919 (\\N{DIRECT HIT}) missing from font(s) DejaVu Sans.\n",
            "  fig.canvas.print_figure(bytes_io, **kw)\n",
            "/usr/local/lib/python3.12/dist-packages/IPython/core/pylabtools.py:151: UserWarning: Glyph 49892 (\\N{HANGUL SYLLABLE SIL}) missing from font(s) DejaVu Sans.\n",
            "  fig.canvas.print_figure(bytes_io, **kw)\n",
            "/usr/local/lib/python3.12/dist-packages/IPython/core/pylabtools.py:151: UserWarning: Glyph 51228 (\\N{HANGUL SYLLABLE JE}) missing from font(s) DejaVu Sans.\n",
            "  fig.canvas.print_figure(bytes_io, **kw)\n",
            "/usr/local/lib/python3.12/dist-packages/IPython/core/pylabtools.py:151: UserWarning: Glyph 46373 (\\N{HANGUL SYLLABLE DIB}) missing from font(s) DejaVu Sans.\n",
            "  fig.canvas.print_figure(bytes_io, **kw)\n",
            "/usr/local/lib/python3.12/dist-packages/IPython/core/pylabtools.py:151: UserWarning: Glyph 47084 (\\N{HANGUL SYLLABLE REO}) missing from font(s) DejaVu Sans.\n",
            "  fig.canvas.print_figure(bytes_io, **kw)\n",
            "/usr/local/lib/python3.12/dist-packages/IPython/core/pylabtools.py:151: UserWarning: Glyph 45789 (\\N{HANGUL SYLLABLE NING}) missing from font(s) DejaVu Sans.\n",
            "  fig.canvas.print_figure(bytes_io, **kw)\n",
            "/usr/local/lib/python3.12/dist-packages/IPython/core/pylabtools.py:151: UserWarning: Glyph 50696 (\\N{HANGUL SYLLABLE YE}) missing from font(s) DejaVu Sans.\n",
            "  fig.canvas.print_figure(bytes_io, **kw)\n",
            "/usr/local/lib/python3.12/dist-packages/IPython/core/pylabtools.py:151: UserWarning: Glyph 52769 (\\N{HANGUL SYLLABLE CEUG}) missing from font(s) DejaVu Sans.\n",
            "  fig.canvas.print_figure(bytes_io, **kw)\n",
            "WARNING:matplotlib.font_manager:findfont: Font family 'NanumBarunGothic' not found.\n",
            "WARNING:matplotlib.font_manager:findfont: Font family 'NanumBarunGothic' not found.\n",
            "WARNING:matplotlib.font_manager:findfont: Font family 'NanumBarunGothic' not found.\n",
            "WARNING:matplotlib.font_manager:findfont: Font family 'NanumBarunGothic' not found.\n",
            "WARNING:matplotlib.font_manager:findfont: Font family 'NanumBarunGothic' not found.\n",
            "/usr/local/lib/python3.12/dist-packages/IPython/core/pylabtools.py:151: UserWarning: Glyph 45216 (\\N{HANGUL SYLLABLE NAL}) missing from font(s) DejaVu Sans.\n",
            "  fig.canvas.print_figure(bytes_io, **kw)\n",
            "/usr/local/lib/python3.12/dist-packages/IPython/core/pylabtools.py:151: UserWarning: Glyph 51676 (\\N{HANGUL SYLLABLE JJA}) missing from font(s) DejaVu Sans.\n",
            "  fig.canvas.print_figure(bytes_io, **kw)\n",
            "/usr/local/lib/python3.12/dist-packages/IPython/core/pylabtools.py:151: UserWarning: Glyph 51068 (\\N{HANGUL SYLLABLE IL}) missing from font(s) DejaVu Sans.\n",
            "  fig.canvas.print_figure(bytes_io, **kw)\n",
            "WARNING:matplotlib.font_manager:findfont: Font family 'NanumBarunGothic' not found.\n",
            "WARNING:matplotlib.font_manager:findfont: Font family 'NanumBarunGothic' not found.\n",
            "WARNING:matplotlib.font_manager:findfont: Font family 'NanumBarunGothic' not found.\n",
            "WARNING:matplotlib.font_manager:findfont: Font family 'NanumBarunGothic' not found.\n",
            "/usr/local/lib/python3.12/dist-packages/IPython/core/pylabtools.py:151: UserWarning: Glyph 49440 (\\N{HANGUL SYLLABLE SEON}) missing from font(s) DejaVu Sans.\n",
            "  fig.canvas.print_figure(bytes_io, **kw)\n",
            "WARNING:matplotlib.font_manager:findfont: Font family 'NanumBarunGothic' not found.\n",
            "WARNING:matplotlib.font_manager:findfont: Font family 'NanumBarunGothic' not found.\n",
            "WARNING:matplotlib.font_manager:findfont: Font family 'NanumBarunGothic' not found.\n",
            "WARNING:matplotlib.font_manager:findfont: Font family 'NanumBarunGothic' not found.\n",
            "WARNING:matplotlib.font_manager:findfont: Font family 'NanumBarunGothic' not found.\n",
            "WARNING:matplotlib.font_manager:findfont: Font family 'NanumBarunGothic' not found.\n",
            "WARNING:matplotlib.font_manager:findfont: Font family 'NanumBarunGothic' not found.\n",
            "WARNING:matplotlib.font_manager:findfont: Font family 'NanumBarunGothic' not found.\n",
            "WARNING:matplotlib.font_manager:findfont: Font family 'NanumBarunGothic' not found.\n",
            "WARNING:matplotlib.font_manager:findfont: Font family 'NanumBarunGothic' not found.\n",
            "WARNING:matplotlib.font_manager:findfont: Font family 'NanumBarunGothic' not found.\n",
            "WARNING:matplotlib.font_manager:findfont: Font family 'NanumBarunGothic' not found.\n",
            "WARNING:matplotlib.font_manager:findfont: Font family 'NanumBarunGothic' not found.\n",
            "WARNING:matplotlib.font_manager:findfont: Font family 'NanumBarunGothic' not found.\n",
            "WARNING:matplotlib.font_manager:findfont: Font family 'NanumBarunGothic' not found.\n",
            "WARNING:matplotlib.font_manager:findfont: Font family 'NanumBarunGothic' not found.\n",
            "WARNING:matplotlib.font_manager:findfont: Font family 'NanumBarunGothic' not found.\n",
            "WARNING:matplotlib.font_manager:findfont: Font family 'NanumBarunGothic' not found.\n",
            "WARNING:matplotlib.font_manager:findfont: Font family 'NanumBarunGothic' not found.\n",
            "WARNING:matplotlib.font_manager:findfont: Font family 'NanumBarunGothic' not found.\n",
            "WARNING:matplotlib.font_manager:findfont: Font family 'NanumBarunGothic' not found.\n",
            "WARNING:matplotlib.font_manager:findfont: Font family 'NanumBarunGothic' not found.\n",
            "WARNING:matplotlib.font_manager:findfont: Font family 'NanumBarunGothic' not found.\n",
            "WARNING:matplotlib.font_manager:findfont: Font family 'NanumBarunGothic' not found.\n",
            "WARNING:matplotlib.font_manager:findfont: Font family 'NanumBarunGothic' not found.\n",
            "WARNING:matplotlib.font_manager:findfont: Font family 'NanumBarunGothic' not found.\n",
            "WARNING:matplotlib.font_manager:findfont: Font family 'NanumBarunGothic' not found.\n",
            "WARNING:matplotlib.font_manager:findfont: Font family 'NanumBarunGothic' not found.\n",
            "WARNING:matplotlib.font_manager:findfont: Font family 'NanumBarunGothic' not found.\n",
            "WARNING:matplotlib.font_manager:findfont: Font family 'NanumBarunGothic' not found.\n",
            "WARNING:matplotlib.font_manager:findfont: Font family 'NanumBarunGothic' not found.\n",
            "WARNING:matplotlib.font_manager:findfont: Font family 'NanumBarunGothic' not found.\n",
            "WARNING:matplotlib.font_manager:findfont: Font family 'NanumBarunGothic' not found.\n",
            "WARNING:matplotlib.font_manager:findfont: Font family 'NanumBarunGothic' not found.\n",
            "WARNING:matplotlib.font_manager:findfont: Font family 'NanumBarunGothic' not found.\n",
            "WARNING:matplotlib.font_manager:findfont: Font family 'NanumBarunGothic' not found.\n",
            "WARNING:matplotlib.font_manager:findfont: Font family 'NanumBarunGothic' not found.\n",
            "WARNING:matplotlib.font_manager:findfont: Font family 'NanumBarunGothic' not found.\n",
            "WARNING:matplotlib.font_manager:findfont: Font family 'NanumBarunGothic' not found.\n",
            "WARNING:matplotlib.font_manager:findfont: Font family 'NanumBarunGothic' not found.\n",
            "WARNING:matplotlib.font_manager:findfont: Font family 'NanumBarunGothic' not found.\n",
            "WARNING:matplotlib.font_manager:findfont: Font family 'NanumBarunGothic' not found.\n",
            "WARNING:matplotlib.font_manager:findfont: Font family 'NanumBarunGothic' not found.\n",
            "WARNING:matplotlib.font_manager:findfont: Font family 'NanumBarunGothic' not found.\n",
            "WARNING:matplotlib.font_manager:findfont: Font family 'NanumBarunGothic' not found.\n",
            "WARNING:matplotlib.font_manager:findfont: Font family 'NanumBarunGothic' not found.\n",
            "WARNING:matplotlib.font_manager:findfont: Font family 'NanumBarunGothic' not found.\n",
            "WARNING:matplotlib.font_manager:findfont: Font family 'NanumBarunGothic' not found.\n",
            "WARNING:matplotlib.font_manager:findfont: Font family 'NanumBarunGothic' not found.\n",
            "WARNING:matplotlib.font_manager:findfont: Font family 'NanumBarunGothic' not found.\n",
            "WARNING:matplotlib.font_manager:findfont: Font family 'NanumBarunGothic' not found.\n",
            "WARNING:matplotlib.font_manager:findfont: Font family 'NanumBarunGothic' not found.\n",
            "WARNING:matplotlib.font_manager:findfont: Font family 'NanumBarunGothic' not found.\n",
            "WARNING:matplotlib.font_manager:findfont: Font family 'NanumBarunGothic' not found.\n",
            "WARNING:matplotlib.font_manager:findfont: Font family 'NanumBarunGothic' not found.\n"
          ]
        },
        {
          "output_type": "display_data",
          "data": {
            "text/plain": [
              "<Figure size 1200x600 with 1 Axes>"
            ],
            "image/png": "[encoded data removed]"
          },
          "metadata": {}
        },
        {
          "output_type": "stream",
          "name": "stdout",
          "text": [
            "📊 빨간선(예측)이 파란점(실제)의 중간을 지나가면 성공!\n"
          ]
        }
      ],
      "source": [
        "# 실제 주가와 예측선 비교\n",
        "plt.figure(figsize=(12, 6))\n",
        "plt.plot(np.arange(1, 101), 주가, 'bo-', label='실제 주가', alpha=0.5)\n",
        "plt.plot(np.arange(1, 101),\n",
        "         기울기 * np.arange(1, 101) + 절편,\n",
        "         'r-', label='예측선', linewidth=2)\n",
        "\n",
        "plt.xlabel('날짜 (일)', fontsize=12)\n",
        "plt.ylabel('주가 (원)', fontsize=12)\n",
        "plt.title('🎯 실제 주가 vs 딥러닝 예측', fontsize=14)\n",
        "plt.legend(fontsize=12)\n",
        "plt.grid(True, alpha=0.3)\n",
        "plt.show()\n",
        "\n",
        "print(\"📊 빨간선(예측)이 파란점(실제)의 중간을 지나가면 성공!\")"
      ]
    },
    {
      "cell_type": "code",
      "source": [
        "## 🧩 문제 1: 기본 예측 문제\n",
        "\n",
        "print(\"📝 문제 1: 피자 가격 예측\")\n",
        "print(\"피자 크기(인치)로 가격(원)을 예측해보세요\")\n",
        "print()\n",
        "\n",
        "# 문제 데이터\n",
        "피자크기 = [8, 10, 12, 14, 16]\n",
        "피자가격 = [8000, 12000, 16000, 20000, 24000]\n",
        "\n",
        "print(\"주어진 데이터:\")\n",
        "for i in range(len(피자크기)):\n",
        "    print(f\"{피자크기[i]}인치 → {피자가격[i]}원\")\n",
        "\n",
        "print()\n",
        "print(\"💭 예상해보세요: 18인치 피자는 얼마일까요?\")\n"
      ],
      "metadata": {
        "id": "TovjLo4glUyL",
        "colab": {
          "base_uri": "https://localhost:8080/",
          "height": 256
        },
        "outputId": "1b7f7725-9ad1-4c38-dea3-945134db5ac3"
      },
      "execution_count": 14,
      "outputs": [
        {
          "name": "stdout",
          "output_type": "stream",
          "text": [
            "📝 문제 1: 피자 가격 예측\n",
            "피자 크기(인치)로 가격(원)을 예측해보세요\n",
            "\n",
            "주어진 데이터:\n",
            "8인치 → 8000원\n",
            "10인치 → 12000원\n",
            "12인치 → 16000원\n",
            "14인치 → 20000원\n",
            "16인치 → 24000원\n",
            "\n",
            "💭 예상해보세요: 18인치 피자는 얼마일까요?\n",
            "답을 생각해보셨나요? 엔터를 누르세요...1000\n"
          ]
        },
        {
          "output_type": "execute_result",
          "data": {
            "text/plain": [
              "'1000'"
            ],
            "application/vnd.google.colaboratory.intrinsic+json": {
              "type": "string"
            }
          },
          "metadata": {},
          "execution_count": 14
        }
      ]
    },
    {
      "cell_type": "code",
      "source": [
        "# 정답 코드\n",
        "\n",
        "독립_피자 = pd.DataFrame(피자크기)\n",
        "종속_피자 = pd.DataFrame(피자가격)\n",
        "\n",
        "model_피자 = tf.keras.Sequential([\n",
        "    tf.keras.layers.Dense(1, input_shape=[1])\n",
        "])\n",
        "model_피자.compile(loss='mse')\n",
        "\n",
        "model_피자.fit(독립_피자, 종속_피자, epochs=1000, verbose=0)\n",
        "\n",
        "예측가격 = model_피자.predict(np.array([[18]], dtype=float))[0][0]\n",
        "print(f\"✅ 정답: 18인치 피자 예상 가격은 {예측가격:,.0f}원입니다!\")"
      ],
      "metadata": {
        "id": "CLPNfLc6lXeG",
        "colab": {
          "base_uri": "https://localhost:8080/"
        },
        "outputId": "a1f0657e-c3d8-4a3b-8447-4565d08da1ab"
      },
      "execution_count": 28,
      "outputs": [
        {
          "output_type": "stream",
          "name": "stderr",
          "text": [
            "/usr/local/lib/python3.12/dist-packages/keras/src/layers/core/dense.py:93: UserWarning: Do not pass an `input_shape`/`input_dim` argument to a layer. When using Sequential models, prefer using an `Input(shape)` object as the first layer in the model instead.\n",
            "  super().__init__(activity_regularizer=activity_regularizer, **kwargs)\n"
          ]
        },
        {
          "output_type": "stream",
          "name": "stdout",
          "text": [
            "초기 가중치: -1.354426\n",
            "초기 편향: 0.000000\n",
            "\u001b[1m1/1\u001b[0m \u001b[32m━━━━━━━━━━━━━━━━━━━━\u001b[0m\u001b[37m\u001b[0m \u001b[1m0s\u001b[0m 128ms/step\n",
            "✅ 정답: 18인치 피자 예상 가격은 -5원입니다!\n",
            "💡 규칙: 인치당 약 2000원씩 증가하는 패턴이네요!\n",
            "학습 후 가중치: -0.345282\n",
            "학습 후 편향: 1.009130\n"
          ]
        }
      ]
    },
    {
      "cell_type": "markdown",
      "metadata": {
        "id": "1cYU9LX2gcdA"
      },
      "source": [
        "## 📏 Step 3: 오차 이해하기\n",
        "\n",
        "### ❓ 오차란?\n",
        "- 예측값과 실제값의 차이\n",
        "- 오차가 작을수록 좋은 모델!"
      ]
    },
    {
      "cell_type": "code",
      "execution_count": 29,
      "metadata": {
        "colab": {
          "base_uri": "https://localhost:8080/",
          "height": 1000
        },
        "id": "Zz-7mcCNgcdA",
        "outputId": "a3cce4c1-835e-4168-b81e-62b304beafbe"
      },
      "outputs": [
        {
          "output_type": "stream",
          "name": "stdout",
          "text": [
            "\u001b[1m4/4\u001b[0m \u001b[32m━━━━━━━━━━━━━━━━━━━━\u001b[0m\u001b[37m\u001b[0m \u001b[1m0s\u001b[0m 30ms/step\n"
          ]
        },
        {
          "output_type": "stream",
          "name": "stderr",
          "text": [
            "WARNING:matplotlib.font_manager:findfont: Font family 'NanumBarunGothic' not found.\n",
            "WARNING:matplotlib.font_manager:findfont: Font family 'NanumBarunGothic' not found.\n",
            "WARNING:matplotlib.font_manager:findfont: Font family 'NanumBarunGothic' not found.\n",
            "WARNING:matplotlib.font_manager:findfont: Font family 'NanumBarunGothic' not found.\n",
            "WARNING:matplotlib.font_manager:findfont: Font family 'NanumBarunGothic' not found.\n",
            "WARNING:matplotlib.font_manager:findfont: Font family 'NanumBarunGothic' not found.\n",
            "WARNING:matplotlib.font_manager:findfont: Font family 'NanumBarunGothic' not found.\n",
            "WARNING:matplotlib.font_manager:findfont: Font family 'NanumBarunGothic' not found.\n",
            "WARNING:matplotlib.font_manager:findfont: Font family 'NanumBarunGothic' not found.\n",
            "WARNING:matplotlib.font_manager:findfont: Font family 'NanumBarunGothic' not found.\n",
            "/usr/local/lib/python3.12/dist-packages/IPython/core/pylabtools.py:151: UserWarning: Glyph 48712 (\\N{HANGUL SYLLABLE BIN}) missing from font(s) DejaVu Sans.\n",
            "  fig.canvas.print_figure(bytes_io, **kw)\n",
            "/usr/local/lib/python3.12/dist-packages/IPython/core/pylabtools.py:151: UserWarning: Glyph 46020 (\\N{HANGUL SYLLABLE DO}) missing from font(s) DejaVu Sans.\n",
            "  fig.canvas.print_figure(bytes_io, **kw)\n",
            "WARNING:matplotlib.font_manager:findfont: Font family 'NanumBarunGothic' not found.\n",
            "WARNING:matplotlib.font_manager:findfont: Font family 'NanumBarunGothic' not found.\n",
            "/usr/local/lib/python3.12/dist-packages/IPython/core/pylabtools.py:151: UserWarning: Glyph 128202 (\\N{BAR CHART}) missing from font(s) DejaVu Sans.\n",
            "  fig.canvas.print_figure(bytes_io, **kw)\n",
            "/usr/local/lib/python3.12/dist-packages/IPython/core/pylabtools.py:151: UserWarning: Glyph 50696 (\\N{HANGUL SYLLABLE YE}) missing from font(s) DejaVu Sans.\n",
            "  fig.canvas.print_figure(bytes_io, **kw)\n",
            "/usr/local/lib/python3.12/dist-packages/IPython/core/pylabtools.py:151: UserWarning: Glyph 52769 (\\N{HANGUL SYLLABLE CEUG}) missing from font(s) DejaVu Sans.\n",
            "  fig.canvas.print_figure(bytes_io, **kw)\n",
            "/usr/local/lib/python3.12/dist-packages/IPython/core/pylabtools.py:151: UserWarning: Glyph 50724 (\\N{HANGUL SYLLABLE O}) missing from font(s) DejaVu Sans.\n",
            "  fig.canvas.print_figure(bytes_io, **kw)\n",
            "/usr/local/lib/python3.12/dist-packages/IPython/core/pylabtools.py:151: UserWarning: Glyph 52264 (\\N{HANGUL SYLLABLE CA}) missing from font(s) DejaVu Sans.\n",
            "  fig.canvas.print_figure(bytes_io, **kw)\n",
            "/usr/local/lib/python3.12/dist-packages/IPython/core/pylabtools.py:151: UserWarning: Glyph 48516 (\\N{HANGUL SYLLABLE BUN}) missing from font(s) DejaVu Sans.\n",
            "  fig.canvas.print_figure(bytes_io, **kw)\n",
            "/usr/local/lib/python3.12/dist-packages/IPython/core/pylabtools.py:151: UserWarning: Glyph 54252 (\\N{HANGUL SYLLABLE PO}) missing from font(s) DejaVu Sans.\n",
            "  fig.canvas.print_figure(bytes_io, **kw)\n",
            "WARNING:matplotlib.font_manager:findfont: Font family 'NanumBarunGothic' not found.\n",
            "WARNING:matplotlib.font_manager:findfont: Font family 'NanumBarunGothic' not found.\n",
            "WARNING:matplotlib.font_manager:findfont: Font family 'NanumBarunGothic' not found.\n",
            "WARNING:matplotlib.font_manager:findfont: Font family 'NanumBarunGothic' not found.\n",
            "WARNING:matplotlib.font_manager:findfont: Font family 'NanumBarunGothic' not found.\n",
            "WARNING:matplotlib.font_manager:findfont: Font family 'NanumBarunGothic' not found.\n"
          ]
        },
        {
          "output_type": "stream",
          "name": "stdout",
          "text": [
            "📊 오차 분석\n",
            "평균 오차: 12.91원\n",
            "최대 오차: 35.91원\n",
            "최소 오차: 0.40원\n"
          ]
        },
        {
          "output_type": "stream",
          "name": "stderr",
          "text": [
            "/usr/local/lib/python3.12/dist-packages/IPython/core/pylabtools.py:151: UserWarning: Glyph 50896 (\\N{HANGUL SYLLABLE WEON}) missing from font(s) DejaVu Sans.\n",
            "  fig.canvas.print_figure(bytes_io, **kw)\n",
            "WARNING:matplotlib.font_manager:findfont: Font family 'NanumBarunGothic' not found.\n",
            "WARNING:matplotlib.font_manager:findfont: Font family 'NanumBarunGothic' not found.\n",
            "WARNING:matplotlib.font_manager:findfont: Font family 'NanumBarunGothic' not found.\n",
            "WARNING:matplotlib.font_manager:findfont: Font family 'NanumBarunGothic' not found.\n",
            "WARNING:matplotlib.font_manager:findfont: Font family 'NanumBarunGothic' not found.\n",
            "WARNING:matplotlib.font_manager:findfont: Font family 'NanumBarunGothic' not found.\n",
            "WARNING:matplotlib.font_manager:findfont: Font family 'NanumBarunGothic' not found.\n",
            "WARNING:matplotlib.font_manager:findfont: Font family 'NanumBarunGothic' not found.\n",
            "WARNING:matplotlib.font_manager:findfont: Font family 'NanumBarunGothic' not found.\n",
            "WARNING:matplotlib.font_manager:findfont: Font family 'NanumBarunGothic' not found.\n",
            "WARNING:matplotlib.font_manager:findfont: Font family 'NanumBarunGothic' not found.\n",
            "WARNING:matplotlib.font_manager:findfont: Font family 'NanumBarunGothic' not found.\n",
            "WARNING:matplotlib.font_manager:findfont: Font family 'NanumBarunGothic' not found.\n",
            "WARNING:matplotlib.font_manager:findfont: Font family 'NanumBarunGothic' not found.\n",
            "WARNING:matplotlib.font_manager:findfont: Font family 'NanumBarunGothic' not found.\n",
            "WARNING:matplotlib.font_manager:findfont: Font family 'NanumBarunGothic' not found.\n",
            "WARNING:matplotlib.font_manager:findfont: Font family 'NanumBarunGothic' not found.\n",
            "WARNING:matplotlib.font_manager:findfont: Font family 'NanumBarunGothic' not found.\n",
            "WARNING:matplotlib.font_manager:findfont: Font family 'NanumBarunGothic' not found.\n",
            "WARNING:matplotlib.font_manager:findfont: Font family 'NanumBarunGothic' not found.\n",
            "WARNING:matplotlib.font_manager:findfont: Font family 'NanumBarunGothic' not found.\n",
            "WARNING:matplotlib.font_manager:findfont: Font family 'NanumBarunGothic' not found.\n",
            "WARNING:matplotlib.font_manager:findfont: Font family 'NanumBarunGothic' not found.\n",
            "WARNING:matplotlib.font_manager:findfont: Font family 'NanumBarunGothic' not found.\n",
            "WARNING:matplotlib.font_manager:findfont: Font family 'NanumBarunGothic' not found.\n",
            "WARNING:matplotlib.font_manager:findfont: Font family 'NanumBarunGothic' not found.\n",
            "WARNING:matplotlib.font_manager:findfont: Font family 'NanumBarunGothic' not found.\n",
            "WARNING:matplotlib.font_manager:findfont: Font family 'NanumBarunGothic' not found.\n",
            "WARNING:matplotlib.font_manager:findfont: Font family 'NanumBarunGothic' not found.\n",
            "WARNING:matplotlib.font_manager:findfont: Font family 'NanumBarunGothic' not found.\n",
            "WARNING:matplotlib.font_manager:findfont: Font family 'NanumBarunGothic' not found.\n",
            "WARNING:matplotlib.font_manager:findfont: Font family 'NanumBarunGothic' not found.\n",
            "WARNING:matplotlib.font_manager:findfont: Font family 'NanumBarunGothic' not found.\n",
            "WARNING:matplotlib.font_manager:findfont: Font family 'NanumBarunGothic' not found.\n",
            "WARNING:matplotlib.font_manager:findfont: Font family 'NanumBarunGothic' not found.\n"
          ]
        },
        {
          "output_type": "display_data",
          "data": {
            "text/plain": [
              "<Figure size 1000x500 with 1 Axes>"
            ],
            "image/png": "[encoded data removed]"
          },
          "metadata": {}
        },
        {
          "output_type": "stream",
          "name": "stdout",
          "text": [
            "\n",
            "💡 대부분의 오차가 0 근처에 모여있으면 좋은 모델입니다!\n"
          ]
        }
      ],
      "source": [
        "# 모든 날짜의 예측값 구하기\n",
        "예측값_전체 = model.predict(독립)\n",
        "\n",
        "# 오차 계산\n",
        "오차값 = 종속.values - 예측값_전체\n",
        "\n",
        "print(\"📊 오차 분석\")\n",
        "print(f\"평균 오차: {np.mean(np.abs(오차값)):.2f}원\")\n",
        "print(f\"최대 오차: {np.max(np.abs(오차값)):.2f}원\")\n",
        "print(f\"최소 오차: {np.min(np.abs(오차값)):.2f}원\")\n",
        "\n",
        "# 오차 분포 그래프\n",
        "plt.figure(figsize=(10, 5))\n",
        "plt.hist(오차값, bins=20, edgecolor='black', alpha=0.7)\n",
        "plt.xlabel('오차 (원)', fontsize=12)\n",
        "plt.ylabel('빈도', fontsize=12)\n",
        "plt.title('📊 예측 오차 분포', fontsize=14)\n",
        "plt.grid(True, alpha=0.3)\n",
        "plt.show()\n",
        "\n",
        "print(\"\\n💡 대부분의 오차가 0 근처에 모여있으면 좋은 모델입니다!\")"
      ]
    },
    {
      "cell_type": "markdown",
      "metadata": {
        "id": "8v1CDqzugcdA"
      },
      "source": [
        "## 🧮 Step 4: MSE (평균제곱오차) 이해하기\n",
        "\n",
        "### 📐 MSE란?\n",
        "- Mean Squared Error의 약자\n",
        "- 오차를 제곱해서 평균낸 값\n",
        "- **왜 제곱?** 큰 오차를 더 크게 벌주기 위해!"
      ]
    },
    {
      "cell_type": "code",
      "execution_count": 30,
      "metadata": {
        "colab": {
          "base_uri": "https://localhost:8080/"
        },
        "id": "Gq2mNAOVgcdA",
        "outputId": "62c26f6a-30f2-491b-c716-6f95b5acabc3"
      },
      "outputs": [
        {
          "output_type": "stream",
          "name": "stdout",
          "text": [
            "🧮 MSE 계산 과정\n",
            "1️⃣ 각 오차를 제곱\n",
            "   예시: 오차 5 → 5² = 25\n",
            "   예시: 오차 -3 → (-3)² = 9\n",
            "\n",
            "2️⃣ 모든 제곱값을 더함\n",
            "   총합: 24284.12\n",
            "\n",
            "3️⃣ 데이터 개수로 나눔\n",
            "   MSE = 24284.12 ÷ 100 = 242.84\n",
            "\n",
            "💡 MSE가 작을수록 예측이 정확합니다!\n"
          ]
        }
      ],
      "source": [
        "# MSE 직접 계산해보기\n",
        "오차값의제곱 = 오차값 ** 2\n",
        "\n",
        "\n",
        "총합 = float(오차값의제곱.sum())\n",
        "MSE = 총합 / 100\n",
        "\n",
        "print(\"🧮 MSE 계산 과정\")\n",
        "print(\"1️⃣ 각 오차를 제곱\")\n",
        "print(f\"   예시: 오차 5 → 5² = 25\")\n",
        "print(f\"   예시: 오차 -3 → (-3)² = 9\")\n",
        "print(\"\\n2️⃣ 모든 제곱값을 더함\")\n",
        "print(f\"   총합: {총합:.2f}\")\n",
        "print(\"\\n3️⃣ 데이터 개수로 나눔\")\n",
        "print(f\"   MSE = {총합:.2f} ÷ 100 = {MSE:.2f}\")\n",
        "print(\"\\n💡 MSE가 작을수록 예측이 정확합니다!\")"
      ]
    },
    {
      "cell_type": "code",
      "source": [
        "## 🧩 문제 2: 오차 비교 문제\n",
        "\n",
        "print(\"📝 문제 2: 어떤 모델이 더 좋을까요?\")\n",
        "print()\n",
        "\n",
        "# 두 모델의 예측 결과\n",
        "실제값 = [100, 200, 300, 400, 500]\n",
        "모델A_예측 = [95, 205, 290, 410, 495]\n",
        "모델B_예측 = [120, 180, 320, 380, 520]\n",
        "\n",
        "print(\"실제값:\", 실제값)\n",
        "print(\"모델A 예측:\", 모델A_예측)\n",
        "print(\"모델B 예측:\", 모델B_예측)\n",
        "print()\n",
        "print(\"💭 어떤 모델이 더 좋을까요? A? B?\")\n",
        "input(\"생각해보셨나요? 엔터를 누르세요...\")"
      ],
      "metadata": {
        "id": "z4dOgjqillSP",
        "colab": {
          "base_uri": "https://localhost:8080/",
          "height": 182
        },
        "outputId": "72655657-734e-4e61-ad1f-0990c46e06b4"
      },
      "execution_count": 31,
      "outputs": [
        {
          "name": "stdout",
          "output_type": "stream",
          "text": [
            "📝 문제 2: 어떤 모델이 더 좋을까요?\n",
            "\n",
            "실제값: [100, 200, 300, 400, 500]\n",
            "모델A 예측: [95, 205, 290, 410, 495]\n",
            "모델B 예측: [120, 180, 320, 380, 520]\n",
            "\n",
            "💭 어떤 모델이 더 좋을까요? A? B?\n",
            "생각해보셨나요? 엔터를 누르세요...A\n"
          ]
        },
        {
          "output_type": "execute_result",
          "data": {
            "text/plain": [
              "'A'"
            ],
            "application/vnd.google.colaboratory.intrinsic+json": {
              "type": "string"
            }
          },
          "metadata": {},
          "execution_count": 31
        }
      ]
    },
    {
      "cell_type": "code",
      "source": [
        "# 정답 계산\n",
        "오차A = np.mean(np.abs(np.array(실제값) - np.array(모델A_예측)))\n",
        "오차B = np.mean(np.abs(np.array(실제값) - np.array(모델B_예측)))\n",
        "\n",
        "print(f\"✅ 정답:\")\n",
        "print(f\"모델A 평균 오차: {오차A:.1f}\")\n",
        "print(f\"모델B 평균 오차: {오차B:.1f}\")\n",
        "print(f\"{'모델A' if 오차A < 오차B else '모델B'}가 더 좋습니다!\")"
      ],
      "metadata": {
        "id": "Ia9K5Nlmlnnx",
        "colab": {
          "base_uri": "https://localhost:8080/"
        },
        "outputId": "9da9e99b-c3b4-4a1f-dbfc-cc475f55864c"
      },
      "execution_count": 32,
      "outputs": [
        {
          "output_type": "stream",
          "name": "stdout",
          "text": [
            "✅ 정답:\n",
            "모델A 평균 오차: 7.0\n",
            "모델B 평균 오차: 20.0\n",
            "모델A가 더 좋습니다!\n"
          ]
        }
      ]
    },
    {
      "cell_type": "code",
      "source": [
        "## 🧮 수학이 무서운 당신을 위한 쉬운 설명\n",
        "\n",
        "print(\"😰 '수학 무서워요...' 하는 분들을 위한 코너\")\n",
        "print(\"=\"*50)\n",
        "\n",
        "print(\"📐 1. 기울기(가중치)란?\")\n",
        "print(\"   🏔️  가파른 산 = 기울기 큼 = 급격히 변화\")\n",
        "print(\"   🏠  평평한 길 = 기울기 작음 = 천천히 변화\")\n",
        "print()\n",
        "\n",
        "print(\"📊 2. MSE를 왜 제곱할까?\")\n",
        "print(\"   💡 이유 1: 음수를 양수로 만들기 위해\")\n",
        "print(\"        -3 오차 → (-3)² = 9\")\n",
        "print(\"        +3 오차 → (+3)² = 9\")\n",
        "print(\"   💡 이유 2: 큰 오차를 더 크게 벌주기 위해\")\n",
        "print(\"        1 오차 → 1² = 1\")\n",
        "print(\"        10 오차 → 10² = 100 (100배 벌점!)\")\n",
        "print()\n",
        "\n",
        "print(\"🤖 3. 히든레이어가 하는 일\")\n",
        "print(\"   마치 요리사가 재료를 섞는 것처럼\")\n",
        "print(\"   입력 재료들을 섞고 조합해서\")\n",
        "print(\"   더 복잡한 맛(패턴)을 만들어냄\")\n",
        "print()"
      ],
      "metadata": {
        "id": "3vDecZfJlur5"
      },
      "execution_count": null,
      "outputs": []
    },
    {
      "cell_type": "code",
      "source": [
        "# 시각적 예시\n",
        "x = np.linspace(0, 10, 100)\n",
        "기울기_작음 = 0.5 * x + 1\n",
        "기울기_큼 = 3 * x + 1\n",
        "\n",
        "plt.figure(figsize=(10, 4))\n",
        "plt.subplot(1, 2, 1)\n",
        "plt.plot(x, 기울기_작음, 'b-', label='기울기 작음(0.5)')\n",
        "plt.plot(x, 기울기_큼, 'r-', label='기울기 큼(3)')\n",
        "plt.legend()\n",
        "plt.title('기울기 비교')\n",
        "plt.grid(True, alpha=0.3)\n",
        "\n",
        "plt.subplot(1, 2, 2)\n",
        "오차값 = [-3, -1, 1, 3, 5]\n",
        "제곱오차 = [x**2 for x in 오차값]\n",
        "plt.bar(오차값, 제곱오차, alpha=0.7)\n",
        "plt.title('오차 vs 제곱오차')\n",
        "plt.xlabel('오차')\n",
        "plt.ylabel('제곱오차')\n",
        "plt.grid(True, alpha=0.3)\n",
        "\n",
        "plt.tight_layout()\n",
        "plt.show()\n",
        "\n",
        "print(\"✅ 이제 수학이 조금 친근해졌나요?\")"
      ],
      "metadata": {
        "id": "aP3UMqbslx19",
        "colab": {
          "base_uri": "https://localhost:8080/",
          "height": 1000
        },
        "outputId": "adf27295-9be3-4ffe-d826-42f0d53d148e"
      },
      "execution_count": 33,
      "outputs": [
        {
          "output_type": "stream",
          "name": "stderr",
          "text": [
            "WARNING:matplotlib.font_manager:findfont: Font family 'NanumBarunGothic' not found.\n",
            "WARNING:matplotlib.font_manager:findfont: Font family 'NanumBarunGothic' not found.\n",
            "WARNING:matplotlib.font_manager:findfont: Font family 'NanumBarunGothic' not found.\n",
            "WARNING:matplotlib.font_manager:findfont: Font family 'NanumBarunGothic' not found.\n",
            "WARNING:matplotlib.font_manager:findfont: Font family 'NanumBarunGothic' not found.\n",
            "WARNING:matplotlib.font_manager:findfont: Font family 'NanumBarunGothic' not found.\n",
            "WARNING:matplotlib.font_manager:findfont: Font family 'NanumBarunGothic' not found.\n",
            "WARNING:matplotlib.font_manager:findfont: Font family 'NanumBarunGothic' not found.\n",
            "WARNING:matplotlib.font_manager:findfont: Font family 'NanumBarunGothic' not found.\n",
            "WARNING:matplotlib.font_manager:findfont: Font family 'NanumBarunGothic' not found.\n",
            "WARNING:matplotlib.font_manager:findfont: Font family 'NanumBarunGothic' not found.\n",
            "WARNING:matplotlib.font_manager:findfont: Font family 'NanumBarunGothic' not found.\n",
            "WARNING:matplotlib.font_manager:findfont: Font family 'NanumBarunGothic' not found.\n",
            "WARNING:matplotlib.font_manager:findfont: Font family 'NanumBarunGothic' not found.\n",
            "/tmp/ipython-input-3744042370.py:24: UserWarning: Glyph 44592 (\\N{HANGUL SYLLABLE GI}) missing from font(s) DejaVu Sans.\n",
            "  plt.tight_layout()\n",
            "/tmp/ipython-input-3744042370.py:24: UserWarning: Glyph 50872 (\\N{HANGUL SYLLABLE UL}) missing from font(s) DejaVu Sans.\n",
            "  plt.tight_layout()\n",
            "/tmp/ipython-input-3744042370.py:24: UserWarning: Glyph 48708 (\\N{HANGUL SYLLABLE BI}) missing from font(s) DejaVu Sans.\n",
            "  plt.tight_layout()\n",
            "/tmp/ipython-input-3744042370.py:24: UserWarning: Glyph 44368 (\\N{HANGUL SYLLABLE GYO}) missing from font(s) DejaVu Sans.\n",
            "  plt.tight_layout()\n",
            "WARNING:matplotlib.font_manager:findfont: Font family 'NanumBarunGothic' not found.\n",
            "WARNING:matplotlib.font_manager:findfont: Font family 'NanumBarunGothic' not found.\n",
            "/tmp/ipython-input-3744042370.py:24: UserWarning: Glyph 51089 (\\N{HANGUL SYLLABLE JAG}) missing from font(s) DejaVu Sans.\n",
            "  plt.tight_layout()\n",
            "/tmp/ipython-input-3744042370.py:24: UserWarning: Glyph 51020 (\\N{HANGUL SYLLABLE EUM}) missing from font(s) DejaVu Sans.\n",
            "  plt.tight_layout()\n",
            "WARNING:matplotlib.font_manager:findfont: Font family 'NanumBarunGothic' not found.\n",
            "WARNING:matplotlib.font_manager:findfont: Font family 'NanumBarunGothic' not found.\n",
            "/tmp/ipython-input-3744042370.py:24: UserWarning: Glyph 53372 (\\N{HANGUL SYLLABLE KEUM}) missing from font(s) DejaVu Sans.\n",
            "  plt.tight_layout()\n",
            "WARNING:matplotlib.font_manager:findfont: Font family 'NanumBarunGothic' not found.\n",
            "WARNING:matplotlib.font_manager:findfont: Font family 'NanumBarunGothic' not found.\n",
            "/tmp/ipython-input-3744042370.py:24: UserWarning: Glyph 50724 (\\N{HANGUL SYLLABLE O}) missing from font(s) DejaVu Sans.\n",
            "  plt.tight_layout()\n",
            "/tmp/ipython-input-3744042370.py:24: UserWarning: Glyph 52264 (\\N{HANGUL SYLLABLE CA}) missing from font(s) DejaVu Sans.\n",
            "  plt.tight_layout()\n",
            "WARNING:matplotlib.font_manager:findfont: Font family 'NanumBarunGothic' not found.\n",
            "/tmp/ipython-input-3744042370.py:24: UserWarning: Glyph 51228 (\\N{HANGUL SYLLABLE JE}) missing from font(s) DejaVu Sans.\n",
            "  plt.tight_layout()\n",
            "/tmp/ipython-input-3744042370.py:24: UserWarning: Glyph 44273 (\\N{HANGUL SYLLABLE GOB}) missing from font(s) DejaVu Sans.\n",
            "  plt.tight_layout()\n",
            "WARNING:matplotlib.font_manager:findfont: Font family 'NanumBarunGothic' not found.\n",
            "WARNING:matplotlib.font_manager:findfont: Font family 'NanumBarunGothic' not found.\n",
            "WARNING:matplotlib.font_manager:findfont: Font family 'NanumBarunGothic' not found.\n",
            "WARNING:matplotlib.font_manager:findfont: Font family 'NanumBarunGothic' not found.\n",
            "WARNING:matplotlib.font_manager:findfont: Font family 'NanumBarunGothic' not found.\n",
            "WARNING:matplotlib.font_manager:findfont: Font family 'NanumBarunGothic' not found.\n",
            "WARNING:matplotlib.font_manager:findfont: Font family 'NanumBarunGothic' not found.\n",
            "WARNING:matplotlib.font_manager:findfont: Font family 'NanumBarunGothic' not found.\n",
            "WARNING:matplotlib.font_manager:findfont: Font family 'NanumBarunGothic' not found.\n",
            "WARNING:matplotlib.font_manager:findfont: Font family 'NanumBarunGothic' not found.\n",
            "WARNING:matplotlib.font_manager:findfont: Font family 'NanumBarunGothic' not found.\n",
            "WARNING:matplotlib.font_manager:findfont: Font family 'NanumBarunGothic' not found.\n",
            "WARNING:matplotlib.font_manager:findfont: Font family 'NanumBarunGothic' not found.\n",
            "WARNING:matplotlib.font_manager:findfont: Font family 'NanumBarunGothic' not found.\n",
            "WARNING:matplotlib.font_manager:findfont: Font family 'NanumBarunGothic' not found.\n",
            "WARNING:matplotlib.font_manager:findfont: Font family 'NanumBarunGothic' not found.\n",
            "WARNING:matplotlib.font_manager:findfont: Font family 'NanumBarunGothic' not found.\n",
            "WARNING:matplotlib.font_manager:findfont: Font family 'NanumBarunGothic' not found.\n",
            "WARNING:matplotlib.font_manager:findfont: Font family 'NanumBarunGothic' not found.\n",
            "WARNING:matplotlib.font_manager:findfont: Font family 'NanumBarunGothic' not found.\n",
            "WARNING:matplotlib.font_manager:findfont: Font family 'NanumBarunGothic' not found.\n",
            "WARNING:matplotlib.font_manager:findfont: Font family 'NanumBarunGothic' not found.\n",
            "WARNING:matplotlib.font_manager:findfont: Font family 'NanumBarunGothic' not found.\n",
            "/usr/local/lib/python3.12/dist-packages/IPython/core/pylabtools.py:151: UserWarning: Glyph 44592 (\\N{HANGUL SYLLABLE GI}) missing from font(s) DejaVu Sans.\n",
            "  fig.canvas.print_figure(bytes_io, **kw)\n",
            "/usr/local/lib/python3.12/dist-packages/IPython/core/pylabtools.py:151: UserWarning: Glyph 50872 (\\N{HANGUL SYLLABLE UL}) missing from font(s) DejaVu Sans.\n",
            "  fig.canvas.print_figure(bytes_io, **kw)\n",
            "/usr/local/lib/python3.12/dist-packages/IPython/core/pylabtools.py:151: UserWarning: Glyph 48708 (\\N{HANGUL SYLLABLE BI}) missing from font(s) DejaVu Sans.\n",
            "  fig.canvas.print_figure(bytes_io, **kw)\n",
            "/usr/local/lib/python3.12/dist-packages/IPython/core/pylabtools.py:151: UserWarning: Glyph 44368 (\\N{HANGUL SYLLABLE GYO}) missing from font(s) DejaVu Sans.\n",
            "  fig.canvas.print_figure(bytes_io, **kw)\n",
            "WARNING:matplotlib.font_manager:findfont: Font family 'NanumBarunGothic' not found.\n",
            "WARNING:matplotlib.font_manager:findfont: Font family 'NanumBarunGothic' not found.\n",
            "WARNING:matplotlib.font_manager:findfont: Font family 'NanumBarunGothic' not found.\n",
            "WARNING:matplotlib.font_manager:findfont: Font family 'NanumBarunGothic' not found.\n",
            "WARNING:matplotlib.font_manager:findfont: Font family 'NanumBarunGothic' not found.\n",
            "WARNING:matplotlib.font_manager:findfont: Font family 'NanumBarunGothic' not found.\n",
            "WARNING:matplotlib.font_manager:findfont: Font family 'NanumBarunGothic' not found.\n",
            "WARNING:matplotlib.font_manager:findfont: Font family 'NanumBarunGothic' not found.\n",
            "WARNING:matplotlib.font_manager:findfont: Font family 'NanumBarunGothic' not found.\n",
            "WARNING:matplotlib.font_manager:findfont: Font family 'NanumBarunGothic' not found.\n",
            "WARNING:matplotlib.font_manager:findfont: Font family 'NanumBarunGothic' not found.\n",
            "WARNING:matplotlib.font_manager:findfont: Font family 'NanumBarunGothic' not found.\n",
            "WARNING:matplotlib.font_manager:findfont: Font family 'NanumBarunGothic' not found.\n",
            "WARNING:matplotlib.font_manager:findfont: Font family 'NanumBarunGothic' not found.\n",
            "WARNING:matplotlib.font_manager:findfont: Font family 'NanumBarunGothic' not found.\n",
            "WARNING:matplotlib.font_manager:findfont: Font family 'NanumBarunGothic' not found.\n",
            "WARNING:matplotlib.font_manager:findfont: Font family 'NanumBarunGothic' not found.\n",
            "WARNING:matplotlib.font_manager:findfont: Font family 'NanumBarunGothic' not found.\n",
            "WARNING:matplotlib.font_manager:findfont: Font family 'NanumBarunGothic' not found.\n",
            "WARNING:matplotlib.font_manager:findfont: Font family 'NanumBarunGothic' not found.\n",
            "/usr/local/lib/python3.12/dist-packages/IPython/core/pylabtools.py:151: UserWarning: Glyph 51089 (\\N{HANGUL SYLLABLE JAG}) missing from font(s) DejaVu Sans.\n",
            "  fig.canvas.print_figure(bytes_io, **kw)\n",
            "/usr/local/lib/python3.12/dist-packages/IPython/core/pylabtools.py:151: UserWarning: Glyph 51020 (\\N{HANGUL SYLLABLE EUM}) missing from font(s) DejaVu Sans.\n",
            "  fig.canvas.print_figure(bytes_io, **kw)\n",
            "WARNING:matplotlib.font_manager:findfont: Font family 'NanumBarunGothic' not found.\n",
            "WARNING:matplotlib.font_manager:findfont: Font family 'NanumBarunGothic' not found.\n",
            "/usr/local/lib/python3.12/dist-packages/IPython/core/pylabtools.py:151: UserWarning: Glyph 53372 (\\N{HANGUL SYLLABLE KEUM}) missing from font(s) DejaVu Sans.\n",
            "  fig.canvas.print_figure(bytes_io, **kw)\n",
            "WARNING:matplotlib.font_manager:findfont: Font family 'NanumBarunGothic' not found.\n",
            "WARNING:matplotlib.font_manager:findfont: Font family 'NanumBarunGothic' not found.\n",
            "WARNING:matplotlib.font_manager:findfont: Font family 'NanumBarunGothic' not found.\n",
            "WARNING:matplotlib.font_manager:findfont: Font family 'NanumBarunGothic' not found.\n",
            "WARNING:matplotlib.font_manager:findfont: Font family 'NanumBarunGothic' not found.\n",
            "WARNING:matplotlib.font_manager:findfont: Font family 'NanumBarunGothic' not found.\n",
            "WARNING:matplotlib.font_manager:findfont: Font family 'NanumBarunGothic' not found.\n",
            "WARNING:matplotlib.font_manager:findfont: Font family 'NanumBarunGothic' not found.\n",
            "WARNING:matplotlib.font_manager:findfont: Font family 'NanumBarunGothic' not found.\n",
            "WARNING:matplotlib.font_manager:findfont: Font family 'NanumBarunGothic' not found.\n",
            "WARNING:matplotlib.font_manager:findfont: Font family 'NanumBarunGothic' not found.\n",
            "/usr/local/lib/python3.12/dist-packages/IPython/core/pylabtools.py:151: UserWarning: Glyph 51228 (\\N{HANGUL SYLLABLE JE}) missing from font(s) DejaVu Sans.\n",
            "  fig.canvas.print_figure(bytes_io, **kw)\n",
            "/usr/local/lib/python3.12/dist-packages/IPython/core/pylabtools.py:151: UserWarning: Glyph 44273 (\\N{HANGUL SYLLABLE GOB}) missing from font(s) DejaVu Sans.\n",
            "  fig.canvas.print_figure(bytes_io, **kw)\n",
            "WARNING:matplotlib.font_manager:findfont: Font family 'NanumBarunGothic' not found.\n",
            "WARNING:matplotlib.font_manager:findfont: Font family 'NanumBarunGothic' not found.\n",
            "WARNING:matplotlib.font_manager:findfont: Font family 'NanumBarunGothic' not found.\n",
            "WARNING:matplotlib.font_manager:findfont: Font family 'NanumBarunGothic' not found.\n",
            "WARNING:matplotlib.font_manager:findfont: Font family 'NanumBarunGothic' not found.\n",
            "WARNING:matplotlib.font_manager:findfont: Font family 'NanumBarunGothic' not found.\n",
            "WARNING:matplotlib.font_manager:findfont: Font family 'NanumBarunGothic' not found.\n",
            "WARNING:matplotlib.font_manager:findfont: Font family 'NanumBarunGothic' not found.\n",
            "WARNING:matplotlib.font_manager:findfont: Font family 'NanumBarunGothic' not found.\n",
            "WARNING:matplotlib.font_manager:findfont: Font family 'NanumBarunGothic' not found.\n",
            "WARNING:matplotlib.font_manager:findfont: Font family 'NanumBarunGothic' not found.\n",
            "WARNING:matplotlib.font_manager:findfont: Font family 'NanumBarunGothic' not found.\n",
            "WARNING:matplotlib.font_manager:findfont: Font family 'NanumBarunGothic' not found.\n",
            "WARNING:matplotlib.font_manager:findfont: Font family 'NanumBarunGothic' not found.\n",
            "WARNING:matplotlib.font_manager:findfont: Font family 'NanumBarunGothic' not found.\n",
            "WARNING:matplotlib.font_manager:findfont: Font family 'NanumBarunGothic' not found.\n"
          ]
        },
        {
          "output_type": "display_data",
          "data": {
            "text/plain": [
              "<Figure size 1000x400 with 2 Axes>"
            ],
            "image/png": "[encoded data removed]"
          },
          "metadata": {}
        },
        {
          "output_type": "stream",
          "name": "stdout",
          "text": [
            "✅ 이제 수학이 조금 친근해졌나요?\n"
          ]
        }
      ]
    },
    {
      "cell_type": "markdown",
      "metadata": {
        "id": "mvKx0k9_gcdB"
      },
      "source": [
        "## 🎓 Step 5: 최소제곱법 (수학적 배경)\n",
        "\n",
        "### 📚 이론 설명\n",
        "딥러닝 내부에서는 **최소제곱법**이라는 수학적 방법을 사용합니다.\n",
        "\n",
        "**최소제곱법이란?**\n",
        "- 오차의 제곱을 가장 작게 만드는 직선 찾기\n",
        "- 수학 공식이 있지만, 딥러닝이 자동으로 계산해줍니다!\n",
        "\n",
        "### 🎯 직관적 이해\n",
        "여러 점들 사이를 지나는 **가장 적절한 직선**을 찾는 방법"
      ]
    },
    {
      "cell_type": "code",
      "execution_count": 34,
      "metadata": {
        "colab": {
          "base_uri": "https://localhost:8080/"
        },
        "id": "ltQE0vQYgcdB",
        "outputId": "95d4dbd7-c373-42dd-888c-8dcb3a5554f5"
      },
      "outputs": [
        {
          "output_type": "stream",
          "name": "stdout",
          "text": [
            "📐 최소제곱법 공식 (참고만 하세요!)\n",
            "\n",
            "y = ax + b 에서:\n",
            "a = (n×Σxy - Σx×Σy) / (n×Σx² - (Σx)²)\n",
            "b = (Σx²×Σy - Σx×Σxy) / (n×Σx² - (Σx)²)\n",
            "\n",
            "😅 복잡해 보이지만 딥러닝이 알아서 계산합니다!\n",
            "\n",
            "🔍 수학 공식으로 계산한 결과:\n",
            "a (기울기) = 2.014\n",
            "b (절편) = 25.784\n",
            "\n",
            "🤖 딥러닝이 찾은 결과:\n",
            "a (기울기) = 2.343\n",
            "b (절편) = 3.692\n",
            "\n",
            "✅ 거의 같은 값을 찾았습니다!\n"
          ]
        }
      ],
      "source": [
        "# 최소제곱법 공식으로 직접 계산 (참고용)\n",
        "print(\"📐 최소제곱법 공식 (참고만 하세요!)\")\n",
        "print(\"\\ny = ax + b 에서:\")\n",
        "print(\"a = (n×Σxy - Σx×Σy) / (n×Σx² - (Σx)²)\")\n",
        "print(\"b = (Σx²×Σy - Σx×Σxy) / (n×Σx² - (Σx)²)\")\n",
        "print(\"\\n😅 복잡해 보이지만 딥러닝이 알아서 계산합니다!\")\n",
        "\n",
        "# 실제 계산 (이해 안 되어도 괜찮습니다!)\n",
        "n = 100\n",
        "x = 독립.values.flatten()\n",
        "y = 종속.values.flatten()\n",
        "\n",
        "a_계산 = (n * np.sum(x * y) - np.sum(x) * np.sum(y)) / (n * np.sum(x**2) - np.sum(x)**2)\n",
        "b_계산 = (np.sum(x**2) * np.sum(y) - np.sum(x) * np.sum(x * y)) / (n * np.sum(x**2) - np.sum(x)**2)\n",
        "\n",
        "print(f\"\\n🔍 수학 공식으로 계산한 결과:\")\n",
        "print(f\"a (기울기) = {a_계산:.3f}\")\n",
        "print(f\"b (절편) = {b_계산:.3f}\")\n",
        "print(f\"\\n🤖 딥러닝이 찾은 결과:\")\n",
        "print(f\"a (기울기) = {기울기:.3f}\")\n",
        "print(f\"b (절편) = {절편:.3f}\")"
      ]
    },
    {
      "cell_type": "markdown",
      "metadata": {
        "id": "1lfaw0p-gcdB"
      },
      "source": [
        "## 🏗️ Step 6: 히든 레이어 (Hidden Layer) 소개\n",
        "\n",
        "### 🧠 히든 레이어란?\n",
        "- 입력과 출력 사이의 **중간 처리 층**\n",
        "- 복잡한 패턴을 찾기 위한 비밀 무기!\n",
        "\n",
        "### 🍔 햄버거 비유\n",
        "```\n",
        "빵 (입력층)\n",
        "패티 (히든 레이어 1)\n",
        "치즈 (히든 레이어 2)\n",
        "야채 (히든 레이어 3)\n",
        "빵 (출력층)\n",
        "```\n",
        "재료(레이어)가 많을수록 맛있는(정확한) 햄버거(모델)!"
      ]
    },
    {
      "cell_type": "markdown",
      "metadata": {
        "id": "1GoGvTH0gcdB"
      },
      "source": [
        "### 📊 복잡한 데이터 준비"
      ]
    },
    {
      "cell_type": "code",
      "execution_count": 35,
      "metadata": {
        "colab": {
          "base_uri": "https://localhost:8080/",
          "height": 1000
        },
        "id": "ki-PfpDTgcdB",
        "outputId": "1d6b9428-d238-429f-cc55-03408cef811c"
      },
      "outputs": [
        {
          "output_type": "stream",
          "name": "stderr",
          "text": [
            "WARNING:matplotlib.font_manager:findfont: Font family 'NanumBarunGothic' not found.\n",
            "WARNING:matplotlib.font_manager:findfont: Font family 'NanumBarunGothic' not found.\n",
            "WARNING:matplotlib.font_manager:findfont: Font family 'NanumBarunGothic' not found.\n",
            "WARNING:matplotlib.font_manager:findfont: Font family 'NanumBarunGothic' not found.\n",
            "WARNING:matplotlib.font_manager:findfont: Font family 'NanumBarunGothic' not found.\n",
            "WARNING:matplotlib.font_manager:findfont: Font family 'NanumBarunGothic' not found.\n",
            "WARNING:matplotlib.font_manager:findfont: Font family 'NanumBarunGothic' not found.\n",
            "WARNING:matplotlib.font_manager:findfont: Font family 'NanumBarunGothic' not found.\n",
            "WARNING:matplotlib.font_manager:findfont: Font family 'NanumBarunGothic' not found.\n",
            "WARNING:matplotlib.font_manager:findfont: Font family 'NanumBarunGothic' not found.\n",
            "WARNING:matplotlib.font_manager:findfont: Font family 'NanumBarunGothic' not found.\n",
            "WARNING:matplotlib.font_manager:findfont: Font family 'NanumBarunGothic' not found.\n",
            "/usr/local/lib/python3.12/dist-packages/IPython/core/pylabtools.py:151: UserWarning: Glyph 44552 (\\N{HANGUL SYLLABLE GEUM}) missing from font(s) DejaVu Sans.\n",
            "  fig.canvas.print_figure(bytes_io, **kw)\n",
            "/usr/local/lib/python3.12/dist-packages/IPython/core/pylabtools.py:151: UserWarning: Glyph 50529 (\\N{HANGUL SYLLABLE AEG}) missing from font(s) DejaVu Sans.\n",
            "  fig.canvas.print_figure(bytes_io, **kw)\n",
            "/usr/local/lib/python3.12/dist-packages/IPython/core/pylabtools.py:151: UserWarning: Glyph 50613 (\\N{HANGUL SYLLABLE EOG}) missing from font(s) DejaVu Sans.\n",
            "  fig.canvas.print_figure(bytes_io, **kw)\n",
            "WARNING:matplotlib.font_manager:findfont: Font family 'NanumBarunGothic' not found.\n",
            "WARNING:matplotlib.font_manager:findfont: Font family 'NanumBarunGothic' not found.\n"
          ]
        },
        {
          "output_type": "stream",
          "name": "stdout",
          "text": [
            "🏢 가상의 비즈니스 데이터 생성\n",
            "\n"
          ]
        },
        {
          "output_type": "stream",
          "name": "stderr",
          "text": [
            "/usr/local/lib/python3.12/dist-packages/IPython/core/pylabtools.py:151: UserWarning: Glyph 128200 (\\N{CHART WITH UPWARDS TREND}) missing from font(s) DejaVu Sans.\n",
            "  fig.canvas.print_figure(bytes_io, **kw)\n",
            "/usr/local/lib/python3.12/dist-packages/IPython/core/pylabtools.py:151: UserWarning: Glyph 44060 (\\N{HANGUL SYLLABLE GAE}) missing from font(s) DejaVu Sans.\n",
            "  fig.canvas.print_figure(bytes_io, **kw)\n",
            "/usr/local/lib/python3.12/dist-packages/IPython/core/pylabtools.py:151: UserWarning: Glyph 50900 (\\N{HANGUL SYLLABLE WEOL}) missing from font(s) DejaVu Sans.\n",
            "  fig.canvas.print_figure(bytes_io, **kw)\n",
            "/usr/local/lib/python3.12/dist-packages/IPython/core/pylabtools.py:151: UserWarning: Glyph 44036 (\\N{HANGUL SYLLABLE GAN}) missing from font(s) DejaVu Sans.\n",
            "  fig.canvas.print_figure(bytes_io, **kw)\n",
            "/usr/local/lib/python3.12/dist-packages/IPython/core/pylabtools.py:151: UserWarning: Glyph 51592 (\\N{HANGUL SYLLABLE JEU}) missing from font(s) DejaVu Sans.\n",
            "  fig.canvas.print_figure(bytes_io, **kw)\n",
            "/usr/local/lib/python3.12/dist-packages/IPython/core/pylabtools.py:151: UserWarning: Glyph 45768 (\\N{HANGUL SYLLABLE NI}) missing from font(s) DejaVu Sans.\n",
            "  fig.canvas.print_figure(bytes_io, **kw)\n",
            "/usr/local/lib/python3.12/dist-packages/IPython/core/pylabtools.py:151: UserWarning: Glyph 49828 (\\N{HANGUL SYLLABLE SEU}) missing from font(s) DejaVu Sans.\n",
            "  fig.canvas.print_figure(bytes_io, **kw)\n",
            "/usr/local/lib/python3.12/dist-packages/IPython/core/pylabtools.py:151: UserWarning: Glyph 51648 (\\N{HANGUL SYLLABLE JI}) missing from font(s) DejaVu Sans.\n",
            "  fig.canvas.print_figure(bytes_io, **kw)\n",
            "/usr/local/lib/python3.12/dist-packages/IPython/core/pylabtools.py:151: UserWarning: Glyph 54364 (\\N{HANGUL SYLLABLE PYO}) missing from font(s) DejaVu Sans.\n",
            "  fig.canvas.print_figure(bytes_io, **kw)\n",
            "WARNING:matplotlib.font_manager:findfont: Font family 'NanumBarunGothic' not found.\n",
            "WARNING:matplotlib.font_manager:findfont: Font family 'NanumBarunGothic' not found.\n",
            "WARNING:matplotlib.font_manager:findfont: Font family 'NanumBarunGothic' not found.\n",
            "WARNING:matplotlib.font_manager:findfont: Font family 'NanumBarunGothic' not found.\n",
            "WARNING:matplotlib.font_manager:findfont: Font family 'NanumBarunGothic' not found.\n",
            "WARNING:matplotlib.font_manager:findfont: Font family 'NanumBarunGothic' not found.\n",
            "WARNING:matplotlib.font_manager:findfont: Font family 'NanumBarunGothic' not found.\n",
            "WARNING:matplotlib.font_manager:findfont: Font family 'NanumBarunGothic' not found.\n",
            "WARNING:matplotlib.font_manager:findfont: Font family 'NanumBarunGothic' not found.\n",
            "/usr/local/lib/python3.12/dist-packages/IPython/core/pylabtools.py:151: UserWarning: Glyph 47588 (\\N{HANGUL SYLLABLE MAE}) missing from font(s) DejaVu Sans.\n",
            "  fig.canvas.print_figure(bytes_io, **kw)\n",
            "/usr/local/lib/python3.12/dist-packages/IPython/core/pylabtools.py:151: UserWarning: Glyph 52636 (\\N{HANGUL SYLLABLE CUL}) missing from font(s) DejaVu Sans.\n",
            "  fig.canvas.print_figure(bytes_io, **kw)\n",
            "WARNING:matplotlib.font_manager:findfont: Font family 'NanumBarunGothic' not found.\n",
            "WARNING:matplotlib.font_manager:findfont: Font family 'NanumBarunGothic' not found.\n",
            "/usr/local/lib/python3.12/dist-packages/IPython/core/pylabtools.py:151: UserWarning: Glyph 44305 (\\N{HANGUL SYLLABLE GWANG}) missing from font(s) DejaVu Sans.\n",
            "  fig.canvas.print_figure(bytes_io, **kw)\n",
            "/usr/local/lib/python3.12/dist-packages/IPython/core/pylabtools.py:151: UserWarning: Glyph 44256 (\\N{HANGUL SYLLABLE GO}) missing from font(s) DejaVu Sans.\n",
            "  fig.canvas.print_figure(bytes_io, **kw)\n",
            "WARNING:matplotlib.font_manager:findfont: Font family 'NanumBarunGothic' not found.\n",
            "WARNING:matplotlib.font_manager:findfont: Font family 'NanumBarunGothic' not found.\n",
            "/usr/local/lib/python3.12/dist-packages/IPython/core/pylabtools.py:151: UserWarning: Glyph 49692 (\\N{HANGUL SYLLABLE SUN}) missing from font(s) DejaVu Sans.\n",
            "  fig.canvas.print_figure(bytes_io, **kw)\n",
            "/usr/local/lib/python3.12/dist-packages/IPython/core/pylabtools.py:151: UserWarning: Glyph 51061 (\\N{HANGUL SYLLABLE IG}) missing from font(s) DejaVu Sans.\n",
            "  fig.canvas.print_figure(bytes_io, **kw)\n",
            "WARNING:matplotlib.font_manager:findfont: Font family 'NanumBarunGothic' not found.\n",
            "WARNING:matplotlib.font_manager:findfont: Font family 'NanumBarunGothic' not found.\n",
            "WARNING:matplotlib.font_manager:findfont: Font family 'NanumBarunGothic' not found.\n",
            "WARNING:matplotlib.font_manager:findfont: Font family 'NanumBarunGothic' not found.\n",
            "WARNING:matplotlib.font_manager:findfont: Font family 'NanumBarunGothic' not found.\n",
            "WARNING:matplotlib.font_manager:findfont: Font family 'NanumBarunGothic' not found.\n",
            "WARNING:matplotlib.font_manager:findfont: Font family 'NanumBarunGothic' not found.\n",
            "WARNING:matplotlib.font_manager:findfont: Font family 'NanumBarunGothic' not found.\n",
            "WARNING:matplotlib.font_manager:findfont: Font family 'NanumBarunGothic' not found.\n",
            "WARNING:matplotlib.font_manager:findfont: Font family 'NanumBarunGothic' not found.\n",
            "WARNING:matplotlib.font_manager:findfont: Font family 'NanumBarunGothic' not found.\n",
            "WARNING:matplotlib.font_manager:findfont: Font family 'NanumBarunGothic' not found.\n",
            "WARNING:matplotlib.font_manager:findfont: Font family 'NanumBarunGothic' not found.\n",
            "WARNING:matplotlib.font_manager:findfont: Font family 'NanumBarunGothic' not found.\n",
            "WARNING:matplotlib.font_manager:findfont: Font family 'NanumBarunGothic' not found.\n",
            "WARNING:matplotlib.font_manager:findfont: Font family 'NanumBarunGothic' not found.\n",
            "WARNING:matplotlib.font_manager:findfont: Font family 'NanumBarunGothic' not found.\n",
            "WARNING:matplotlib.font_manager:findfont: Font family 'NanumBarunGothic' not found.\n",
            "WARNING:matplotlib.font_manager:findfont: Font family 'NanumBarunGothic' not found.\n",
            "WARNING:matplotlib.font_manager:findfont: Font family 'NanumBarunGothic' not found.\n",
            "WARNING:matplotlib.font_manager:findfont: Font family 'NanumBarunGothic' not found.\n",
            "WARNING:matplotlib.font_manager:findfont: Font family 'NanumBarunGothic' not found.\n",
            "WARNING:matplotlib.font_manager:findfont: Font family 'NanumBarunGothic' not found.\n",
            "WARNING:matplotlib.font_manager:findfont: Font family 'NanumBarunGothic' not found.\n",
            "WARNING:matplotlib.font_manager:findfont: Font family 'NanumBarunGothic' not found.\n",
            "WARNING:matplotlib.font_manager:findfont: Font family 'NanumBarunGothic' not found.\n",
            "WARNING:matplotlib.font_manager:findfont: Font family 'NanumBarunGothic' not found.\n",
            "WARNING:matplotlib.font_manager:findfont: Font family 'NanumBarunGothic' not found.\n",
            "WARNING:matplotlib.font_manager:findfont: Font family 'NanumBarunGothic' not found.\n",
            "WARNING:matplotlib.font_manager:findfont: Font family 'NanumBarunGothic' not found.\n",
            "WARNING:matplotlib.font_manager:findfont: Font family 'NanumBarunGothic' not found.\n",
            "WARNING:matplotlib.font_manager:findfont: Font family 'NanumBarunGothic' not found.\n",
            "WARNING:matplotlib.font_manager:findfont: Font family 'NanumBarunGothic' not found.\n",
            "WARNING:matplotlib.font_manager:findfont: Font family 'NanumBarunGothic' not found.\n",
            "WARNING:matplotlib.font_manager:findfont: Font family 'NanumBarunGothic' not found.\n",
            "WARNING:matplotlib.font_manager:findfont: Font family 'NanumBarunGothic' not found.\n",
            "WARNING:matplotlib.font_manager:findfont: Font family 'NanumBarunGothic' not found.\n",
            "WARNING:matplotlib.font_manager:findfont: Font family 'NanumBarunGothic' not found.\n",
            "WARNING:matplotlib.font_manager:findfont: Font family 'NanumBarunGothic' not found.\n",
            "WARNING:matplotlib.font_manager:findfont: Font family 'NanumBarunGothic' not found.\n",
            "WARNING:matplotlib.font_manager:findfont: Font family 'NanumBarunGothic' not found.\n",
            "WARNING:matplotlib.font_manager:findfont: Font family 'NanumBarunGothic' not found.\n",
            "WARNING:matplotlib.font_manager:findfont: Font family 'NanumBarunGothic' not found.\n",
            "WARNING:matplotlib.font_manager:findfont: Font family 'NanumBarunGothic' not found.\n",
            "WARNING:matplotlib.font_manager:findfont: Font family 'NanumBarunGothic' not found.\n",
            "WARNING:matplotlib.font_manager:findfont: Font family 'NanumBarunGothic' not found.\n",
            "WARNING:matplotlib.font_manager:findfont: Font family 'NanumBarunGothic' not found.\n",
            "WARNING:matplotlib.font_manager:findfont: Font family 'NanumBarunGothic' not found.\n",
            "WARNING:matplotlib.font_manager:findfont: Font family 'NanumBarunGothic' not found.\n",
            "WARNING:matplotlib.font_manager:findfont: Font family 'NanumBarunGothic' not found.\n",
            "WARNING:matplotlib.font_manager:findfont: Font family 'NanumBarunGothic' not found.\n",
            "WARNING:matplotlib.font_manager:findfont: Font family 'NanumBarunGothic' not found.\n",
            "WARNING:matplotlib.font_manager:findfont: Font family 'NanumBarunGothic' not found.\n",
            "WARNING:matplotlib.font_manager:findfont: Font family 'NanumBarunGothic' not found.\n",
            "WARNING:matplotlib.font_manager:findfont: Font family 'NanumBarunGothic' not found.\n",
            "WARNING:matplotlib.font_manager:findfont: Font family 'NanumBarunGothic' not found.\n",
            "WARNING:matplotlib.font_manager:findfont: Font family 'NanumBarunGothic' not found.\n",
            "WARNING:matplotlib.font_manager:findfont: Font family 'NanumBarunGothic' not found.\n",
            "WARNING:matplotlib.font_manager:findfont: Font family 'NanumBarunGothic' not found.\n",
            "WARNING:matplotlib.font_manager:findfont: Font family 'NanumBarunGothic' not found.\n",
            "WARNING:matplotlib.font_manager:findfont: Font family 'NanumBarunGothic' not found.\n",
            "WARNING:matplotlib.font_manager:findfont: Font family 'NanumBarunGothic' not found.\n",
            "WARNING:matplotlib.font_manager:findfont: Font family 'NanumBarunGothic' not found.\n",
            "WARNING:matplotlib.font_manager:findfont: Font family 'NanumBarunGothic' not found.\n",
            "WARNING:matplotlib.font_manager:findfont: Font family 'NanumBarunGothic' not found.\n",
            "WARNING:matplotlib.font_manager:findfont: Font family 'NanumBarunGothic' not found.\n",
            "WARNING:matplotlib.font_manager:findfont: Font family 'NanumBarunGothic' not found.\n",
            "WARNING:matplotlib.font_manager:findfont: Font family 'NanumBarunGothic' not found.\n",
            "WARNING:matplotlib.font_manager:findfont: Font family 'NanumBarunGothic' not found.\n",
            "WARNING:matplotlib.font_manager:findfont: Font family 'NanumBarunGothic' not found.\n",
            "WARNING:matplotlib.font_manager:findfont: Font family 'NanumBarunGothic' not found.\n",
            "WARNING:matplotlib.font_manager:findfont: Font family 'NanumBarunGothic' not found.\n",
            "WARNING:matplotlib.font_manager:findfont: Font family 'NanumBarunGothic' not found.\n",
            "WARNING:matplotlib.font_manager:findfont: Font family 'NanumBarunGothic' not found.\n",
            "WARNING:matplotlib.font_manager:findfont: Font family 'NanumBarunGothic' not found.\n"
          ]
        },
        {
          "output_type": "display_data",
          "data": {
            "text/plain": [
              "<Figure size 1000x600 with 1 Axes>"
            ],
            "image/png": "[encoded data removed]"
          },
          "metadata": {}
        },
        {
          "output_type": "stream",
          "name": "stdout",
          "text": [
            "💡 목표: 매출액과 광고액으로 순익을 예측하기!\n"
          ]
        }
      ],
      "source": [
        "# 더 복잡한 비즈니스 데이터 생성\n",
        "print(\"🏢 가상의 비즈니스 데이터 생성\\n\")\n",
        "\n",
        "매출액 = [2, 5, 10, 20, 40, 80]\n",
        "광고액 = [1, 2, 4, 6, 8, 10]\n",
        "순익 = [1, 1.5, 3, 10, 20, 60]\n",
        "\n",
        "# 데이터 시각화\n",
        "plt.figure(figsize=(10, 6))\n",
        "plt.plot(np.arange(1, 7), 매출액, 'o-', label='매출액', linewidth=2, markersize=8)\n",
        "plt.plot(np.arange(1, 7), 광고액, 's-', label='광고액', linewidth=2, markersize=8)\n",
        "plt.plot(np.arange(1, 7), 순익, '^-', label='순익', linewidth=2, markersize=8)\n",
        "\n",
        "plt.xlabel('월', fontsize=12)\n",
        "plt.ylabel('금액 (억원)', fontsize=12)\n",
        "plt.title('📈 6개월간 비즈니스 지표', fontsize=14)\n",
        "plt.legend(fontsize=12)\n",
        "plt.grid(True, alpha=0.3)\n",
        "plt.show()\n",
        "\n",
        "print(\"💡 목표: 매출액과 광고액으로 순익을 예측하기!\")"
      ]
    },
    {
      "cell_type": "code",
      "execution_count": 36,
      "metadata": {
        "colab": {
          "base_uri": "https://localhost:8080/"
        },
        "id": "G418J7Y2gcdB",
        "outputId": "5ec8a6f9-b8eb-4701-f317-26a04b1f9588"
      },
      "outputs": [
        {
          "output_type": "stream",
          "name": "stdout",
          "text": [
            "📊 데이터 구조\n",
            "\n",
            "독립변수 (입력):\n",
            "   매출액  광고액\n",
            "0    2    1\n",
            "1    5    2\n",
            "2   10    4\n",
            "3   20    6\n",
            "4   40    8\n",
            "5   80   10\n",
            "\n",
            "종속변수 (출력):\n",
            "     순익\n",
            "0   1.0\n",
            "1   1.5\n",
            "2   3.0\n",
            "3  10.0\n",
            "4  20.0\n",
            "5  60.0\n",
            "\n",
            "💡 이제 2개의 정보(매출액, 광고액)를 사용합니다!\n"
          ]
        }
      ],
      "source": [
        "# 데이터 준비\n",
        "독립_복잡 = pd.DataFrame({\n",
        "    '매출액': 매출액,\n",
        "    '광고액': 광고액\n",
        "})\n",
        "종속_복잡 = pd.DataFrame({\n",
        "    '순익': 순익\n",
        "})\n",
        "\n",
        "print(\"📊 데이터 구조\")\n",
        "print(\"\\n독립변수 (입력):\")\n",
        "print(독립_복잡)\n",
        "print(\"\\n종속변수 (출력):\")\n",
        "print(종속_복잡)\n",
        "print(\"\\n💡 이제 2개의 정보(매출액, 광고액)를 사용합니다!\")"
      ]
    },
    {
      "cell_type": "markdown",
      "metadata": {
        "id": "ZTBo30VagcdC"
      },
      "source": [
        "### 🎯 히든 레이어가 있는 모델 만들기"
      ]
    },
    {
      "cell_type": "code",
      "execution_count": 37,
      "metadata": {
        "colab": {
          "base_uri": "https://localhost:8080/"
        },
        "id": "KPYlsHEGgcdC",
        "outputId": "d3a04824-b494-48b6-f0fc-922842b0efb6"
      },
      "outputs": [
        {
          "output_type": "stream",
          "name": "stdout",
          "text": [
            "🏗️ 히든 레이어가 있는 모델 만들기\n",
            "\n",
            "1️⃣ 입력층: 2개의 정보를 받습니다\n",
            "2️⃣ 히든레이어: 3개의 뉴런이 복잡한 패턴을 찾습니다\n",
            "   (뉴런 = 작은 계산 단위)\n",
            "3️⃣ 출력층: 1개의 예측값(순익)을 만듭니다\n",
            "\n",
            "✅ 복잡한 모델 준비 완료!\n"
          ]
        }
      ],
      "source": [
        "# 히든 레이어가 있는 모델 (초보자용 설명)\n",
        "print(\"🏗️ 히든 레이어가 있는 모델 만들기\\n\")\n",
        "\n",
        "# 모델 구조:\n",
        "# 입력(2개) → 히든레이어(3개 뉴런) → 출력(1개)\n",
        "\n",
        "X = tf.keras.layers.Input(shape=[2])  # 2개 입력 (매출액, 광고액)\n",
        "print(\"1️⃣ 입력층: 2개의 정보를 받습니다\")\n",
        "\n",
        "H = tf.keras.layers.Dense(3, activation='swish')(X)  # 히든레이어\n",
        "print(\"2️⃣ 히든레이어: 3개의 뉴런이 복잡한 패턴을 찾습니다\")\n",
        "print(\"   (뉴런 = 작은 계산 단위)\")\n",
        "\n",
        "Y = tf.keras.layers.Dense(1)(H)  # 출력층\n",
        "print(\"3️⃣ 출력층: 1개의 예측값(순익)을 만듭니다\")\n",
        "\n",
        "model_복잡 = tf.keras.models.Model(X, Y)\n",
        "model_복잡.compile(loss='mse')\n",
        "print(\"\\n✅ 복잡한 모델 준비 완료!\")"
      ]
    },
    {
      "cell_type": "code",
      "execution_count": 38,
      "metadata": {
        "colab": {
          "base_uri": "https://localhost:8080/"
        },
        "id": "yB5fgHwJgcdC",
        "outputId": "0e6e1d22-9bea-465d-8c97-44709287a1f0"
      },
      "outputs": [
        {
          "output_type": "stream",
          "name": "stdout",
          "text": [
            "🏃 모델 학습 시작...\n",
            "✅ 학습 완료!\n",
            "\n",
            "Epoch 1/10\n",
            "\u001b[1m1/1\u001b[0m \u001b[32m━━━━━━━━━━━━━━━━━━━━\u001b[0m\u001b[37m\u001b[0m \u001b[1m0s\u001b[0m 32ms/step - loss: 0.8430\n",
            "Epoch 2/10\n",
            "\u001b[1m1/1\u001b[0m \u001b[32m━━━━━━━━━━━━━━━━━━━━\u001b[0m\u001b[37m\u001b[0m \u001b[1m0s\u001b[0m 32ms/step - loss: 0.8427\n",
            "Epoch 3/10\n",
            "\u001b[1m1/1\u001b[0m \u001b[32m━━━━━━━━━━━━━━━━━━━━\u001b[0m\u001b[37m\u001b[0m \u001b[1m0s\u001b[0m 32ms/step - loss: 0.8425\n",
            "Epoch 4/10\n",
            "\u001b[1m1/1\u001b[0m \u001b[32m━━━━━━━━━━━━━━━━━━━━\u001b[0m\u001b[37m\u001b[0m \u001b[1m0s\u001b[0m 33ms/step - loss: 0.8422\n",
            "Epoch 5/10\n",
            "\u001b[1m1/1\u001b[0m \u001b[32m━━━━━━━━━━━━━━━━━━━━\u001b[0m\u001b[37m\u001b[0m \u001b[1m0s\u001b[0m 60ms/step - loss: 0.8419\n",
            "Epoch 6/10\n",
            "\u001b[1m1/1\u001b[0m \u001b[32m━━━━━━━━━━━━━━━━━━━━\u001b[0m\u001b[37m\u001b[0m \u001b[1m0s\u001b[0m 34ms/step - loss: 0.8416\n",
            "Epoch 7/10\n",
            "\u001b[1m1/1\u001b[0m \u001b[32m━━━━━━━━━━━━━━━━━━━━\u001b[0m\u001b[37m\u001b[0m \u001b[1m0s\u001b[0m 35ms/step - loss: 0.8414\n",
            "Epoch 8/10\n",
            "\u001b[1m1/1\u001b[0m \u001b[32m━━━━━━━━━━━━━━━━━━━━\u001b[0m\u001b[37m\u001b[0m \u001b[1m0s\u001b[0m 46ms/step - loss: 0.8411\n",
            "Epoch 9/10\n",
            "\u001b[1m1/1\u001b[0m \u001b[32m━━━━━━━━━━━━━━━━━━━━\u001b[0m\u001b[37m\u001b[0m \u001b[1m0s\u001b[0m 53ms/step - loss: 0.8408\n",
            "Epoch 10/10\n",
            "\u001b[1m1/1\u001b[0m \u001b[32m━━━━━━━━━━━━━━━━━━━━\u001b[0m\u001b[37m\u001b[0m \u001b[1m0s\u001b[0m 59ms/step - loss: 0.8406\n"
          ]
        },
        {
          "output_type": "execute_result",
          "data": {
            "text/plain": [
              "<keras.src.callbacks.history.History at 0x7c21883ba360>"
            ]
          },
          "metadata": {},
          "execution_count": 38
        }
      ],
      "source": [
        "# 모델 학습\n",
        "print(\"🏃 모델 학습 시작...\")\n",
        "model_복잡.fit(독립_복잡, 종속_복잡, epochs=5000, verbose=0)\n",
        "print(\"✅ 학습 완료!\\n\")\n",
        "\n",
        "# 마지막 10번 확인\n",
        "model_복잡.fit(독립_복잡, 종속_복잡, epochs=10)"
      ]
    },
    {
      "cell_type": "code",
      "execution_count": null,
      "metadata": {
        "id": "1okUflQlgcdD"
      },
      "outputs": [],
      "source": [
        "print(\"🔮 새로운 데이터로 예측해보기\\n\")\n",
        "\n",
        "테스트_입력 = np.array([[10, 4]])  # numpy array로 변환\n",
        "예측_순익 = model_복잡.predict(테스트_입력)[0][0]\n",
        "\n",
        "print(f\"입력: 매출액 10억, 광고액 4억\")\n",
        "print(f\"예측 순익: {예측_순익:.2f}억원\")\n",
        "print(\"\\n💡 히든 레이어가 복잡한 관계를 학습했습니다!\")"
      ]
    },
    {
      "cell_type": "code",
      "execution_count": null,
      "metadata": {
        "id": "czOuiKBqgcdD"
      },
      "outputs": [],
      "source": [
        "# 예측 vs 실제 비교\n",
        "예측값_복잡 = model_복잡.predict(독립_복잡)\n",
        "\n",
        "plt.figure(figsize=(10, 6))\n",
        "plt.plot(np.arange(1, 7), 예측값_복잡, 'ro-', label='예측 순익', linewidth=2, markersize=10)\n",
        "plt.plot(np.arange(1, 7), 종속_복잡, 'bo-', label='실제 순익', linewidth=2, markersize=10)\n",
        "\n",
        "plt.xlabel('월', fontsize=12)\n",
        "plt.ylabel('순익 (억원)', fontsize=12)\n",
        "plt.title('🎯 히든 레이어 모델의 예측 성능', fontsize=14)\n",
        "plt.legend(fontsize=12)\n",
        "plt.grid(True, alpha=0.3)\n",
        "\n",
        "# 오차 표시\n",
        "for i in range(6):\n",
        "    plt.plot([i+1, i+1], [예측값_복잡[i][0], 순익[i]], 'k--', alpha=0.3)\n",
        "\n",
        "plt.show()\n",
        "print(\"📊 점선은 예측과 실제의 차이를 보여줍니다\")"
      ]
    },
    {
      "cell_type": "code",
      "source": [
        "## 🧩 문제 3: 히든레이어 설계 문제\n",
        "\n",
        "print(\"📝 문제 3: 모델 설계하기\")\n",
        "print(\"학생의 [수학점수, 영어점수]로 → [과학점수]를 예측\")\n",
        "print()\n",
        "\n",
        "수학점수 = [80, 70, 90, 60, 85]\n",
        "영어점수 = [75, 65, 95, 55, 80]\n",
        "과학점수 = [78, 68, 92, 58, 82]\n",
        "\n",
        "print(\"💭 몇 개의 뉴런이 있는 히든레이어가 필요할까요?\")\n",
        "print(\"1) 2개  2) 5개  3) 10개\")\n",
        "input(\"답을 선택해보세요...\")"
      ],
      "metadata": {
        "id": "LaAN68zkl3Yn"
      },
      "execution_count": null,
      "outputs": []
    },
    {
      "cell_type": "code",
      "source": [
        "# 실험해보기\n",
        "뉴런_옵션 = [2, 5, 10]\n",
        "결과 = []\n",
        "\n",
        "for 뉴런수 in 뉴런_옵션:\n",
        "    독립 = pd.DataFrame({'수학': 수학점수, '영어': 영어점수})\n",
        "    종속 = pd.DataFrame({'과학': 과학점수})\n",
        "\n",
        "    model = tf.keras.Sequential([\n",
        "        tf.keras.layers.Dense(뉴런수, activation='relu', input_shape=[2]),\n",
        "        tf.keras.layers.Dense(1)\n",
        "    ])\n",
        "    model.compile(loss='mse')\n",
        "    model.fit(독립, 종속, epochs=1000, verbose=0)\n",
        "\n",
        "    예측 = model.predict(독립)\n",
        "    오차 = np.mean(np.abs(종속.values - 예측))\n",
        "    결과.append(오차)\n",
        "    print(f\"{뉴런수}개 뉴런: 평균 오차 {오차:.2f}\")\n",
        "\n",
        "최적_뉴런 = 뉴런_옵션[np.argmin(결과)]\n",
        "print(f\"✅ 이 문제에서는 {최적_뉴런}개 뉴런이 가장 좋네요!\")"
      ],
      "metadata": {
        "id": "v_E47gO_l-XD"
      },
      "execution_count": null,
      "outputs": []
    },
    {
      "cell_type": "markdown",
      "metadata": {
        "id": "tIHyKncOgcdD"
      },
      "source": [
        "## 🧪 Step 7: 히든 레이어 실험\n",
        "\n",
        "### 🔬 실험 1: 뉴런 개수 늘리기"
      ]
    },
    {
      "cell_type": "code",
      "execution_count": null,
      "metadata": {
        "id": "kHobWngRgcdD"
      },
      "outputs": [],
      "source": [
        "# 뉴런 개수별 성능 비교\n",
        "print(\"🔬 뉴런 개수를 바꿔가며 실험\\n\")\n",
        "\n",
        "뉴런_개수_리스트 = [2, 5, 10, 20]\n",
        "결과_저장 = []\n",
        "\n",
        "for 뉴런수 in 뉴런_개수_리스트:\n",
        "    # 모델 만들기\n",
        "    X = tf.keras.layers.Input(shape=[2])\n",
        "    H = tf.keras.layers.Dense(뉴런수, activation='swish')(X)\n",
        "    Y = tf.keras.layers.Dense(1)(H)\n",
        "    model_실험 = tf.keras.models.Model(X, Y)\n",
        "    model_실험.compile(loss='mse')\n",
        "\n",
        "    # 학습\n",
        "    model_실험.fit(독립_복잡, 종속_복잡, epochs=5000, verbose=0)\n",
        "\n",
        "    # 예측\n",
        "    예측 = model_실험.predict(독립_복잡)\n",
        "    오차 = np.mean(np.abs(종속_복잡.values - 예측))\n",
        "    결과_저장.append(오차)\n",
        "\n",
        "    print(f\"뉴런 {뉴런수:2d}개: 평균 오차 = {오차:.3f}억원\")\n",
        "\n",
        "print(\"\\n💡 뉴런이 많다고 항상 좋은 것은 아닙니다!\")\n",
        "print(\"   적절한 개수를 찾는 것이 중요해요.\")"
      ]
    },
    {
      "cell_type": "markdown",
      "metadata": {
        "id": "XTlhaVH5gcdD"
      },
      "source": [
        "### 🔬 실험 2: 히든 레이어 층수 늘리기"
      ]
    },
    {
      "cell_type": "code",
      "execution_count": null,
      "metadata": {
        "id": "MtB1Gj51gcdD"
      },
      "outputs": [],
      "source": [
        "# 히든 레이어 2개 쌓기\n",
        "print(\"🏗️ 히든 레이어를 2개 쌓아봅시다\\n\")\n",
        "\n",
        "X = tf.keras.layers.Input(shape=[2])\n",
        "H1 = tf.keras.layers.Dense(5, activation='swish')(X)   # 첫 번째 히든레이어\n",
        "H2 = tf.keras.layers.Dense(5, activation='swish')(H1)  # 두 번째 히든레이어\n",
        "Y = tf.keras.layers.Dense(1)(H2)\n",
        "\n",
        "model_깊은 = tf.keras.models.Model(X, Y)\n",
        "model_깊은.compile(loss='mse')\n",
        "\n",
        "print(\"모델 구조:\")\n",
        "print(\"입력(2) → 히든1(5) → 히든2(5) → 출력(1)\")\n",
        "print(\"\\n🏃 학습 중...\")\n",
        "\n",
        "model_깊은.fit(독립_복잡, 종속_복잡, epochs=5000, verbose=0)\n",
        "print(\"✅ 학습 완료!\")\n",
        "\n",
        "# 성능 확인\n",
        "예측_깊은 = model_깊은.predict(독립_복잡)\n",
        "오차_깊은 = np.mean(np.abs(종속_복잡.values - 예측_깊은))\n",
        "print(f\"\\n평균 오차: {오차_깊은:.3f}억원\")\n",
        "print(\"\\n💡 층이 깊을수록 복잡한 패턴을 학습할 수 있습니다!\")"
      ]
    },
    {
      "cell_type": "markdown",
      "metadata": {
        "id": "PAvS9IkYgcdD"
      },
      "source": [
        "## 🌊 Step 8: 매우 복잡한 데이터 다루기\n",
        "\n",
        "### 🎢 실제와 비슷한 복잡한 데이터"
      ]
    },
    {
      "cell_type": "code",
      "execution_count": null,
      "metadata": {
        "id": "JTw-wVhYgcdD"
      },
      "outputs": [],
      "source": [
        "# 매우 복잡한 데이터 생성 (100개 데이터포인트)\n",
        "print(\"🌊 실제와 비슷한 복잡한 데이터 생성\\n\")\n",
        "\n",
        "np.random.seed(42)  # 재현 가능한 랜덤\n",
        "\n",
        "# 계절성과 트렌드가 있는 복잡한 데이터\n",
        "광고액_복잡 = [np.random.randint(10, 50) + np.log(i*5) * 50 for i in range(1, 101)]\n",
        "계절성 = [np.sin(i/3)*100 + i*3 + j*2 for i, j in zip(np.arange(1, 101), 광고액_복잡)]\n",
        "매출액_복잡 = [i**(np.log(np.log(i+1)+1)) + j for i, j in zip(np.arange(1, 101), 계절성)]\n",
        "\n",
        "# 시각화\n",
        "plt.figure(figsize=(14, 6))\n",
        "plt.subplot(1, 2, 1)\n",
        "plt.plot(매출액_복잡, 'b-', alpha=0.7)\n",
        "plt.title('매출액 추이 (복잡한 패턴)', fontsize=12)\n",
        "plt.xlabel('기간')\n",
        "plt.ylabel('매출액')\n",
        "plt.grid(True, alpha=0.3)\n",
        "\n",
        "plt.subplot(1, 2, 2)\n",
        "plt.scatter(광고액_복잡, 매출액_복잡, alpha=0.5)\n",
        "plt.title('광고액 vs 매출액', fontsize=12)\n",
        "plt.xlabel('광고액')\n",
        "plt.ylabel('매출액')\n",
        "plt.grid(True, alpha=0.3)\n",
        "\n",
        "plt.tight_layout()\n",
        "plt.show()\n",
        "\n",
        "print(\"📊 매우 복잡한 비선형 관계를 가진 데이터입니다!\")"
      ]
    },
    {
      "cell_type": "code",
      "execution_count": null,
      "metadata": {
        "id": "OqLTAXingcdE"
      },
      "outputs": [],
      "source": [
        "# 복잡한 데이터용 딥러닝 모델\n",
        "독립_매우복잡 = pd.DataFrame({\n",
        "    '계절성': 계절성,\n",
        "    '광고액': 광고액_복잡\n",
        "})\n",
        "종속_매우복잡 = pd.DataFrame({\n",
        "    '매출액': 매출액_복잡\n",
        "})\n",
        "\n",
        "print(\"🏗️ 복잡한 패턴을 위한 깊은 신경망 구축\\n\")\n",
        "\n",
        "# 깊고 넓은 신경망\n",
        "X = tf.keras.layers.Input(shape=[2])\n",
        "H = tf.keras.layers.Dense(50, activation='swish')(X)\n",
        "H = tf.keras.layers.Dense(30, activation='swish')(H)\n",
        "H = tf.keras.layers.Dense(20, activation='swish')(H)\n",
        "Y = tf.keras.layers.Dense(1)(H)\n",
        "\n",
        "model_매우복잡 = tf.keras.models.Model(X, Y)\n",
        "model_매우복잡.compile(loss='mse', optimizer='adam')\n",
        "\n",
        "print(\"모델 구조:\")\n",
        "print(\"입력(2) → 50뉴런 → 30뉴런 → 20뉴런 → 출력(1)\")\n",
        "print(\"\\n🏃 학습 중... (시간이 좀 걸립니다)\")\n",
        "\n",
        "history = model_매우복잡.fit(독립_매우복잡, 종속_매우복잡,\n",
        "                        epochs=1000, verbose=0,\n",
        "                        validation_split=0.2)  # 20%는 검증용\n",
        "\n",
        "print(\"✅ 학습 완료!\")"
      ]
    },
    {
      "cell_type": "code",
      "execution_count": null,
      "metadata": {
        "id": "m_zuciqIgcdE"
      },
      "outputs": [],
      "source": [
        "# 학습 과정 시각화\n",
        "plt.figure(figsize=(12, 5))\n",
        "\n",
        "plt.subplot(1, 2, 1)\n",
        "plt.plot(history.history['loss'], label='훈련 손실')\n",
        "plt.plot(history.history['val_loss'], label='검증 손실')\n",
        "plt.xlabel('에폭')\n",
        "plt.ylabel('손실(MSE)')\n",
        "plt.title('학습 과정', fontsize=12)\n",
        "plt.legend()\n",
        "plt.grid(True, alpha=0.3)\n",
        "\n",
        "# 예측 결과\n",
        "예측_매우복잡 = model_매우복잡.predict(독립_매우복잡)\n",
        "\n",
        "plt.subplot(1, 2, 2)\n",
        "plt.plot(np.arange(1, 101), 매출액_복잡, 'b-', label='실제', alpha=0.7)\n",
        "plt.plot(np.arange(1, 101), 예측_매우복잡, 'r-', label='예측', alpha=0.7)\n",
        "plt.xlabel('기간')\n",
        "plt.ylabel('매출액')\n",
        "plt.title('복잡한 패턴 예측 결과', fontsize=12)\n",
        "plt.legend()\n",
        "plt.grid(True, alpha=0.3)\n",
        "\n",
        "plt.tight_layout()\n",
        "plt.show()\n",
        "\n",
        "오차율 = np.mean(np.abs((종속_매우복잡.values - 예측_매우복잡) / 종속_매우복잡.values)) * 100\n",
        "print(f\"\\n📊 평균 예측 오차율: {오차율:.1f}%\")\n",
        "print(\"\\n💡 복잡한 패턴도 딥러닝으로 학습 가능합니다!\")"
      ]
    },
    {
      "cell_type": "code",
      "source": [
        "## ✅ 최종 실력 체크 문제\n",
        "\n",
        "print(\"🎯 졸업시험: 종합 문제\")\n",
        "print(\"=\"*50)\n",
        "\n",
        "print(\"🏪 상황: 편의점 매출 예측\")\n",
        "print(\"조건: [날씨점수(1-5), 요일(1-7)] → 매출액\")\n",
        "\n",
        "# 문제 데이터\n",
        "날씨점수 = [3, 5, 2, 4, 1, 5, 3, 4, 2, 5]  # 1:최악, 5:최고\n",
        "요일 = [1, 2, 3, 4, 5, 6, 7, 1, 2, 3]        # 1:월요일, 7:일요일\n",
        "매출액 = [50, 80, 30, 70, 20, 120, 60, 65, 35, 85]\n",
        "\n",
        "print(\"\\n📋 해야할 일:\")\n",
        "체크리스트 = [\n",
        "    \"1. 데이터를 pandas DataFrame으로 만들기\",\n",
        "    \"2. 히든레이어 1개(5개 뉴런) 모델 만들기\",\n",
        "    \"3. 1000번 학습시키기\",\n",
        "    \"4. 날씨점수=4, 요일=6(토요일)일 때 매출 예측하기\"\n",
        "]\n",
        "\n",
        "for 할일 in 체크리스트:\n",
        "    print(f\"□ {할일}\")\n",
        "\n",
        "print(\"\\n💪 도전해보세요!\")\n",
        "\n"
      ],
      "metadata": {
        "id": "rbUTSjuSmJ2O"
      },
      "execution_count": null,
      "outputs": []
    },
    {
      "cell_type": "code",
      "source": [
        "# 정답 코드\n",
        "독립_편의점 = pd.DataFrame({\n",
        "    '날씨점수': 날씨점수,\n",
        "    '요일': 요일\n",
        "})\n",
        "종속_편의점 = pd.DataFrame({\n",
        "    '매출액': 매출액\n",
        "})\n",
        "\n",
        "model_편의점 = tf.keras.Sequential([\n",
        "    tf.keras.layers.Dense(5, activation='relu', input_shape=[2]),\n",
        "    tf.keras.layers.Dense(1)\n",
        "])\n",
        "\n",
        "model_편의점.compile(loss='mse')\n",
        "model_편의점.fit(독립_편의점, 종속_편의점, epochs=1000, verbose=0)\n",
        "\n",
        "토요일_예측 = model_편의점.predict([[4, 6]])[0][0]\n",
        "\n",
        "print(f\"✅ 정답: 날씨점수 4, 토요일 매출 예상 = {토요일_예측:.0f}만원\")\n",
        "print(\"🎉 축하합니다! 딥러닝 기초를 마스터했어요!\")\n",
        "\n",
        "# 성과 확인\n",
        "전체_예측 = model_편의점.predict(독립_편의점)\n",
        "정확도 = 100 - np.mean(np.abs(종속_편의점.values - 전체_예측) / 종속_편의점.values * 100)\n",
        "print(f\"📊 당신의 모델 정확도: {정확도:.1f}%\")\n",
        "\n",
        "if 정확도 > 80:\n",
        "    print(\"🏆 우수! 딥러닝 마스터!\")\n",
        "elif 정확도 > 60:\n",
        "    print(\"👍 양호! 기본기 탄탄!\")\n",
        "else:\n",
        "    print(\"📚 더 연습이 필요해요!\")"
      ],
      "metadata": {
        "id": "c9I986PAmVck"
      },
      "execution_count": null,
      "outputs": []
    },
    {
      "cell_type": "markdown",
      "metadata": {
        "id": "j_MyTqBGgcdE"
      },
      "source": [
        "## 🎓 핵심 정리와 다음 단계\n",
        "\n",
        "### ✅ 오늘 배운 내용\n",
        "1. **딥러닝 기초**: 컴퓨터가 패턴을 스스로 학습\n",
        "2. **데이터 준비**: 독립변수(입력)와 종속변수(출력)\n",
        "3. **모델 구축**: 입력층 → (히든레이어) → 출력층\n",
        "4. **학습 과정**: 반복 학습으로 오차 줄이기\n",
        "5. **히든 레이어**: 복잡한 패턴을 위한 중간 처리층\n",
        "\n",
        "### 📚 추천 학습 경로\n",
        "1. **다음 단계**:\n",
        "   - CNN (이미지 인식)\n",
        "   - RNN (시계열 데이터)\n",
        "   - 실제 데이터셋 활용\n",
        "\n",
        "2. **연습 과제**:\n",
        "   - 자신만의 데이터로 예측 모델 만들기\n",
        "   - 히든 레이어 개수/뉴런 수 실험\n",
        "   - 다양한 활성화 함수 시도\n",
        "\n",
        "### 💡 기억할 핵심 개념\n",
        "- **과적합 주의**: 훈련 데이터에만 너무 잘 맞추면 새 데이터 예측 실패\n",
        "- **적절한 복잡도**: 문제에 맞는 모델 크기 선택\n",
        "- **실험과 반복**: 최적의 모델은 여러 시도를 통해 발견\n",
        "\n",
        "### 🚀 실무 팁\n",
        "- 히든레이어: 보통 1~4개 사용\n",
        "- 뉴런 수: 보통 10~200개 사용\n",
        "- 데이터가 많을수록 복잡한 모델 가능\n",
        "- 항상 검증 데이터로 성능 확인!\n",
        "\n",
        "### 📖 추가 학습 자료\n",
        "- TensorFlow 공식 튜토리얼\n",
        "- Keras 문서\n",
        "- 3Blue1Brown 유튜브 (시각적 설명)\n",
        "- 제주코딩베이스캠프 유튜브\n",
        "\n",
        "---\n",
        "🎉 **축하합니다! 딥러닝의 첫 걸음을 성공적으로 떼셨습니다!**"
      ]
    }
  ],
  "metadata": {
    "kernelspec": {
      "display_name": "Python 3",
      "name": "python3"
    },
    "language_info": {
      "codemirror_mode": {
        "name": "ipython",
        "version": 3
      },
      "file_extension": ".py",
      "mimetype": "text/x-python",
      "name": "python",
      "nbconvert_exporter": "python",
      "pygments_lexer": "ipython3",
      "version": "3.12.8"
    },
    "colab": {
      "provenance": [],
      "gpuType": "T4"
    },
    "accelerator": "GPU"
  },
  "nbformat": 4,
  "nbformat_minor": 0
}